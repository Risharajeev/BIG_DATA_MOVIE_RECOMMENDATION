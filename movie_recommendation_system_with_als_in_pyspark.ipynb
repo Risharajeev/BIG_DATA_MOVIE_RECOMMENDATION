{
  "cells": [
    {
      "cell_type": "code",
      "execution_count": null,
      "metadata": {
        "_kg_hide-input": true,
        "_kg_hide-output": true,
        "id": "cYPClDTWBV58",
        "outputId": "2eb56467-afd5-48e3-a29a-df8861b68e74",
        "colab": {
          "base_uri": "https://localhost:8080/",
          "height": 17
        }
      },
      "outputs": [
        {
          "output_type": "display_data",
          "data": {
            "text/plain": [
              "<IPython.core.display.HTML object>"
            ],
            "text/html": [
              "<style type=\"text/css\">\n",
              "\n",
              "div.h2 {\n",
              "    background-color: #3E5AE6;\n",
              "    background-image: linear-gradient(120deg, #3E5AE6, #A37CE6);\n",
              "    text-align: left;\n",
              "    color: white;\n",
              "    padding:9px;\n",
              "    padding-right: 100px;\n",
              "    font-size: 20px;\n",
              "    max-width: 1500px;\n",
              "    margin: auto;\n",
              "    margin-top: 40px;\n",
              "}\n",
              "\n",
              "body {\n",
              "  font-size: 12px;\n",
              "}\n",
              "\n",
              "div.h3 {\n",
              "    color: #3E5AE6;\n",
              "    font-size: 18px;\n",
              "    margin-top: 20px;\n",
              "    margin-bottom:4px;\n",
              "}\n",
              "\n",
              "div.h4 {\n",
              "    color: #159957;\n",
              "    font-size: 15px;\n",
              "    margin-top: 20px;\n",
              "    margin-bottom: 8px;\n",
              "}\n",
              "\n",
              "span.note {\n",
              "    font-size: 5;\n",
              "    color: gray;\n",
              "    font-style: italic;\n",
              "}\n",
              "\n",
              "hr {\n",
              "    display: block;\n",
              "    color: gray\n",
              "    height: 1px;\n",
              "    border: 0;\n",
              "    border-top: 1px solid;\n",
              "}\n",
              "\n",
              "\n",
              "hr.light {\n",
              "    display: block;\n",
              "    color: lightgray\n",
              "    height: 1px;\n",
              "    border: 0;\n",
              "    border-top: 1px solid;\n",
              "}\n",
              "\n",
              "table.dataframe th\n",
              "{\n",
              "    border: 1px darkgray solid;\n",
              "    color: black;\n",
              "    background-color: white;\n",
              "}\n",
              "\n",
              "table.dataframe td\n",
              "{\n",
              "    border: 1px darkgray solid;\n",
              "    color: black;\n",
              "    background-color: white;\n",
              "    font-size: 14px;\n",
              "    text-align: center;\n",
              "}\n",
              "\n",
              "table.rules th\n",
              "{\n",
              "    border: 1px darkgray solid;\n",
              "    color: black;\n",
              "    background-color: white;\n",
              "    font-size: 14px;\n",
              "}\n",
              "\n",
              "table.rules td\n",
              "{\n",
              "    border: 1px darkgray solid;\n",
              "    color: black;\n",
              "    background-color: white;\n",
              "    font-size: 13px;\n",
              "    text-align: center;\n",
              "}\n",
              "\n",
              "\n",
              "table.rules tr.best\n",
              "{\n",
              "    color: green;\n",
              "}\n",
              "\n",
              ".output {\n",
              "    align-items: center;\n",
              "}\n",
              "\n",
              ".output_png {\n",
              "    display: table-cell;\n",
              "    text-align: center;\n",
              "    margin:auto;\n",
              "}\n",
              "\n",
              "</style>\n"
            ]
          },
          "metadata": {}
        }
      ],
      "source": [
        "%%HTML\n",
        "<style type=\"text/css\">\n",
        "\n",
        "div.h2 {\n",
        "    background-color: #3E5AE6;\n",
        "    background-image: linear-gradient(120deg, #3E5AE6, #A37CE6);\n",
        "    text-align: left;\n",
        "    color: white;\n",
        "    padding:9px;\n",
        "    padding-right: 100px;\n",
        "    font-size: 20px;\n",
        "    max-width: 1500px;\n",
        "    margin: auto;\n",
        "    margin-top: 40px;\n",
        "}\n",
        "\n",
        "body {\n",
        "  font-size: 12px;\n",
        "}\n",
        "\n",
        "div.h3 {\n",
        "    color: #3E5AE6;\n",
        "    font-size: 18px;\n",
        "    margin-top: 20px;\n",
        "    margin-bottom:4px;\n",
        "}\n",
        "\n",
        "div.h4 {\n",
        "    color: #159957;\n",
        "    font-size: 15px;\n",
        "    margin-top: 20px;\n",
        "    margin-bottom: 8px;\n",
        "}\n",
        "\n",
        "span.note {\n",
        "    font-size: 5;\n",
        "    color: gray;\n",
        "    font-style: italic;\n",
        "}\n",
        "\n",
        "hr {\n",
        "    display: block;\n",
        "    color: gray\n",
        "    height: 1px;\n",
        "    border: 0;\n",
        "    border-top: 1px solid;\n",
        "}\n",
        "\n",
        "\n",
        "hr.light {\n",
        "    display: block;\n",
        "    color: lightgray\n",
        "    height: 1px;\n",
        "    border: 0;\n",
        "    border-top: 1px solid;\n",
        "}\n",
        "\n",
        "table.dataframe th\n",
        "{\n",
        "    border: 1px darkgray solid;\n",
        "    color: black;\n",
        "    background-color: white;\n",
        "}\n",
        "\n",
        "table.dataframe td\n",
        "{\n",
        "    border: 1px darkgray solid;\n",
        "    color: black;\n",
        "    background-color: white;\n",
        "    font-size: 14px;\n",
        "    text-align: center;\n",
        "}\n",
        "\n",
        "table.rules th\n",
        "{\n",
        "    border: 1px darkgray solid;\n",
        "    color: black;\n",
        "    background-color: white;\n",
        "    font-size: 14px;\n",
        "}\n",
        "\n",
        "table.rules td\n",
        "{\n",
        "    border: 1px darkgray solid;\n",
        "    color: black;\n",
        "    background-color: white;\n",
        "    font-size: 13px;\n",
        "    text-align: center;\n",
        "}\n",
        "\n",
        "\n",
        "table.rules tr.best\n",
        "{\n",
        "    color: green;\n",
        "}\n",
        "\n",
        ".output {\n",
        "    align-items: center;\n",
        "}\n",
        "\n",
        ".output_png {\n",
        "    display: table-cell;\n",
        "    text-align: center;\n",
        "    margin:auto;\n",
        "}\n",
        "\n",
        "</style>"
      ]
    },
    {
      "cell_type": "markdown",
      "metadata": {
        "id": "PkR_XrzhBV6A"
      },
      "source": [
        "<center><iframe src='https://gfycat.com/ifr/AngelicAgonizingEidolonhelvum' frameborder='0' scrolling='no' allowfullscreen width='640' height='412'></iframe></center>"
      ]
    },
    {
      "cell_type": "code",
      "execution_count": null,
      "metadata": {
        "_kg_hide-input": true,
        "_kg_hide-output": true,
        "id": "puylDhhCBV6B",
        "outputId": "501e44b8-9bf6-4d9b-bdd7-73997b601e0e",
        "colab": {
          "base_uri": "https://localhost:8080/"
        }
      },
      "outputs": [
        {
          "output_type": "stream",
          "name": "stdout",
          "text": [
            "Requirement already satisfied: vega_datasets in /usr/local/lib/python3.10/dist-packages (0.9.0)\n",
            "Requirement already satisfied: notebook in /usr/local/lib/python3.10/dist-packages (6.4.8)\n",
            "Collecting notebook\n",
            "  Downloading notebook-6.5.4-py3-none-any.whl (529 kB)\n",
            "\u001b[2K     \u001b[90m━━━━━━━━━━━━━━━━━━━━━━━━━━━━━━━━━━━━━━\u001b[0m \u001b[32m529.8/529.8 kB\u001b[0m \u001b[31m10.4 MB/s\u001b[0m eta \u001b[36m0:00:00\u001b[0m\n",
            "\u001b[?25hCollecting vega\n",
            "  Downloading vega-4.0.0-py3-none-any.whl (3.1 MB)\n",
            "\u001b[2K     \u001b[90m━━━━━━━━━━━━━━━━━━━━━━━━━━━━━━━━━━━━━━━━\u001b[0m \u001b[32m3.1/3.1 MB\u001b[0m \u001b[31m80.3 MB/s\u001b[0m eta \u001b[36m0:00:00\u001b[0m\n",
            "\u001b[?25hRequirement already satisfied: pandas in /usr/local/lib/python3.10/dist-packages (from vega_datasets) (1.5.3)\n",
            "Requirement already satisfied: jinja2 in /usr/local/lib/python3.10/dist-packages (from notebook) (3.1.2)\n",
            "Requirement already satisfied: tornado>=6.1 in /usr/local/lib/python3.10/dist-packages (from notebook) (6.3.1)\n",
            "Requirement already satisfied: pyzmq>=17 in /usr/local/lib/python3.10/dist-packages (from notebook) (23.2.1)\n",
            "Requirement already satisfied: argon2-cffi in /usr/local/lib/python3.10/dist-packages (from notebook) (21.3.0)\n",
            "Requirement already satisfied: traitlets>=4.2.1 in /usr/local/lib/python3.10/dist-packages (from notebook) (5.7.1)\n",
            "Requirement already satisfied: jupyter-core>=4.6.1 in /usr/local/lib/python3.10/dist-packages (from notebook) (5.3.1)\n",
            "Requirement already satisfied: jupyter-client>=5.3.4 in /usr/local/lib/python3.10/dist-packages (from notebook) (6.1.12)\n",
            "Requirement already satisfied: ipython-genutils in /usr/local/lib/python3.10/dist-packages (from notebook) (0.2.0)\n",
            "Requirement already satisfied: nbformat in /usr/local/lib/python3.10/dist-packages (from notebook) (5.9.0)\n",
            "Requirement already satisfied: nbconvert>=5 in /usr/local/lib/python3.10/dist-packages (from notebook) (6.5.4)\n",
            "Requirement already satisfied: nest-asyncio>=1.5 in /usr/local/lib/python3.10/dist-packages (from notebook) (1.5.6)\n",
            "Requirement already satisfied: ipykernel in /usr/local/lib/python3.10/dist-packages (from notebook) (5.5.6)\n",
            "Requirement already satisfied: Send2Trash>=1.8.0 in /usr/local/lib/python3.10/dist-packages (from notebook) (1.8.2)\n",
            "Requirement already satisfied: terminado>=0.8.3 in /usr/local/lib/python3.10/dist-packages (from notebook) (0.17.1)\n",
            "Requirement already satisfied: prometheus-client in /usr/local/lib/python3.10/dist-packages (from notebook) (0.17.0)\n",
            "Collecting nbclassic>=0.4.7 (from notebook)\n",
            "  Downloading nbclassic-1.0.0-py3-none-any.whl (10.0 MB)\n",
            "\u001b[2K     \u001b[90m━━━━━━━━━━━━━━━━━━━━━━━━━━━━━━━━━━━━━━━\u001b[0m \u001b[32m10.0/10.0 MB\u001b[0m \u001b[31m128.5 MB/s\u001b[0m eta \u001b[36m0:00:00\u001b[0m\n",
            "\u001b[?25hCollecting ipytablewidgets<0.4.0,>=0.3.0 (from vega)\n",
            "  Downloading ipytablewidgets-0.3.1-py2.py3-none-any.whl (190 kB)\n",
            "\u001b[2K     \u001b[90m━━━━━━━━━━━━━━━━━━━━━━━━━━━━━━━━━━━━━━\u001b[0m \u001b[32m190.2/190.2 kB\u001b[0m \u001b[31m27.9 MB/s\u001b[0m eta \u001b[36m0:00:00\u001b[0m\n",
            "\u001b[?25hCollecting jupyter<2.0.0,>=1.0.0 (from vega)\n",
            "  Downloading jupyter-1.0.0-py2.py3-none-any.whl (2.7 kB)\n",
            "Requirement already satisfied: ipywidgets<9,>=7.5.0 in /usr/local/lib/python3.10/dist-packages (from ipytablewidgets<0.4.0,>=0.3.0->vega) (7.7.1)\n",
            "Collecting traittypes>=0.0.6 (from ipytablewidgets<0.4.0,>=0.3.0->vega)\n",
            "  Downloading traittypes-0.2.1-py2.py3-none-any.whl (8.6 kB)\n",
            "Requirement already satisfied: numpy<2.0.0,>=1.10.4 in /usr/local/lib/python3.10/dist-packages (from ipytablewidgets<0.4.0,>=0.3.0->vega) (1.22.4)\n",
            "Collecting lz4 (from ipytablewidgets<0.4.0,>=0.3.0->vega)\n",
            "  Downloading lz4-4.3.2-cp310-cp310-manylinux_2_17_x86_64.manylinux2014_x86_64.whl (1.3 MB)\n",
            "\u001b[2K     \u001b[90m━━━━━━━━━━━━━━━━━━━━━━━━━━━━━━━━━━━━━━━━\u001b[0m \u001b[32m1.3/1.3 MB\u001b[0m \u001b[31m56.7 MB/s\u001b[0m eta \u001b[36m0:00:00\u001b[0m\n",
            "\u001b[?25hCollecting qtconsole (from jupyter<2.0.0,>=1.0.0->vega)\n",
            "  Downloading qtconsole-5.4.3-py3-none-any.whl (121 kB)\n",
            "\u001b[2K     \u001b[90m━━━━━━━━━━━━━━━━━━━━━━━━━━━━━━━━━━━━━━\u001b[0m \u001b[32m121.9/121.9 kB\u001b[0m \u001b[31m18.1 MB/s\u001b[0m eta \u001b[36m0:00:00\u001b[0m\n",
            "\u001b[?25hRequirement already satisfied: jupyter-console in /usr/local/lib/python3.10/dist-packages (from jupyter<2.0.0,>=1.0.0->vega) (6.1.0)\n",
            "Requirement already satisfied: python-dateutil>=2.1 in /usr/local/lib/python3.10/dist-packages (from jupyter-client>=5.3.4->notebook) (2.8.2)\n",
            "Requirement already satisfied: platformdirs>=2.5 in /usr/local/lib/python3.10/dist-packages (from jupyter-core>=4.6.1->notebook) (3.7.0)\n",
            "Requirement already satisfied: jupyter-server>=1.8 in /usr/local/lib/python3.10/dist-packages (from nbclassic>=0.4.7->notebook) (1.24.0)\n",
            "Collecting notebook-shim>=0.2.3 (from nbclassic>=0.4.7->notebook)\n",
            "  Downloading notebook_shim-0.2.3-py3-none-any.whl (13 kB)\n",
            "Requirement already satisfied: lxml in /usr/local/lib/python3.10/dist-packages (from nbconvert>=5->notebook) (4.9.2)\n",
            "Requirement already satisfied: beautifulsoup4 in /usr/local/lib/python3.10/dist-packages (from nbconvert>=5->notebook) (4.11.2)\n",
            "Requirement already satisfied: bleach in /usr/local/lib/python3.10/dist-packages (from nbconvert>=5->notebook) (6.0.0)\n",
            "Requirement already satisfied: defusedxml in /usr/local/lib/python3.10/dist-packages (from nbconvert>=5->notebook) (0.7.1)\n",
            "Requirement already satisfied: entrypoints>=0.2.2 in /usr/local/lib/python3.10/dist-packages (from nbconvert>=5->notebook) (0.4)\n",
            "Requirement already satisfied: jupyterlab-pygments in /usr/local/lib/python3.10/dist-packages (from nbconvert>=5->notebook) (0.2.2)\n",
            "Requirement already satisfied: MarkupSafe>=2.0 in /usr/local/lib/python3.10/dist-packages (from nbconvert>=5->notebook) (2.1.3)\n",
            "Requirement already satisfied: mistune<2,>=0.8.1 in /usr/local/lib/python3.10/dist-packages (from nbconvert>=5->notebook) (0.8.4)\n",
            "Requirement already satisfied: nbclient>=0.5.0 in /usr/local/lib/python3.10/dist-packages (from nbconvert>=5->notebook) (0.8.0)\n",
            "Requirement already satisfied: packaging in /usr/local/lib/python3.10/dist-packages (from nbconvert>=5->notebook) (23.1)\n",
            "Requirement already satisfied: pandocfilters>=1.4.1 in /usr/local/lib/python3.10/dist-packages (from nbconvert>=5->notebook) (1.5.0)\n",
            "Requirement already satisfied: pygments>=2.4.1 in /usr/local/lib/python3.10/dist-packages (from nbconvert>=5->notebook) (2.14.0)\n",
            "Requirement already satisfied: tinycss2 in /usr/local/lib/python3.10/dist-packages (from nbconvert>=5->notebook) (1.2.1)\n",
            "Requirement already satisfied: fastjsonschema in /usr/local/lib/python3.10/dist-packages (from nbformat->notebook) (2.17.1)\n",
            "Requirement already satisfied: jsonschema>=2.6 in /usr/local/lib/python3.10/dist-packages (from nbformat->notebook) (4.3.3)\n",
            "Requirement already satisfied: pytz>=2020.1 in /usr/local/lib/python3.10/dist-packages (from pandas->vega_datasets) (2022.7.1)\n",
            "Requirement already satisfied: ptyprocess in /usr/local/lib/python3.10/dist-packages (from terminado>=0.8.3->notebook) (0.7.0)\n",
            "Requirement already satisfied: argon2-cffi-bindings in /usr/local/lib/python3.10/dist-packages (from argon2-cffi->notebook) (21.2.0)\n",
            "Requirement already satisfied: ipython>=5.0.0 in /usr/local/lib/python3.10/dist-packages (from ipykernel->notebook) (7.34.0)\n",
            "Requirement already satisfied: setuptools>=18.5 in /usr/local/lib/python3.10/dist-packages (from ipython>=5.0.0->ipykernel->notebook) (67.7.2)\n",
            "Collecting jedi>=0.16 (from ipython>=5.0.0->ipykernel->notebook)\n",
            "  Downloading jedi-0.18.2-py2.py3-none-any.whl (1.6 MB)\n",
            "\u001b[2K     \u001b[90m━━━━━━━━━━━━━━━━━━━━━━━━━━━━━━━━━━━━━━━━\u001b[0m \u001b[32m1.6/1.6 MB\u001b[0m \u001b[31m67.2 MB/s\u001b[0m eta \u001b[36m0:00:00\u001b[0m\n",
            "\u001b[?25hRequirement already satisfied: decorator in /usr/local/lib/python3.10/dist-packages (from ipython>=5.0.0->ipykernel->notebook) (4.4.2)\n",
            "Requirement already satisfied: pickleshare in /usr/local/lib/python3.10/dist-packages (from ipython>=5.0.0->ipykernel->notebook) (0.7.5)\n",
            "Requirement already satisfied: prompt-toolkit!=3.0.0,!=3.0.1,<3.1.0,>=2.0.0 in /usr/local/lib/python3.10/dist-packages (from ipython>=5.0.0->ipykernel->notebook) (3.0.38)\n",
            "Requirement already satisfied: backcall in /usr/local/lib/python3.10/dist-packages (from ipython>=5.0.0->ipykernel->notebook) (0.2.0)\n",
            "Requirement already satisfied: matplotlib-inline in /usr/local/lib/python3.10/dist-packages (from ipython>=5.0.0->ipykernel->notebook) (0.1.6)\n",
            "Requirement already satisfied: pexpect>4.3 in /usr/local/lib/python3.10/dist-packages (from ipython>=5.0.0->ipykernel->notebook) (4.8.0)\n",
            "Requirement already satisfied: widgetsnbextension~=3.6.0 in /usr/local/lib/python3.10/dist-packages (from ipywidgets<9,>=7.5.0->ipytablewidgets<0.4.0,>=0.3.0->vega) (3.6.4)\n",
            "Requirement already satisfied: jupyterlab-widgets>=1.0.0 in /usr/local/lib/python3.10/dist-packages (from ipywidgets<9,>=7.5.0->ipytablewidgets<0.4.0,>=0.3.0->vega) (3.0.7)\n",
            "Requirement already satisfied: attrs>=17.4.0 in /usr/local/lib/python3.10/dist-packages (from jsonschema>=2.6->nbformat->notebook) (23.1.0)\n",
            "Requirement already satisfied: pyrsistent!=0.17.0,!=0.17.1,!=0.17.2,>=0.14.0 in /usr/local/lib/python3.10/dist-packages (from jsonschema>=2.6->nbformat->notebook) (0.19.3)\n",
            "Requirement already satisfied: anyio<4,>=3.1.0 in /usr/local/lib/python3.10/dist-packages (from jupyter-server>=1.8->nbclassic>=0.4.7->notebook) (3.7.0)\n",
            "Requirement already satisfied: websocket-client in /usr/local/lib/python3.10/dist-packages (from jupyter-server>=1.8->nbclassic>=0.4.7->notebook) (1.6.0)\n",
            "Requirement already satisfied: six>=1.5 in /usr/local/lib/python3.10/dist-packages (from python-dateutil>=2.1->jupyter-client>=5.3.4->notebook) (1.16.0)\n",
            "Requirement already satisfied: cffi>=1.0.1 in /usr/local/lib/python3.10/dist-packages (from argon2-cffi-bindings->argon2-cffi->notebook) (1.15.1)\n",
            "Requirement already satisfied: soupsieve>1.2 in /usr/local/lib/python3.10/dist-packages (from beautifulsoup4->nbconvert>=5->notebook) (2.4.1)\n",
            "Requirement already satisfied: webencodings in /usr/local/lib/python3.10/dist-packages (from bleach->nbconvert>=5->notebook) (0.5.1)\n",
            "Collecting qtpy>=2.0.1 (from qtconsole->jupyter<2.0.0,>=1.0.0->vega)\n",
            "  Downloading QtPy-2.3.1-py3-none-any.whl (84 kB)\n",
            "\u001b[2K     \u001b[90m━━━━━━━━━━━━━━━━━━━━━━━━━━━━━━━━━━━━━━━━\u001b[0m \u001b[32m84.9/84.9 kB\u001b[0m \u001b[31m14.0 MB/s\u001b[0m eta \u001b[36m0:00:00\u001b[0m\n",
            "\u001b[?25hRequirement already satisfied: idna>=2.8 in /usr/local/lib/python3.10/dist-packages (from anyio<4,>=3.1.0->jupyter-server>=1.8->nbclassic>=0.4.7->notebook) (3.4)\n",
            "Requirement already satisfied: sniffio>=1.1 in /usr/local/lib/python3.10/dist-packages (from anyio<4,>=3.1.0->jupyter-server>=1.8->nbclassic>=0.4.7->notebook) (1.3.0)\n",
            "Requirement already satisfied: exceptiongroup in /usr/local/lib/python3.10/dist-packages (from anyio<4,>=3.1.0->jupyter-server>=1.8->nbclassic>=0.4.7->notebook) (1.1.1)\n",
            "Requirement already satisfied: pycparser in /usr/local/lib/python3.10/dist-packages (from cffi>=1.0.1->argon2-cffi-bindings->argon2-cffi->notebook) (2.21)\n",
            "Requirement already satisfied: parso<0.9.0,>=0.8.0 in /usr/local/lib/python3.10/dist-packages (from jedi>=0.16->ipython>=5.0.0->ipykernel->notebook) (0.8.3)\n",
            "Requirement already satisfied: wcwidth in /usr/local/lib/python3.10/dist-packages (from prompt-toolkit!=3.0.0,!=3.0.1,<3.1.0,>=2.0.0->ipython>=5.0.0->ipykernel->notebook) (0.2.6)\n",
            "Installing collected packages: traittypes, qtpy, lz4, jedi, qtconsole, notebook-shim, nbclassic, notebook, jupyter, ipytablewidgets, vega\n",
            "  Attempting uninstall: notebook\n",
            "    Found existing installation: notebook 6.4.8\n",
            "    Uninstalling notebook-6.4.8:\n",
            "      Successfully uninstalled notebook-6.4.8\n",
            "\u001b[31mERROR: pip's dependency resolver does not currently take into account all the packages that are installed. This behaviour is the source of the following dependency conflicts.\n",
            "google-colab 1.0.0 requires notebook==6.4.8, but you have notebook 6.5.4 which is incompatible.\u001b[0m\u001b[31m\n",
            "\u001b[0mSuccessfully installed ipytablewidgets-0.3.1 jedi-0.18.2 jupyter-1.0.0 lz4-4.3.2 nbclassic-1.0.0 notebook-6.5.4 notebook-shim-0.2.3 qtconsole-5.4.3 qtpy-2.3.1 traittypes-0.2.1 vega-4.0.0\n"
          ]
        }
      ],
      "source": [
        "!pip install -U vega_datasets notebook vega"
      ]
    },
    {
      "cell_type": "code",
      "execution_count": null,
      "metadata": {
        "_kg_hide-input": true,
        "_kg_hide-output": true,
        "id": "q3VGEc_sBV6C",
        "outputId": "06cfc0f2-68e8-403a-ef48-8908c046d8fd",
        "colab": {
          "base_uri": "https://localhost:8080/"
        }
      },
      "outputs": [
        {
          "output_type": "stream",
          "name": "stdout",
          "text": [
            "Collecting ujson\n",
            "  Downloading ujson-5.8.0-cp310-cp310-manylinux_2_17_x86_64.manylinux2014_x86_64.whl (53 kB)\n",
            "\u001b[?25l     \u001b[90m━━━━━━━━━━━━━━━━━━━━━━━━━━━━━━━━━━━━━━━━\u001b[0m \u001b[32m0.0/53.9 kB\u001b[0m \u001b[31m?\u001b[0m eta \u001b[36m-:--:--\u001b[0m\r\u001b[2K     \u001b[90m━━━━━━━━━━━━━━━━━━━━━━━━━━━━━━━━━━━━━━━━\u001b[0m \u001b[32m53.9/53.9 kB\u001b[0m \u001b[31m3.1 MB/s\u001b[0m eta \u001b[36m0:00:00\u001b[0m\n",
            "\u001b[?25hInstalling collected packages: ujson\n",
            "Successfully installed ujson-5.8.0\n"
          ]
        }
      ],
      "source": [
        "!pip install ujson"
      ]
    },
    {
      "cell_type": "code",
      "execution_count": null,
      "metadata": {
        "_kg_hide-input": true,
        "_kg_hide-output": true,
        "id": "WWRAbSQbBV6C",
        "outputId": "96cf0f41-ca3b-4bbc-81fa-cfdbe236db4a",
        "colab": {
          "base_uri": "https://localhost:8080/"
        }
      },
      "outputs": [
        {
          "output_type": "stream",
          "name": "stdout",
          "text": [
            "env: JOBLIB_TEMP_FOLDER=/tmp\n",
            "Collecting pyspark\n",
            "  Downloading pyspark-3.4.1.tar.gz (310.8 MB)\n",
            "\u001b[2K     \u001b[90m━━━━━━━━━━━━━━━━━━━━━━━━━━━━━━━━━━━━━━━\u001b[0m \u001b[32m310.8/310.8 MB\u001b[0m \u001b[31m4.7 MB/s\u001b[0m eta \u001b[36m0:00:00\u001b[0m\n",
            "\u001b[?25h  Preparing metadata (setup.py) ... \u001b[?25l\u001b[?25hdone\n",
            "Requirement already satisfied: py4j==0.10.9.7 in /usr/local/lib/python3.10/dist-packages (from pyspark) (0.10.9.7)\n",
            "Building wheels for collected packages: pyspark\n",
            "  Building wheel for pyspark (setup.py) ... \u001b[?25l\u001b[?25hdone\n",
            "  Created wheel for pyspark: filename=pyspark-3.4.1-py2.py3-none-any.whl size=311285398 sha256=b292e7a2b75d82cc027f92b4aeee0117d74f82476cafa5386a9a1c0a696330ba\n",
            "  Stored in directory: /root/.cache/pip/wheels/0d/77/a3/ff2f74cc9ab41f8f594dabf0579c2a7c6de920d584206e0834\n",
            "Successfully built pyspark\n",
            "Installing collected packages: pyspark\n",
            "Successfully installed pyspark-3.4.1\n"
          ]
        }
      ],
      "source": [
        "%env JOBLIB_TEMP_FOLDER=/tmp\n",
        "!pip install pyspark"
      ]
    },
    {
      "cell_type": "code",
      "execution_count": null,
      "metadata": {
        "_cell_guid": "b1076dfc-b9ad-4769-8c92-a6c4dae69d19",
        "_kg_hide-input": true,
        "_kg_hide-output": true,
        "_uuid": "8f2839f25d086af736a60e9eeb907d3b93b6e0e5",
        "id": "IgXrV9E7BV6D",
        "outputId": "3fbc125d-9c88-40bf-d311-3f23f9ddba01",
        "colab": {
          "base_uri": "https://localhost:8080/",
          "height": 86
        }
      },
      "outputs": [
        {
          "output_type": "display_data",
          "data": {
            "text/html": [
              "        <script type=\"text/javascript\">\n",
              "        window.PlotlyConfig = {MathJaxConfig: 'local'};\n",
              "        if (window.MathJax && window.MathJax.Hub && window.MathJax.Hub.Config) {window.MathJax.Hub.Config({SVG: {font: \"STIX-Web\"}});}\n",
              "        if (typeof require !== 'undefined') {\n",
              "        require.undef(\"plotly\");\n",
              "        requirejs.config({\n",
              "            paths: {\n",
              "                'plotly': ['https://cdn.plot.ly/plotly-2.18.2.min']\n",
              "            }\n",
              "        });\n",
              "        require(['plotly'], function(Plotly) {\n",
              "            window._Plotly = Plotly;\n",
              "        });\n",
              "        }\n",
              "        </script>\n",
              "        "
            ]
          },
          "metadata": {}
        },
        {
          "output_type": "stream",
          "name": "stderr",
          "text": [
            "/usr/local/lib/python3.10/dist-packages/altair/vega/v5/__init__.py:18: AltairDeprecationWarning:\n",
            "\n",
            "The module altair.vega.v5 is deprecated and will be removed in Altair 5.\n",
            "\n"
          ]
        }
      ],
      "source": [
        "import numpy as np\n",
        "import pandas as pd\n",
        "pd.set_option('display.max_columns', 8)\n",
        "import os\n",
        "import gc\n",
        "import ujson as json\n",
        "import matplotlib.pyplot as plt\n",
        "%matplotlib inline\n",
        "import matplotlib.patches as patches\n",
        "import seaborn as sns\n",
        "\n",
        "import plotly as py\n",
        "import plotly.express as px\n",
        "import plotly.graph_objs as go\n",
        "from plotly.subplots import make_subplots\n",
        "from plotly.offline import download_plotlyjs\n",
        "from plotly.offline import init_notebook_mode\n",
        "from plotly.offline import plot,iplot\n",
        "\n",
        "init_notebook_mode(connected=True)\n",
        "\n",
        "import altair as alt\n",
        "from altair.vega import v5\n",
        "from IPython.display import HTML\n",
        "alt.renderers.enable('notebook')\n",
        "\n",
        "from IPython.display import HTML\n",
        "from IPython.display import Image\n",
        "from IPython.display import display\n",
        "from IPython.core.display import display\n",
        "from IPython.core.display import HTML\n",
        "from IPython.core.interactiveshell import InteractiveShell\n",
        "InteractiveShell.ast_node_interactivity = \"all\"\n",
        "\n",
        "import warnings\n",
        "warnings.filterwarnings('ignore')\n",
        "\n",
        "plt.style.use('seaborn')\n",
        "color_pal = [x['color'] for x in plt.rcParams['axes.prop_cycle']]\n",
        "%config InlineBackend.figure_format = 'svg'\n",
        "th_props = [('font-size', '13px'), ('background-color', 'white'), ('color', '#666666')]\n",
        "td_props = [('font-size', '15px'), ('background-color', 'white')]\n",
        "styles = [dict(selector=\"td\", props=td_props), dict(selector=\"th\", props=th_props)]\n",
        "\n",
        "SMALL_SIZE = 8\n",
        "MEDIUM_SIZE = 10\n",
        "BIGGER_SIZE = 12\n",
        "plt.rc('font', size=SMALL_SIZE)          # controls default text sizes\n",
        "plt.rc('axes', titlesize=SMALL_SIZE)     # fontsize of the axes title\n",
        "plt.rc('axes', labelsize=MEDIUM_SIZE)    # fontsize of the x and y labels\n",
        "plt.rc('xtick', labelsize=SMALL_SIZE)    # fontsize of the tick labels\n",
        "plt.rc('ytick', labelsize=SMALL_SIZE)    # fontsize of the tick labels\n",
        "plt.rc('legend', fontsize=SMALL_SIZE)    # legend fontsize\n",
        "plt.rc('figure', titlesize=BIGGER_SIZE)  # fontsize of the figure title\n",
        "\n"
      ]
    },
    {
      "cell_type": "code",
      "execution_count": null,
      "metadata": {
        "_kg_hide-input": true,
        "_kg_hide-output": true,
        "id": "_1uThhjeBV6D",
        "outputId": "94b7c8f6-3d19-4563-ea89-6b6dfcc0abe1",
        "colab": {
          "base_uri": "https://localhost:8080/",
          "height": 17
        }
      },
      "outputs": [
        {
          "output_type": "execute_result",
          "data": {
            "text/plain": [
              "<IPython.core.display.HTML object>"
            ],
            "text/html": [
              "<script>    requirejs.config({\n",
              "        baseUrl: 'https://cdn.jsdelivr.net/npm/',\n",
              "        paths: {'vega': 'https://cdn.jsdelivr.net/npm/vega@v5.10.0?noext', 'vega-lib': 'https://cdn.jsdelivr.net/npm/vega-lib?noext', 'vega-lite': 'https://cdn.jsdelivr.net/npm/vega-lite@v4.17.0?noext', 'vega-embed': 'https://cdn.jsdelivr.net/npm/vega-embed@3?noext'}\n",
              "    });\n",
              "    </script>"
            ]
          },
          "metadata": {},
          "execution_count": 6
        }
      ],
      "source": [
        "# using ideas from this kernel: https://www.kaggle.com/notslush/altair-visualization-2018-stackoverflow-survey\n",
        "def prepare_altair():\n",
        "    \"\"\"\n",
        "    Helper function to prepare altair for working.\n",
        "    \"\"\"\n",
        "\n",
        "    vega_url = 'https://cdn.jsdelivr.net/npm/vega@' + v5.SCHEMA_VERSION\n",
        "    vega_lib_url = 'https://cdn.jsdelivr.net/npm/vega-lib'\n",
        "    vega_lite_url = 'https://cdn.jsdelivr.net/npm/vega-lite@' + alt.SCHEMA_VERSION\n",
        "    vega_embed_url = 'https://cdn.jsdelivr.net/npm/vega-embed@3'\n",
        "    noext = \"?noext\"\n",
        "\n",
        "    paths = {\n",
        "        'vega': vega_url + noext,\n",
        "        'vega-lib': vega_lib_url + noext,\n",
        "        'vega-lite': vega_lite_url + noext,\n",
        "        'vega-embed': vega_embed_url + noext\n",
        "    }\n",
        "\n",
        "    workaround = f\"\"\"    requirejs.config({{\n",
        "        baseUrl: 'https://cdn.jsdelivr.net/npm/',\n",
        "        paths: {paths}\n",
        "    }});\n",
        "    \"\"\"\n",
        "\n",
        "    return workaround\n",
        "\n",
        "def add_autoincrement(render_func):\n",
        "    # Keep track of unique <div/> IDs\n",
        "    cache = {}\n",
        "    def wrapped(chart, id=\"vega-chart\", autoincrement=True):\n",
        "        if autoincrement:\n",
        "            if id in cache:\n",
        "                counter = 1 + cache[id]\n",
        "                cache[id] = counter\n",
        "            else:\n",
        "                cache[id] = 0\n",
        "            actual_id = id if cache[id] == 0 else id + '-' + str(cache[id])\n",
        "        else:\n",
        "            if id not in cache:\n",
        "                cache[id] = 0\n",
        "            actual_id = id\n",
        "        return render_func(chart, id=actual_id)\n",
        "    # Cache will stay outside and\n",
        "    return wrapped\n",
        "\n",
        "@add_autoincrement\n",
        "def render(chart, id=\"vega-chart\"):\n",
        "    \"\"\"\n",
        "    Helper function to plot altair visualizations.\n",
        "    \"\"\"\n",
        "    chart_str = \"\"\"\n",
        "    <div id=\"{id}\"></div><script>\n",
        "    require([\"vega-embed\"], function(vg_embed) {{\n",
        "        const spec = {chart};\n",
        "        vg_embed(\"#{id}\", spec, {{defaultStyle: true}}).catch(console.warn);\n",
        "        console.log(\"anything?\");\n",
        "    }});\n",
        "    console.log(\"really...anything?\");\n",
        "    </script>\n",
        "    \"\"\"\n",
        "    return HTML(\n",
        "        chart_str.format(\n",
        "            id=id,\n",
        "            chart=json.dumps(chart) if isinstance(chart, dict) else chart.to_json(indent=None)\n",
        "        )\n",
        "    )\n",
        "\n",
        "# setting up altair\n",
        "workaround = prepare_altair()\n",
        "HTML(\"\".join((\n",
        "    \"<script>\",\n",
        "    workaround,\n",
        "    \"</script>\",\n",
        ")))"
      ]
    },
    {
      "cell_type": "markdown",
      "metadata": {
        "id": "PQJJek1XBV6E"
      },
      "source": [
        "It's time to take a look in all files provided by the dataset."
      ]
    },
    {
      "cell_type": "code",
      "execution_count": null,
      "metadata": {
        "_kg_hide-input": true,
        "id": "0EQ9twtRBV6E"
      },
      "outputs": [],
      "source": [
        "#print('Data Files in Directory')\n",
        "#print(os.listdir(DATA_PATH))"
      ]
    },
    {
      "cell_type": "markdown",
      "metadata": {
        "id": "UN_Pg--ZBV6E"
      },
      "source": [
        "For now, I will ignore all small dataset versions.<br>\n",
        "Time to import relvant (Ratings, Links and Metadata) files and check the data."
      ]
    },
    {
      "cell_type": "code",
      "execution_count": null,
      "metadata": {
        "_cell_guid": "79c7e3d0-c299-4dcb-8224-4455121ee9b0",
        "_kg_hide-input": true,
        "_kg_hide-output": true,
        "_uuid": "d629ff2d2480ee46fbb7e2d37f6b5fab8052498a",
        "id": "m8xqFtllBV6E"
      },
      "outputs": [],
      "source": [
        "ratings = pd.read_csv('/content/ratings.csv')\n",
        "links = pd.read_csv('/content/links.csv')\n",
        "metadata = pd.read_csv('/content/movies_metadata.csv')"
      ]
    },
    {
      "cell_type": "code",
      "execution_count": null,
      "metadata": {
        "_kg_hide-input": true,
        "_kg_hide-output": true,
        "id": "nAkdffJVBV6F"
      },
      "outputs": [],
      "source": [
        "# Function that I wrote to print all relevant infos in dataset\n",
        "import io\n",
        "\n",
        "def get_df_info(df):\n",
        "    display(df.head(3))\n",
        "    buf = io.StringIO()\n",
        "    df.info(buf=buf)\n",
        "    info = buf.getvalue().split('\\n')[-2]\n",
        "    display(f'Number of Rows: {df.shape[0]}, Number of Columns: {df.shape[1]}')\n",
        "    display('Data Types')\n",
        "    df_types = df.dtypes\n",
        "    df_types = pd.DataFrame({'Column':df_types.index, 'Type':df_types.values})\n",
        "    display(df_types)\n",
        "    display(info)\n",
        "    missing = df.isnull().sum().sort_values(ascending=False)\n",
        "    display('Missing Values')\n",
        "    if missing.values.sum() == 0:\n",
        "        display('No Missing Values')\n",
        "    else:\n",
        "        missing = missing[missing > 0]\n",
        "        missing = pd.DataFrame({'Column' : missing.index, 'Missing Values' : missing.values})\n",
        "        display(missing)"
      ]
    },
    {
      "cell_type": "markdown",
      "metadata": {
        "id": "Rqb6B3udBV6F"
      },
      "source": [
        "<a id='bkground'></a>\n",
        "<div class=\"h3\"><center>Ratings Content</center></div>"
      ]
    },
    {
      "cell_type": "code",
      "execution_count": null,
      "metadata": {
        "_kg_hide-input": true,
        "id": "a9Te-M8gBV6F",
        "outputId": "d3e26c21-9ad6-4320-c30e-b20f47854071",
        "colab": {
          "base_uri": "https://localhost:8080/",
          "height": 438
        }
      },
      "outputs": [
        {
          "output_type": "display_data",
          "data": {
            "text/plain": [
              "   userId  movieId  rating     timestamp\n",
              "0       1      110     1.0  1.425942e+09\n",
              "1       1      147     4.5  1.425942e+09\n",
              "2       1      858     5.0  1.425942e+09"
            ],
            "text/html": [
              "\n",
              "  <div id=\"df-e1c2e5fc-58a8-42e1-8da0-3c6cde0c2447\">\n",
              "    <div class=\"colab-df-container\">\n",
              "      <div>\n",
              "<style scoped>\n",
              "    .dataframe tbody tr th:only-of-type {\n",
              "        vertical-align: middle;\n",
              "    }\n",
              "\n",
              "    .dataframe tbody tr th {\n",
              "        vertical-align: top;\n",
              "    }\n",
              "\n",
              "    .dataframe thead th {\n",
              "        text-align: right;\n",
              "    }\n",
              "</style>\n",
              "<table border=\"1\" class=\"dataframe\">\n",
              "  <thead>\n",
              "    <tr style=\"text-align: right;\">\n",
              "      <th></th>\n",
              "      <th>userId</th>\n",
              "      <th>movieId</th>\n",
              "      <th>rating</th>\n",
              "      <th>timestamp</th>\n",
              "    </tr>\n",
              "  </thead>\n",
              "  <tbody>\n",
              "    <tr>\n",
              "      <th>0</th>\n",
              "      <td>1</td>\n",
              "      <td>110</td>\n",
              "      <td>1.0</td>\n",
              "      <td>1.425942e+09</td>\n",
              "    </tr>\n",
              "    <tr>\n",
              "      <th>1</th>\n",
              "      <td>1</td>\n",
              "      <td>147</td>\n",
              "      <td>4.5</td>\n",
              "      <td>1.425942e+09</td>\n",
              "    </tr>\n",
              "    <tr>\n",
              "      <th>2</th>\n",
              "      <td>1</td>\n",
              "      <td>858</td>\n",
              "      <td>5.0</td>\n",
              "      <td>1.425942e+09</td>\n",
              "    </tr>\n",
              "  </tbody>\n",
              "</table>\n",
              "</div>\n",
              "      <button class=\"colab-df-convert\" onclick=\"convertToInteractive('df-e1c2e5fc-58a8-42e1-8da0-3c6cde0c2447')\"\n",
              "              title=\"Convert this dataframe to an interactive table.\"\n",
              "              style=\"display:none;\">\n",
              "        \n",
              "  <svg xmlns=\"http://www.w3.org/2000/svg\" height=\"24px\"viewBox=\"0 0 24 24\"\n",
              "       width=\"24px\">\n",
              "    <path d=\"M0 0h24v24H0V0z\" fill=\"none\"/>\n",
              "    <path d=\"M18.56 5.44l.94 2.06.94-2.06 2.06-.94-2.06-.94-.94-2.06-.94 2.06-2.06.94zm-11 1L8.5 8.5l.94-2.06 2.06-.94-2.06-.94L8.5 2.5l-.94 2.06-2.06.94zm10 10l.94 2.06.94-2.06 2.06-.94-2.06-.94-.94-2.06-.94 2.06-2.06.94z\"/><path d=\"M17.41 7.96l-1.37-1.37c-.4-.4-.92-.59-1.43-.59-.52 0-1.04.2-1.43.59L10.3 9.45l-7.72 7.72c-.78.78-.78 2.05 0 2.83L4 21.41c.39.39.9.59 1.41.59.51 0 1.02-.2 1.41-.59l7.78-7.78 2.81-2.81c.8-.78.8-2.07 0-2.86zM5.41 20L4 18.59l7.72-7.72 1.47 1.35L5.41 20z\"/>\n",
              "  </svg>\n",
              "      </button>\n",
              "      \n",
              "  <style>\n",
              "    .colab-df-container {\n",
              "      display:flex;\n",
              "      flex-wrap:wrap;\n",
              "      gap: 12px;\n",
              "    }\n",
              "\n",
              "    .colab-df-convert {\n",
              "      background-color: #E8F0FE;\n",
              "      border: none;\n",
              "      border-radius: 50%;\n",
              "      cursor: pointer;\n",
              "      display: none;\n",
              "      fill: #1967D2;\n",
              "      height: 32px;\n",
              "      padding: 0 0 0 0;\n",
              "      width: 32px;\n",
              "    }\n",
              "\n",
              "    .colab-df-convert:hover {\n",
              "      background-color: #E2EBFA;\n",
              "      box-shadow: 0px 1px 2px rgba(60, 64, 67, 0.3), 0px 1px 3px 1px rgba(60, 64, 67, 0.15);\n",
              "      fill: #174EA6;\n",
              "    }\n",
              "\n",
              "    [theme=dark] .colab-df-convert {\n",
              "      background-color: #3B4455;\n",
              "      fill: #D2E3FC;\n",
              "    }\n",
              "\n",
              "    [theme=dark] .colab-df-convert:hover {\n",
              "      background-color: #434B5C;\n",
              "      box-shadow: 0px 1px 3px 1px rgba(0, 0, 0, 0.15);\n",
              "      filter: drop-shadow(0px 1px 2px rgba(0, 0, 0, 0.3));\n",
              "      fill: #FFFFFF;\n",
              "    }\n",
              "  </style>\n",
              "\n",
              "      <script>\n",
              "        const buttonEl =\n",
              "          document.querySelector('#df-e1c2e5fc-58a8-42e1-8da0-3c6cde0c2447 button.colab-df-convert');\n",
              "        buttonEl.style.display =\n",
              "          google.colab.kernel.accessAllowed ? 'block' : 'none';\n",
              "\n",
              "        async function convertToInteractive(key) {\n",
              "          const element = document.querySelector('#df-e1c2e5fc-58a8-42e1-8da0-3c6cde0c2447');\n",
              "          const dataTable =\n",
              "            await google.colab.kernel.invokeFunction('convertToInteractive',\n",
              "                                                     [key], {});\n",
              "          if (!dataTable) return;\n",
              "\n",
              "          const docLinkHtml = 'Like what you see? Visit the ' +\n",
              "            '<a target=\"_blank\" href=https://colab.research.google.com/notebooks/data_table.ipynb>data table notebook</a>'\n",
              "            + ' to learn more about interactive tables.';\n",
              "          element.innerHTML = '';\n",
              "          dataTable['output_type'] = 'display_data';\n",
              "          await google.colab.output.renderOutput(dataTable, element);\n",
              "          const docLink = document.createElement('div');\n",
              "          docLink.innerHTML = docLinkHtml;\n",
              "          element.appendChild(docLink);\n",
              "        }\n",
              "      </script>\n",
              "    </div>\n",
              "  </div>\n",
              "  "
            ]
          },
          "metadata": {}
        },
        {
          "output_type": "display_data",
          "data": {
            "text/plain": [
              "'Number of Rows: 1534062, Number of Columns: 4'"
            ],
            "application/vnd.google.colaboratory.intrinsic+json": {
              "type": "string"
            }
          },
          "metadata": {}
        },
        {
          "output_type": "display_data",
          "data": {
            "text/plain": [
              "'Data Types'"
            ],
            "application/vnd.google.colaboratory.intrinsic+json": {
              "type": "string"
            }
          },
          "metadata": {}
        },
        {
          "output_type": "display_data",
          "data": {
            "text/plain": [
              "      Column     Type\n",
              "0     userId    int64\n",
              "1    movieId    int64\n",
              "2     rating  float64\n",
              "3  timestamp  float64"
            ],
            "text/html": [
              "\n",
              "  <div id=\"df-dba71e65-a35a-44fa-9811-fcbde6ed051d\">\n",
              "    <div class=\"colab-df-container\">\n",
              "      <div>\n",
              "<style scoped>\n",
              "    .dataframe tbody tr th:only-of-type {\n",
              "        vertical-align: middle;\n",
              "    }\n",
              "\n",
              "    .dataframe tbody tr th {\n",
              "        vertical-align: top;\n",
              "    }\n",
              "\n",
              "    .dataframe thead th {\n",
              "        text-align: right;\n",
              "    }\n",
              "</style>\n",
              "<table border=\"1\" class=\"dataframe\">\n",
              "  <thead>\n",
              "    <tr style=\"text-align: right;\">\n",
              "      <th></th>\n",
              "      <th>Column</th>\n",
              "      <th>Type</th>\n",
              "    </tr>\n",
              "  </thead>\n",
              "  <tbody>\n",
              "    <tr>\n",
              "      <th>0</th>\n",
              "      <td>userId</td>\n",
              "      <td>int64</td>\n",
              "    </tr>\n",
              "    <tr>\n",
              "      <th>1</th>\n",
              "      <td>movieId</td>\n",
              "      <td>int64</td>\n",
              "    </tr>\n",
              "    <tr>\n",
              "      <th>2</th>\n",
              "      <td>rating</td>\n",
              "      <td>float64</td>\n",
              "    </tr>\n",
              "    <tr>\n",
              "      <th>3</th>\n",
              "      <td>timestamp</td>\n",
              "      <td>float64</td>\n",
              "    </tr>\n",
              "  </tbody>\n",
              "</table>\n",
              "</div>\n",
              "      <button class=\"colab-df-convert\" onclick=\"convertToInteractive('df-dba71e65-a35a-44fa-9811-fcbde6ed051d')\"\n",
              "              title=\"Convert this dataframe to an interactive table.\"\n",
              "              style=\"display:none;\">\n",
              "        \n",
              "  <svg xmlns=\"http://www.w3.org/2000/svg\" height=\"24px\"viewBox=\"0 0 24 24\"\n",
              "       width=\"24px\">\n",
              "    <path d=\"M0 0h24v24H0V0z\" fill=\"none\"/>\n",
              "    <path d=\"M18.56 5.44l.94 2.06.94-2.06 2.06-.94-2.06-.94-.94-2.06-.94 2.06-2.06.94zm-11 1L8.5 8.5l.94-2.06 2.06-.94-2.06-.94L8.5 2.5l-.94 2.06-2.06.94zm10 10l.94 2.06.94-2.06 2.06-.94-2.06-.94-.94-2.06-.94 2.06-2.06.94z\"/><path d=\"M17.41 7.96l-1.37-1.37c-.4-.4-.92-.59-1.43-.59-.52 0-1.04.2-1.43.59L10.3 9.45l-7.72 7.72c-.78.78-.78 2.05 0 2.83L4 21.41c.39.39.9.59 1.41.59.51 0 1.02-.2 1.41-.59l7.78-7.78 2.81-2.81c.8-.78.8-2.07 0-2.86zM5.41 20L4 18.59l7.72-7.72 1.47 1.35L5.41 20z\"/>\n",
              "  </svg>\n",
              "      </button>\n",
              "      \n",
              "  <style>\n",
              "    .colab-df-container {\n",
              "      display:flex;\n",
              "      flex-wrap:wrap;\n",
              "      gap: 12px;\n",
              "    }\n",
              "\n",
              "    .colab-df-convert {\n",
              "      background-color: #E8F0FE;\n",
              "      border: none;\n",
              "      border-radius: 50%;\n",
              "      cursor: pointer;\n",
              "      display: none;\n",
              "      fill: #1967D2;\n",
              "      height: 32px;\n",
              "      padding: 0 0 0 0;\n",
              "      width: 32px;\n",
              "    }\n",
              "\n",
              "    .colab-df-convert:hover {\n",
              "      background-color: #E2EBFA;\n",
              "      box-shadow: 0px 1px 2px rgba(60, 64, 67, 0.3), 0px 1px 3px 1px rgba(60, 64, 67, 0.15);\n",
              "      fill: #174EA6;\n",
              "    }\n",
              "\n",
              "    [theme=dark] .colab-df-convert {\n",
              "      background-color: #3B4455;\n",
              "      fill: #D2E3FC;\n",
              "    }\n",
              "\n",
              "    [theme=dark] .colab-df-convert:hover {\n",
              "      background-color: #434B5C;\n",
              "      box-shadow: 0px 1px 3px 1px rgba(0, 0, 0, 0.15);\n",
              "      filter: drop-shadow(0px 1px 2px rgba(0, 0, 0, 0.3));\n",
              "      fill: #FFFFFF;\n",
              "    }\n",
              "  </style>\n",
              "\n",
              "      <script>\n",
              "        const buttonEl =\n",
              "          document.querySelector('#df-dba71e65-a35a-44fa-9811-fcbde6ed051d button.colab-df-convert');\n",
              "        buttonEl.style.display =\n",
              "          google.colab.kernel.accessAllowed ? 'block' : 'none';\n",
              "\n",
              "        async function convertToInteractive(key) {\n",
              "          const element = document.querySelector('#df-dba71e65-a35a-44fa-9811-fcbde6ed051d');\n",
              "          const dataTable =\n",
              "            await google.colab.kernel.invokeFunction('convertToInteractive',\n",
              "                                                     [key], {});\n",
              "          if (!dataTable) return;\n",
              "\n",
              "          const docLinkHtml = 'Like what you see? Visit the ' +\n",
              "            '<a target=\"_blank\" href=https://colab.research.google.com/notebooks/data_table.ipynb>data table notebook</a>'\n",
              "            + ' to learn more about interactive tables.';\n",
              "          element.innerHTML = '';\n",
              "          dataTable['output_type'] = 'display_data';\n",
              "          await google.colab.output.renderOutput(dataTable, element);\n",
              "          const docLink = document.createElement('div');\n",
              "          docLink.innerHTML = docLinkHtml;\n",
              "          element.appendChild(docLink);\n",
              "        }\n",
              "      </script>\n",
              "    </div>\n",
              "  </div>\n",
              "  "
            ]
          },
          "metadata": {}
        },
        {
          "output_type": "display_data",
          "data": {
            "text/plain": [
              "'memory usage: 46.8 MB'"
            ],
            "application/vnd.google.colaboratory.intrinsic+json": {
              "type": "string"
            }
          },
          "metadata": {}
        },
        {
          "output_type": "display_data",
          "data": {
            "text/plain": [
              "'Missing Values'"
            ],
            "application/vnd.google.colaboratory.intrinsic+json": {
              "type": "string"
            }
          },
          "metadata": {}
        },
        {
          "output_type": "display_data",
          "data": {
            "text/plain": [
              "      Column  Missing Values\n",
              "0  timestamp               1"
            ],
            "text/html": [
              "\n",
              "  <div id=\"df-b9993ebe-c83e-4006-836a-1e6ba5bf857e\">\n",
              "    <div class=\"colab-df-container\">\n",
              "      <div>\n",
              "<style scoped>\n",
              "    .dataframe tbody tr th:only-of-type {\n",
              "        vertical-align: middle;\n",
              "    }\n",
              "\n",
              "    .dataframe tbody tr th {\n",
              "        vertical-align: top;\n",
              "    }\n",
              "\n",
              "    .dataframe thead th {\n",
              "        text-align: right;\n",
              "    }\n",
              "</style>\n",
              "<table border=\"1\" class=\"dataframe\">\n",
              "  <thead>\n",
              "    <tr style=\"text-align: right;\">\n",
              "      <th></th>\n",
              "      <th>Column</th>\n",
              "      <th>Missing Values</th>\n",
              "    </tr>\n",
              "  </thead>\n",
              "  <tbody>\n",
              "    <tr>\n",
              "      <th>0</th>\n",
              "      <td>timestamp</td>\n",
              "      <td>1</td>\n",
              "    </tr>\n",
              "  </tbody>\n",
              "</table>\n",
              "</div>\n",
              "      <button class=\"colab-df-convert\" onclick=\"convertToInteractive('df-b9993ebe-c83e-4006-836a-1e6ba5bf857e')\"\n",
              "              title=\"Convert this dataframe to an interactive table.\"\n",
              "              style=\"display:none;\">\n",
              "        \n",
              "  <svg xmlns=\"http://www.w3.org/2000/svg\" height=\"24px\"viewBox=\"0 0 24 24\"\n",
              "       width=\"24px\">\n",
              "    <path d=\"M0 0h24v24H0V0z\" fill=\"none\"/>\n",
              "    <path d=\"M18.56 5.44l.94 2.06.94-2.06 2.06-.94-2.06-.94-.94-2.06-.94 2.06-2.06.94zm-11 1L8.5 8.5l.94-2.06 2.06-.94-2.06-.94L8.5 2.5l-.94 2.06-2.06.94zm10 10l.94 2.06.94-2.06 2.06-.94-2.06-.94-.94-2.06-.94 2.06-2.06.94z\"/><path d=\"M17.41 7.96l-1.37-1.37c-.4-.4-.92-.59-1.43-.59-.52 0-1.04.2-1.43.59L10.3 9.45l-7.72 7.72c-.78.78-.78 2.05 0 2.83L4 21.41c.39.39.9.59 1.41.59.51 0 1.02-.2 1.41-.59l7.78-7.78 2.81-2.81c.8-.78.8-2.07 0-2.86zM5.41 20L4 18.59l7.72-7.72 1.47 1.35L5.41 20z\"/>\n",
              "  </svg>\n",
              "      </button>\n",
              "      \n",
              "  <style>\n",
              "    .colab-df-container {\n",
              "      display:flex;\n",
              "      flex-wrap:wrap;\n",
              "      gap: 12px;\n",
              "    }\n",
              "\n",
              "    .colab-df-convert {\n",
              "      background-color: #E8F0FE;\n",
              "      border: none;\n",
              "      border-radius: 50%;\n",
              "      cursor: pointer;\n",
              "      display: none;\n",
              "      fill: #1967D2;\n",
              "      height: 32px;\n",
              "      padding: 0 0 0 0;\n",
              "      width: 32px;\n",
              "    }\n",
              "\n",
              "    .colab-df-convert:hover {\n",
              "      background-color: #E2EBFA;\n",
              "      box-shadow: 0px 1px 2px rgba(60, 64, 67, 0.3), 0px 1px 3px 1px rgba(60, 64, 67, 0.15);\n",
              "      fill: #174EA6;\n",
              "    }\n",
              "\n",
              "    [theme=dark] .colab-df-convert {\n",
              "      background-color: #3B4455;\n",
              "      fill: #D2E3FC;\n",
              "    }\n",
              "\n",
              "    [theme=dark] .colab-df-convert:hover {\n",
              "      background-color: #434B5C;\n",
              "      box-shadow: 0px 1px 3px 1px rgba(0, 0, 0, 0.15);\n",
              "      filter: drop-shadow(0px 1px 2px rgba(0, 0, 0, 0.3));\n",
              "      fill: #FFFFFF;\n",
              "    }\n",
              "  </style>\n",
              "\n",
              "      <script>\n",
              "        const buttonEl =\n",
              "          document.querySelector('#df-b9993ebe-c83e-4006-836a-1e6ba5bf857e button.colab-df-convert');\n",
              "        buttonEl.style.display =\n",
              "          google.colab.kernel.accessAllowed ? 'block' : 'none';\n",
              "\n",
              "        async function convertToInteractive(key) {\n",
              "          const element = document.querySelector('#df-b9993ebe-c83e-4006-836a-1e6ba5bf857e');\n",
              "          const dataTable =\n",
              "            await google.colab.kernel.invokeFunction('convertToInteractive',\n",
              "                                                     [key], {});\n",
              "          if (!dataTable) return;\n",
              "\n",
              "          const docLinkHtml = 'Like what you see? Visit the ' +\n",
              "            '<a target=\"_blank\" href=https://colab.research.google.com/notebooks/data_table.ipynb>data table notebook</a>'\n",
              "            + ' to learn more about interactive tables.';\n",
              "          element.innerHTML = '';\n",
              "          dataTable['output_type'] = 'display_data';\n",
              "          await google.colab.output.renderOutput(dataTable, element);\n",
              "          const docLink = document.createElement('div');\n",
              "          docLink.innerHTML = docLinkHtml;\n",
              "          element.appendChild(docLink);\n",
              "        }\n",
              "      </script>\n",
              "    </div>\n",
              "  </div>\n",
              "  "
            ]
          },
          "metadata": {}
        }
      ],
      "source": [
        "get_df_info(ratings)"
      ]
    },
    {
      "cell_type": "markdown",
      "metadata": {
        "id": "eMi9gcGfBV6F"
      },
      "source": [
        "<a id='bkground'></a>\n",
        "<div class=\"h3\"><center>Links Content</center></div>"
      ]
    },
    {
      "cell_type": "code",
      "execution_count": null,
      "metadata": {
        "_kg_hide-input": true,
        "id": "9R6tUKnbBV6F",
        "outputId": "9247bdbb-cce3-492d-e13b-c6f0e2c79b13",
        "colab": {
          "base_uri": "https://localhost:8080/",
          "height": 407
        }
      },
      "outputs": [
        {
          "output_type": "display_data",
          "data": {
            "text/plain": [
              "   movieId  imdbId   tmdbId\n",
              "0        1  114709    862.0\n",
              "1        2  113497   8844.0\n",
              "2        3  113228  15602.0"
            ],
            "text/html": [
              "\n",
              "  <div id=\"df-9d1c2f4d-be2f-42b4-9a83-4a3e222afbb0\">\n",
              "    <div class=\"colab-df-container\">\n",
              "      <div>\n",
              "<style scoped>\n",
              "    .dataframe tbody tr th:only-of-type {\n",
              "        vertical-align: middle;\n",
              "    }\n",
              "\n",
              "    .dataframe tbody tr th {\n",
              "        vertical-align: top;\n",
              "    }\n",
              "\n",
              "    .dataframe thead th {\n",
              "        text-align: right;\n",
              "    }\n",
              "</style>\n",
              "<table border=\"1\" class=\"dataframe\">\n",
              "  <thead>\n",
              "    <tr style=\"text-align: right;\">\n",
              "      <th></th>\n",
              "      <th>movieId</th>\n",
              "      <th>imdbId</th>\n",
              "      <th>tmdbId</th>\n",
              "    </tr>\n",
              "  </thead>\n",
              "  <tbody>\n",
              "    <tr>\n",
              "      <th>0</th>\n",
              "      <td>1</td>\n",
              "      <td>114709</td>\n",
              "      <td>862.0</td>\n",
              "    </tr>\n",
              "    <tr>\n",
              "      <th>1</th>\n",
              "      <td>2</td>\n",
              "      <td>113497</td>\n",
              "      <td>8844.0</td>\n",
              "    </tr>\n",
              "    <tr>\n",
              "      <th>2</th>\n",
              "      <td>3</td>\n",
              "      <td>113228</td>\n",
              "      <td>15602.0</td>\n",
              "    </tr>\n",
              "  </tbody>\n",
              "</table>\n",
              "</div>\n",
              "      <button class=\"colab-df-convert\" onclick=\"convertToInteractive('df-9d1c2f4d-be2f-42b4-9a83-4a3e222afbb0')\"\n",
              "              title=\"Convert this dataframe to an interactive table.\"\n",
              "              style=\"display:none;\">\n",
              "        \n",
              "  <svg xmlns=\"http://www.w3.org/2000/svg\" height=\"24px\"viewBox=\"0 0 24 24\"\n",
              "       width=\"24px\">\n",
              "    <path d=\"M0 0h24v24H0V0z\" fill=\"none\"/>\n",
              "    <path d=\"M18.56 5.44l.94 2.06.94-2.06 2.06-.94-2.06-.94-.94-2.06-.94 2.06-2.06.94zm-11 1L8.5 8.5l.94-2.06 2.06-.94-2.06-.94L8.5 2.5l-.94 2.06-2.06.94zm10 10l.94 2.06.94-2.06 2.06-.94-2.06-.94-.94-2.06-.94 2.06-2.06.94z\"/><path d=\"M17.41 7.96l-1.37-1.37c-.4-.4-.92-.59-1.43-.59-.52 0-1.04.2-1.43.59L10.3 9.45l-7.72 7.72c-.78.78-.78 2.05 0 2.83L4 21.41c.39.39.9.59 1.41.59.51 0 1.02-.2 1.41-.59l7.78-7.78 2.81-2.81c.8-.78.8-2.07 0-2.86zM5.41 20L4 18.59l7.72-7.72 1.47 1.35L5.41 20z\"/>\n",
              "  </svg>\n",
              "      </button>\n",
              "      \n",
              "  <style>\n",
              "    .colab-df-container {\n",
              "      display:flex;\n",
              "      flex-wrap:wrap;\n",
              "      gap: 12px;\n",
              "    }\n",
              "\n",
              "    .colab-df-convert {\n",
              "      background-color: #E8F0FE;\n",
              "      border: none;\n",
              "      border-radius: 50%;\n",
              "      cursor: pointer;\n",
              "      display: none;\n",
              "      fill: #1967D2;\n",
              "      height: 32px;\n",
              "      padding: 0 0 0 0;\n",
              "      width: 32px;\n",
              "    }\n",
              "\n",
              "    .colab-df-convert:hover {\n",
              "      background-color: #E2EBFA;\n",
              "      box-shadow: 0px 1px 2px rgba(60, 64, 67, 0.3), 0px 1px 3px 1px rgba(60, 64, 67, 0.15);\n",
              "      fill: #174EA6;\n",
              "    }\n",
              "\n",
              "    [theme=dark] .colab-df-convert {\n",
              "      background-color: #3B4455;\n",
              "      fill: #D2E3FC;\n",
              "    }\n",
              "\n",
              "    [theme=dark] .colab-df-convert:hover {\n",
              "      background-color: #434B5C;\n",
              "      box-shadow: 0px 1px 3px 1px rgba(0, 0, 0, 0.15);\n",
              "      filter: drop-shadow(0px 1px 2px rgba(0, 0, 0, 0.3));\n",
              "      fill: #FFFFFF;\n",
              "    }\n",
              "  </style>\n",
              "\n",
              "      <script>\n",
              "        const buttonEl =\n",
              "          document.querySelector('#df-9d1c2f4d-be2f-42b4-9a83-4a3e222afbb0 button.colab-df-convert');\n",
              "        buttonEl.style.display =\n",
              "          google.colab.kernel.accessAllowed ? 'block' : 'none';\n",
              "\n",
              "        async function convertToInteractive(key) {\n",
              "          const element = document.querySelector('#df-9d1c2f4d-be2f-42b4-9a83-4a3e222afbb0');\n",
              "          const dataTable =\n",
              "            await google.colab.kernel.invokeFunction('convertToInteractive',\n",
              "                                                     [key], {});\n",
              "          if (!dataTable) return;\n",
              "\n",
              "          const docLinkHtml = 'Like what you see? Visit the ' +\n",
              "            '<a target=\"_blank\" href=https://colab.research.google.com/notebooks/data_table.ipynb>data table notebook</a>'\n",
              "            + ' to learn more about interactive tables.';\n",
              "          element.innerHTML = '';\n",
              "          dataTable['output_type'] = 'display_data';\n",
              "          await google.colab.output.renderOutput(dataTable, element);\n",
              "          const docLink = document.createElement('div');\n",
              "          docLink.innerHTML = docLinkHtml;\n",
              "          element.appendChild(docLink);\n",
              "        }\n",
              "      </script>\n",
              "    </div>\n",
              "  </div>\n",
              "  "
            ]
          },
          "metadata": {}
        },
        {
          "output_type": "display_data",
          "data": {
            "text/plain": [
              "'Number of Rows: 45843, Number of Columns: 3'"
            ],
            "application/vnd.google.colaboratory.intrinsic+json": {
              "type": "string"
            }
          },
          "metadata": {}
        },
        {
          "output_type": "display_data",
          "data": {
            "text/plain": [
              "'Data Types'"
            ],
            "application/vnd.google.colaboratory.intrinsic+json": {
              "type": "string"
            }
          },
          "metadata": {}
        },
        {
          "output_type": "display_data",
          "data": {
            "text/plain": [
              "    Column     Type\n",
              "0  movieId    int64\n",
              "1   imdbId    int64\n",
              "2   tmdbId  float64"
            ],
            "text/html": [
              "\n",
              "  <div id=\"df-07722a81-fc37-42f2-a9a1-6d78d0ab34a8\">\n",
              "    <div class=\"colab-df-container\">\n",
              "      <div>\n",
              "<style scoped>\n",
              "    .dataframe tbody tr th:only-of-type {\n",
              "        vertical-align: middle;\n",
              "    }\n",
              "\n",
              "    .dataframe tbody tr th {\n",
              "        vertical-align: top;\n",
              "    }\n",
              "\n",
              "    .dataframe thead th {\n",
              "        text-align: right;\n",
              "    }\n",
              "</style>\n",
              "<table border=\"1\" class=\"dataframe\">\n",
              "  <thead>\n",
              "    <tr style=\"text-align: right;\">\n",
              "      <th></th>\n",
              "      <th>Column</th>\n",
              "      <th>Type</th>\n",
              "    </tr>\n",
              "  </thead>\n",
              "  <tbody>\n",
              "    <tr>\n",
              "      <th>0</th>\n",
              "      <td>movieId</td>\n",
              "      <td>int64</td>\n",
              "    </tr>\n",
              "    <tr>\n",
              "      <th>1</th>\n",
              "      <td>imdbId</td>\n",
              "      <td>int64</td>\n",
              "    </tr>\n",
              "    <tr>\n",
              "      <th>2</th>\n",
              "      <td>tmdbId</td>\n",
              "      <td>float64</td>\n",
              "    </tr>\n",
              "  </tbody>\n",
              "</table>\n",
              "</div>\n",
              "      <button class=\"colab-df-convert\" onclick=\"convertToInteractive('df-07722a81-fc37-42f2-a9a1-6d78d0ab34a8')\"\n",
              "              title=\"Convert this dataframe to an interactive table.\"\n",
              "              style=\"display:none;\">\n",
              "        \n",
              "  <svg xmlns=\"http://www.w3.org/2000/svg\" height=\"24px\"viewBox=\"0 0 24 24\"\n",
              "       width=\"24px\">\n",
              "    <path d=\"M0 0h24v24H0V0z\" fill=\"none\"/>\n",
              "    <path d=\"M18.56 5.44l.94 2.06.94-2.06 2.06-.94-2.06-.94-.94-2.06-.94 2.06-2.06.94zm-11 1L8.5 8.5l.94-2.06 2.06-.94-2.06-.94L8.5 2.5l-.94 2.06-2.06.94zm10 10l.94 2.06.94-2.06 2.06-.94-2.06-.94-.94-2.06-.94 2.06-2.06.94z\"/><path d=\"M17.41 7.96l-1.37-1.37c-.4-.4-.92-.59-1.43-.59-.52 0-1.04.2-1.43.59L10.3 9.45l-7.72 7.72c-.78.78-.78 2.05 0 2.83L4 21.41c.39.39.9.59 1.41.59.51 0 1.02-.2 1.41-.59l7.78-7.78 2.81-2.81c.8-.78.8-2.07 0-2.86zM5.41 20L4 18.59l7.72-7.72 1.47 1.35L5.41 20z\"/>\n",
              "  </svg>\n",
              "      </button>\n",
              "      \n",
              "  <style>\n",
              "    .colab-df-container {\n",
              "      display:flex;\n",
              "      flex-wrap:wrap;\n",
              "      gap: 12px;\n",
              "    }\n",
              "\n",
              "    .colab-df-convert {\n",
              "      background-color: #E8F0FE;\n",
              "      border: none;\n",
              "      border-radius: 50%;\n",
              "      cursor: pointer;\n",
              "      display: none;\n",
              "      fill: #1967D2;\n",
              "      height: 32px;\n",
              "      padding: 0 0 0 0;\n",
              "      width: 32px;\n",
              "    }\n",
              "\n",
              "    .colab-df-convert:hover {\n",
              "      background-color: #E2EBFA;\n",
              "      box-shadow: 0px 1px 2px rgba(60, 64, 67, 0.3), 0px 1px 3px 1px rgba(60, 64, 67, 0.15);\n",
              "      fill: #174EA6;\n",
              "    }\n",
              "\n",
              "    [theme=dark] .colab-df-convert {\n",
              "      background-color: #3B4455;\n",
              "      fill: #D2E3FC;\n",
              "    }\n",
              "\n",
              "    [theme=dark] .colab-df-convert:hover {\n",
              "      background-color: #434B5C;\n",
              "      box-shadow: 0px 1px 3px 1px rgba(0, 0, 0, 0.15);\n",
              "      filter: drop-shadow(0px 1px 2px rgba(0, 0, 0, 0.3));\n",
              "      fill: #FFFFFF;\n",
              "    }\n",
              "  </style>\n",
              "\n",
              "      <script>\n",
              "        const buttonEl =\n",
              "          document.querySelector('#df-07722a81-fc37-42f2-a9a1-6d78d0ab34a8 button.colab-df-convert');\n",
              "        buttonEl.style.display =\n",
              "          google.colab.kernel.accessAllowed ? 'block' : 'none';\n",
              "\n",
              "        async function convertToInteractive(key) {\n",
              "          const element = document.querySelector('#df-07722a81-fc37-42f2-a9a1-6d78d0ab34a8');\n",
              "          const dataTable =\n",
              "            await google.colab.kernel.invokeFunction('convertToInteractive',\n",
              "                                                     [key], {});\n",
              "          if (!dataTable) return;\n",
              "\n",
              "          const docLinkHtml = 'Like what you see? Visit the ' +\n",
              "            '<a target=\"_blank\" href=https://colab.research.google.com/notebooks/data_table.ipynb>data table notebook</a>'\n",
              "            + ' to learn more about interactive tables.';\n",
              "          element.innerHTML = '';\n",
              "          dataTable['output_type'] = 'display_data';\n",
              "          await google.colab.output.renderOutput(dataTable, element);\n",
              "          const docLink = document.createElement('div');\n",
              "          docLink.innerHTML = docLinkHtml;\n",
              "          element.appendChild(docLink);\n",
              "        }\n",
              "      </script>\n",
              "    </div>\n",
              "  </div>\n",
              "  "
            ]
          },
          "metadata": {}
        },
        {
          "output_type": "display_data",
          "data": {
            "text/plain": [
              "'memory usage: 1.0 MB'"
            ],
            "application/vnd.google.colaboratory.intrinsic+json": {
              "type": "string"
            }
          },
          "metadata": {}
        },
        {
          "output_type": "display_data",
          "data": {
            "text/plain": [
              "'Missing Values'"
            ],
            "application/vnd.google.colaboratory.intrinsic+json": {
              "type": "string"
            }
          },
          "metadata": {}
        },
        {
          "output_type": "display_data",
          "data": {
            "text/plain": [
              "   Column  Missing Values\n",
              "0  tmdbId             219"
            ],
            "text/html": [
              "\n",
              "  <div id=\"df-de14c6c5-7072-4054-8ef1-f76e16bfd99e\">\n",
              "    <div class=\"colab-df-container\">\n",
              "      <div>\n",
              "<style scoped>\n",
              "    .dataframe tbody tr th:only-of-type {\n",
              "        vertical-align: middle;\n",
              "    }\n",
              "\n",
              "    .dataframe tbody tr th {\n",
              "        vertical-align: top;\n",
              "    }\n",
              "\n",
              "    .dataframe thead th {\n",
              "        text-align: right;\n",
              "    }\n",
              "</style>\n",
              "<table border=\"1\" class=\"dataframe\">\n",
              "  <thead>\n",
              "    <tr style=\"text-align: right;\">\n",
              "      <th></th>\n",
              "      <th>Column</th>\n",
              "      <th>Missing Values</th>\n",
              "    </tr>\n",
              "  </thead>\n",
              "  <tbody>\n",
              "    <tr>\n",
              "      <th>0</th>\n",
              "      <td>tmdbId</td>\n",
              "      <td>219</td>\n",
              "    </tr>\n",
              "  </tbody>\n",
              "</table>\n",
              "</div>\n",
              "      <button class=\"colab-df-convert\" onclick=\"convertToInteractive('df-de14c6c5-7072-4054-8ef1-f76e16bfd99e')\"\n",
              "              title=\"Convert this dataframe to an interactive table.\"\n",
              "              style=\"display:none;\">\n",
              "        \n",
              "  <svg xmlns=\"http://www.w3.org/2000/svg\" height=\"24px\"viewBox=\"0 0 24 24\"\n",
              "       width=\"24px\">\n",
              "    <path d=\"M0 0h24v24H0V0z\" fill=\"none\"/>\n",
              "    <path d=\"M18.56 5.44l.94 2.06.94-2.06 2.06-.94-2.06-.94-.94-2.06-.94 2.06-2.06.94zm-11 1L8.5 8.5l.94-2.06 2.06-.94-2.06-.94L8.5 2.5l-.94 2.06-2.06.94zm10 10l.94 2.06.94-2.06 2.06-.94-2.06-.94-.94-2.06-.94 2.06-2.06.94z\"/><path d=\"M17.41 7.96l-1.37-1.37c-.4-.4-.92-.59-1.43-.59-.52 0-1.04.2-1.43.59L10.3 9.45l-7.72 7.72c-.78.78-.78 2.05 0 2.83L4 21.41c.39.39.9.59 1.41.59.51 0 1.02-.2 1.41-.59l7.78-7.78 2.81-2.81c.8-.78.8-2.07 0-2.86zM5.41 20L4 18.59l7.72-7.72 1.47 1.35L5.41 20z\"/>\n",
              "  </svg>\n",
              "      </button>\n",
              "      \n",
              "  <style>\n",
              "    .colab-df-container {\n",
              "      display:flex;\n",
              "      flex-wrap:wrap;\n",
              "      gap: 12px;\n",
              "    }\n",
              "\n",
              "    .colab-df-convert {\n",
              "      background-color: #E8F0FE;\n",
              "      border: none;\n",
              "      border-radius: 50%;\n",
              "      cursor: pointer;\n",
              "      display: none;\n",
              "      fill: #1967D2;\n",
              "      height: 32px;\n",
              "      padding: 0 0 0 0;\n",
              "      width: 32px;\n",
              "    }\n",
              "\n",
              "    .colab-df-convert:hover {\n",
              "      background-color: #E2EBFA;\n",
              "      box-shadow: 0px 1px 2px rgba(60, 64, 67, 0.3), 0px 1px 3px 1px rgba(60, 64, 67, 0.15);\n",
              "      fill: #174EA6;\n",
              "    }\n",
              "\n",
              "    [theme=dark] .colab-df-convert {\n",
              "      background-color: #3B4455;\n",
              "      fill: #D2E3FC;\n",
              "    }\n",
              "\n",
              "    [theme=dark] .colab-df-convert:hover {\n",
              "      background-color: #434B5C;\n",
              "      box-shadow: 0px 1px 3px 1px rgba(0, 0, 0, 0.15);\n",
              "      filter: drop-shadow(0px 1px 2px rgba(0, 0, 0, 0.3));\n",
              "      fill: #FFFFFF;\n",
              "    }\n",
              "  </style>\n",
              "\n",
              "      <script>\n",
              "        const buttonEl =\n",
              "          document.querySelector('#df-de14c6c5-7072-4054-8ef1-f76e16bfd99e button.colab-df-convert');\n",
              "        buttonEl.style.display =\n",
              "          google.colab.kernel.accessAllowed ? 'block' : 'none';\n",
              "\n",
              "        async function convertToInteractive(key) {\n",
              "          const element = document.querySelector('#df-de14c6c5-7072-4054-8ef1-f76e16bfd99e');\n",
              "          const dataTable =\n",
              "            await google.colab.kernel.invokeFunction('convertToInteractive',\n",
              "                                                     [key], {});\n",
              "          if (!dataTable) return;\n",
              "\n",
              "          const docLinkHtml = 'Like what you see? Visit the ' +\n",
              "            '<a target=\"_blank\" href=https://colab.research.google.com/notebooks/data_table.ipynb>data table notebook</a>'\n",
              "            + ' to learn more about interactive tables.';\n",
              "          element.innerHTML = '';\n",
              "          dataTable['output_type'] = 'display_data';\n",
              "          await google.colab.output.renderOutput(dataTable, element);\n",
              "          const docLink = document.createElement('div');\n",
              "          docLink.innerHTML = docLinkHtml;\n",
              "          element.appendChild(docLink);\n",
              "        }\n",
              "      </script>\n",
              "    </div>\n",
              "  </div>\n",
              "  "
            ]
          },
          "metadata": {}
        }
      ],
      "source": [
        "get_df_info(links)"
      ]
    },
    {
      "cell_type": "markdown",
      "metadata": {
        "id": "Web2iFUUBV6G"
      },
      "source": [
        "<a id='bkground'></a>\n",
        "<div class=\"h3\"><center>Metadata Content</center></div>"
      ]
    },
    {
      "cell_type": "code",
      "execution_count": null,
      "metadata": {
        "_kg_hide-input": true,
        "id": "vcaxc1M1BV6G",
        "outputId": "4e86d092-9d1b-4565-b536-ae1f98690afd",
        "colab": {
          "base_uri": "https://localhost:8080/",
          "height": 1000
        }
      },
      "outputs": [
        {
          "output_type": "display_data",
          "data": {
            "text/plain": [
              "   adult                              belongs_to_collection    budget  \\\n",
              "0  False  {'id': 10194, 'name': 'Toy Story Collection', ...  30000000   \n",
              "1  False                                                NaN  65000000   \n",
              "2  False  {'id': 119050, 'name': 'Grumpy Old Men Collect...         0   \n",
              "\n",
              "                                              genres  ...             title  \\\n",
              "0  [{'id': 16, 'name': 'Animation'}, {'id': 35, '...  ...         Toy Story   \n",
              "1  [{'id': 12, 'name': 'Adventure'}, {'id': 14, '...  ...           Jumanji   \n",
              "2  [{'id': 10749, 'name': 'Romance'}, {'id': 35, ...  ...  Grumpier Old Men   \n",
              "\n",
              "   video vote_average vote_count  \n",
              "0  False          7.7     5415.0  \n",
              "1  False          6.9     2413.0  \n",
              "2  False          6.5       92.0  \n",
              "\n",
              "[3 rows x 24 columns]"
            ],
            "text/html": [
              "\n",
              "  <div id=\"df-6706753b-e6a0-44ac-80f6-32c66b89421f\">\n",
              "    <div class=\"colab-df-container\">\n",
              "      <div>\n",
              "<style scoped>\n",
              "    .dataframe tbody tr th:only-of-type {\n",
              "        vertical-align: middle;\n",
              "    }\n",
              "\n",
              "    .dataframe tbody tr th {\n",
              "        vertical-align: top;\n",
              "    }\n",
              "\n",
              "    .dataframe thead th {\n",
              "        text-align: right;\n",
              "    }\n",
              "</style>\n",
              "<table border=\"1\" class=\"dataframe\">\n",
              "  <thead>\n",
              "    <tr style=\"text-align: right;\">\n",
              "      <th></th>\n",
              "      <th>adult</th>\n",
              "      <th>belongs_to_collection</th>\n",
              "      <th>budget</th>\n",
              "      <th>genres</th>\n",
              "      <th>...</th>\n",
              "      <th>title</th>\n",
              "      <th>video</th>\n",
              "      <th>vote_average</th>\n",
              "      <th>vote_count</th>\n",
              "    </tr>\n",
              "  </thead>\n",
              "  <tbody>\n",
              "    <tr>\n",
              "      <th>0</th>\n",
              "      <td>False</td>\n",
              "      <td>{'id': 10194, 'name': 'Toy Story Collection', ...</td>\n",
              "      <td>30000000</td>\n",
              "      <td>[{'id': 16, 'name': 'Animation'}, {'id': 35, '...</td>\n",
              "      <td>...</td>\n",
              "      <td>Toy Story</td>\n",
              "      <td>False</td>\n",
              "      <td>7.7</td>\n",
              "      <td>5415.0</td>\n",
              "    </tr>\n",
              "    <tr>\n",
              "      <th>1</th>\n",
              "      <td>False</td>\n",
              "      <td>NaN</td>\n",
              "      <td>65000000</td>\n",
              "      <td>[{'id': 12, 'name': 'Adventure'}, {'id': 14, '...</td>\n",
              "      <td>...</td>\n",
              "      <td>Jumanji</td>\n",
              "      <td>False</td>\n",
              "      <td>6.9</td>\n",
              "      <td>2413.0</td>\n",
              "    </tr>\n",
              "    <tr>\n",
              "      <th>2</th>\n",
              "      <td>False</td>\n",
              "      <td>{'id': 119050, 'name': 'Grumpy Old Men Collect...</td>\n",
              "      <td>0</td>\n",
              "      <td>[{'id': 10749, 'name': 'Romance'}, {'id': 35, ...</td>\n",
              "      <td>...</td>\n",
              "      <td>Grumpier Old Men</td>\n",
              "      <td>False</td>\n",
              "      <td>6.5</td>\n",
              "      <td>92.0</td>\n",
              "    </tr>\n",
              "  </tbody>\n",
              "</table>\n",
              "<p>3 rows × 24 columns</p>\n",
              "</div>\n",
              "      <button class=\"colab-df-convert\" onclick=\"convertToInteractive('df-6706753b-e6a0-44ac-80f6-32c66b89421f')\"\n",
              "              title=\"Convert this dataframe to an interactive table.\"\n",
              "              style=\"display:none;\">\n",
              "        \n",
              "  <svg xmlns=\"http://www.w3.org/2000/svg\" height=\"24px\"viewBox=\"0 0 24 24\"\n",
              "       width=\"24px\">\n",
              "    <path d=\"M0 0h24v24H0V0z\" fill=\"none\"/>\n",
              "    <path d=\"M18.56 5.44l.94 2.06.94-2.06 2.06-.94-2.06-.94-.94-2.06-.94 2.06-2.06.94zm-11 1L8.5 8.5l.94-2.06 2.06-.94-2.06-.94L8.5 2.5l-.94 2.06-2.06.94zm10 10l.94 2.06.94-2.06 2.06-.94-2.06-.94-.94-2.06-.94 2.06-2.06.94z\"/><path d=\"M17.41 7.96l-1.37-1.37c-.4-.4-.92-.59-1.43-.59-.52 0-1.04.2-1.43.59L10.3 9.45l-7.72 7.72c-.78.78-.78 2.05 0 2.83L4 21.41c.39.39.9.59 1.41.59.51 0 1.02-.2 1.41-.59l7.78-7.78 2.81-2.81c.8-.78.8-2.07 0-2.86zM5.41 20L4 18.59l7.72-7.72 1.47 1.35L5.41 20z\"/>\n",
              "  </svg>\n",
              "      </button>\n",
              "      \n",
              "  <style>\n",
              "    .colab-df-container {\n",
              "      display:flex;\n",
              "      flex-wrap:wrap;\n",
              "      gap: 12px;\n",
              "    }\n",
              "\n",
              "    .colab-df-convert {\n",
              "      background-color: #E8F0FE;\n",
              "      border: none;\n",
              "      border-radius: 50%;\n",
              "      cursor: pointer;\n",
              "      display: none;\n",
              "      fill: #1967D2;\n",
              "      height: 32px;\n",
              "      padding: 0 0 0 0;\n",
              "      width: 32px;\n",
              "    }\n",
              "\n",
              "    .colab-df-convert:hover {\n",
              "      background-color: #E2EBFA;\n",
              "      box-shadow: 0px 1px 2px rgba(60, 64, 67, 0.3), 0px 1px 3px 1px rgba(60, 64, 67, 0.15);\n",
              "      fill: #174EA6;\n",
              "    }\n",
              "\n",
              "    [theme=dark] .colab-df-convert {\n",
              "      background-color: #3B4455;\n",
              "      fill: #D2E3FC;\n",
              "    }\n",
              "\n",
              "    [theme=dark] .colab-df-convert:hover {\n",
              "      background-color: #434B5C;\n",
              "      box-shadow: 0px 1px 3px 1px rgba(0, 0, 0, 0.15);\n",
              "      filter: drop-shadow(0px 1px 2px rgba(0, 0, 0, 0.3));\n",
              "      fill: #FFFFFF;\n",
              "    }\n",
              "  </style>\n",
              "\n",
              "      <script>\n",
              "        const buttonEl =\n",
              "          document.querySelector('#df-6706753b-e6a0-44ac-80f6-32c66b89421f button.colab-df-convert');\n",
              "        buttonEl.style.display =\n",
              "          google.colab.kernel.accessAllowed ? 'block' : 'none';\n",
              "\n",
              "        async function convertToInteractive(key) {\n",
              "          const element = document.querySelector('#df-6706753b-e6a0-44ac-80f6-32c66b89421f');\n",
              "          const dataTable =\n",
              "            await google.colab.kernel.invokeFunction('convertToInteractive',\n",
              "                                                     [key], {});\n",
              "          if (!dataTable) return;\n",
              "\n",
              "          const docLinkHtml = 'Like what you see? Visit the ' +\n",
              "            '<a target=\"_blank\" href=https://colab.research.google.com/notebooks/data_table.ipynb>data table notebook</a>'\n",
              "            + ' to learn more about interactive tables.';\n",
              "          element.innerHTML = '';\n",
              "          dataTable['output_type'] = 'display_data';\n",
              "          await google.colab.output.renderOutput(dataTable, element);\n",
              "          const docLink = document.createElement('div');\n",
              "          docLink.innerHTML = docLinkHtml;\n",
              "          element.appendChild(docLink);\n",
              "        }\n",
              "      </script>\n",
              "    </div>\n",
              "  </div>\n",
              "  "
            ]
          },
          "metadata": {}
        },
        {
          "output_type": "display_data",
          "data": {
            "text/plain": [
              "'Number of Rows: 45466, Number of Columns: 24'"
            ],
            "application/vnd.google.colaboratory.intrinsic+json": {
              "type": "string"
            }
          },
          "metadata": {}
        },
        {
          "output_type": "display_data",
          "data": {
            "text/plain": [
              "'Data Types'"
            ],
            "application/vnd.google.colaboratory.intrinsic+json": {
              "type": "string"
            }
          },
          "metadata": {}
        },
        {
          "output_type": "display_data",
          "data": {
            "text/plain": [
              "                   Column     Type\n",
              "0                   adult   object\n",
              "1   belongs_to_collection   object\n",
              "2                  budget   object\n",
              "3                  genres   object\n",
              "4                homepage   object\n",
              "5                      id   object\n",
              "6                 imdb_id   object\n",
              "7       original_language   object\n",
              "8          original_title   object\n",
              "9                overview   object\n",
              "10             popularity   object\n",
              "11            poster_path   object\n",
              "12   production_companies   object\n",
              "13   production_countries   object\n",
              "14           release_date   object\n",
              "15                revenue  float64\n",
              "16                runtime  float64\n",
              "17       spoken_languages   object\n",
              "18                 status   object\n",
              "19                tagline   object\n",
              "20                  title   object\n",
              "21                  video   object\n",
              "22           vote_average  float64\n",
              "23             vote_count  float64"
            ],
            "text/html": [
              "\n",
              "  <div id=\"df-08a2cd85-231e-4a1f-b220-7383179e6d40\">\n",
              "    <div class=\"colab-df-container\">\n",
              "      <div>\n",
              "<style scoped>\n",
              "    .dataframe tbody tr th:only-of-type {\n",
              "        vertical-align: middle;\n",
              "    }\n",
              "\n",
              "    .dataframe tbody tr th {\n",
              "        vertical-align: top;\n",
              "    }\n",
              "\n",
              "    .dataframe thead th {\n",
              "        text-align: right;\n",
              "    }\n",
              "</style>\n",
              "<table border=\"1\" class=\"dataframe\">\n",
              "  <thead>\n",
              "    <tr style=\"text-align: right;\">\n",
              "      <th></th>\n",
              "      <th>Column</th>\n",
              "      <th>Type</th>\n",
              "    </tr>\n",
              "  </thead>\n",
              "  <tbody>\n",
              "    <tr>\n",
              "      <th>0</th>\n",
              "      <td>adult</td>\n",
              "      <td>object</td>\n",
              "    </tr>\n",
              "    <tr>\n",
              "      <th>1</th>\n",
              "      <td>belongs_to_collection</td>\n",
              "      <td>object</td>\n",
              "    </tr>\n",
              "    <tr>\n",
              "      <th>2</th>\n",
              "      <td>budget</td>\n",
              "      <td>object</td>\n",
              "    </tr>\n",
              "    <tr>\n",
              "      <th>3</th>\n",
              "      <td>genres</td>\n",
              "      <td>object</td>\n",
              "    </tr>\n",
              "    <tr>\n",
              "      <th>4</th>\n",
              "      <td>homepage</td>\n",
              "      <td>object</td>\n",
              "    </tr>\n",
              "    <tr>\n",
              "      <th>5</th>\n",
              "      <td>id</td>\n",
              "      <td>object</td>\n",
              "    </tr>\n",
              "    <tr>\n",
              "      <th>6</th>\n",
              "      <td>imdb_id</td>\n",
              "      <td>object</td>\n",
              "    </tr>\n",
              "    <tr>\n",
              "      <th>7</th>\n",
              "      <td>original_language</td>\n",
              "      <td>object</td>\n",
              "    </tr>\n",
              "    <tr>\n",
              "      <th>8</th>\n",
              "      <td>original_title</td>\n",
              "      <td>object</td>\n",
              "    </tr>\n",
              "    <tr>\n",
              "      <th>9</th>\n",
              "      <td>overview</td>\n",
              "      <td>object</td>\n",
              "    </tr>\n",
              "    <tr>\n",
              "      <th>10</th>\n",
              "      <td>popularity</td>\n",
              "      <td>object</td>\n",
              "    </tr>\n",
              "    <tr>\n",
              "      <th>11</th>\n",
              "      <td>poster_path</td>\n",
              "      <td>object</td>\n",
              "    </tr>\n",
              "    <tr>\n",
              "      <th>12</th>\n",
              "      <td>production_companies</td>\n",
              "      <td>object</td>\n",
              "    </tr>\n",
              "    <tr>\n",
              "      <th>13</th>\n",
              "      <td>production_countries</td>\n",
              "      <td>object</td>\n",
              "    </tr>\n",
              "    <tr>\n",
              "      <th>14</th>\n",
              "      <td>release_date</td>\n",
              "      <td>object</td>\n",
              "    </tr>\n",
              "    <tr>\n",
              "      <th>15</th>\n",
              "      <td>revenue</td>\n",
              "      <td>float64</td>\n",
              "    </tr>\n",
              "    <tr>\n",
              "      <th>16</th>\n",
              "      <td>runtime</td>\n",
              "      <td>float64</td>\n",
              "    </tr>\n",
              "    <tr>\n",
              "      <th>17</th>\n",
              "      <td>spoken_languages</td>\n",
              "      <td>object</td>\n",
              "    </tr>\n",
              "    <tr>\n",
              "      <th>18</th>\n",
              "      <td>status</td>\n",
              "      <td>object</td>\n",
              "    </tr>\n",
              "    <tr>\n",
              "      <th>19</th>\n",
              "      <td>tagline</td>\n",
              "      <td>object</td>\n",
              "    </tr>\n",
              "    <tr>\n",
              "      <th>20</th>\n",
              "      <td>title</td>\n",
              "      <td>object</td>\n",
              "    </tr>\n",
              "    <tr>\n",
              "      <th>21</th>\n",
              "      <td>video</td>\n",
              "      <td>object</td>\n",
              "    </tr>\n",
              "    <tr>\n",
              "      <th>22</th>\n",
              "      <td>vote_average</td>\n",
              "      <td>float64</td>\n",
              "    </tr>\n",
              "    <tr>\n",
              "      <th>23</th>\n",
              "      <td>vote_count</td>\n",
              "      <td>float64</td>\n",
              "    </tr>\n",
              "  </tbody>\n",
              "</table>\n",
              "</div>\n",
              "      <button class=\"colab-df-convert\" onclick=\"convertToInteractive('df-08a2cd85-231e-4a1f-b220-7383179e6d40')\"\n",
              "              title=\"Convert this dataframe to an interactive table.\"\n",
              "              style=\"display:none;\">\n",
              "        \n",
              "  <svg xmlns=\"http://www.w3.org/2000/svg\" height=\"24px\"viewBox=\"0 0 24 24\"\n",
              "       width=\"24px\">\n",
              "    <path d=\"M0 0h24v24H0V0z\" fill=\"none\"/>\n",
              "    <path d=\"M18.56 5.44l.94 2.06.94-2.06 2.06-.94-2.06-.94-.94-2.06-.94 2.06-2.06.94zm-11 1L8.5 8.5l.94-2.06 2.06-.94-2.06-.94L8.5 2.5l-.94 2.06-2.06.94zm10 10l.94 2.06.94-2.06 2.06-.94-2.06-.94-.94-2.06-.94 2.06-2.06.94z\"/><path d=\"M17.41 7.96l-1.37-1.37c-.4-.4-.92-.59-1.43-.59-.52 0-1.04.2-1.43.59L10.3 9.45l-7.72 7.72c-.78.78-.78 2.05 0 2.83L4 21.41c.39.39.9.59 1.41.59.51 0 1.02-.2 1.41-.59l7.78-7.78 2.81-2.81c.8-.78.8-2.07 0-2.86zM5.41 20L4 18.59l7.72-7.72 1.47 1.35L5.41 20z\"/>\n",
              "  </svg>\n",
              "      </button>\n",
              "      \n",
              "  <style>\n",
              "    .colab-df-container {\n",
              "      display:flex;\n",
              "      flex-wrap:wrap;\n",
              "      gap: 12px;\n",
              "    }\n",
              "\n",
              "    .colab-df-convert {\n",
              "      background-color: #E8F0FE;\n",
              "      border: none;\n",
              "      border-radius: 50%;\n",
              "      cursor: pointer;\n",
              "      display: none;\n",
              "      fill: #1967D2;\n",
              "      height: 32px;\n",
              "      padding: 0 0 0 0;\n",
              "      width: 32px;\n",
              "    }\n",
              "\n",
              "    .colab-df-convert:hover {\n",
              "      background-color: #E2EBFA;\n",
              "      box-shadow: 0px 1px 2px rgba(60, 64, 67, 0.3), 0px 1px 3px 1px rgba(60, 64, 67, 0.15);\n",
              "      fill: #174EA6;\n",
              "    }\n",
              "\n",
              "    [theme=dark] .colab-df-convert {\n",
              "      background-color: #3B4455;\n",
              "      fill: #D2E3FC;\n",
              "    }\n",
              "\n",
              "    [theme=dark] .colab-df-convert:hover {\n",
              "      background-color: #434B5C;\n",
              "      box-shadow: 0px 1px 3px 1px rgba(0, 0, 0, 0.15);\n",
              "      filter: drop-shadow(0px 1px 2px rgba(0, 0, 0, 0.3));\n",
              "      fill: #FFFFFF;\n",
              "    }\n",
              "  </style>\n",
              "\n",
              "      <script>\n",
              "        const buttonEl =\n",
              "          document.querySelector('#df-08a2cd85-231e-4a1f-b220-7383179e6d40 button.colab-df-convert');\n",
              "        buttonEl.style.display =\n",
              "          google.colab.kernel.accessAllowed ? 'block' : 'none';\n",
              "\n",
              "        async function convertToInteractive(key) {\n",
              "          const element = document.querySelector('#df-08a2cd85-231e-4a1f-b220-7383179e6d40');\n",
              "          const dataTable =\n",
              "            await google.colab.kernel.invokeFunction('convertToInteractive',\n",
              "                                                     [key], {});\n",
              "          if (!dataTable) return;\n",
              "\n",
              "          const docLinkHtml = 'Like what you see? Visit the ' +\n",
              "            '<a target=\"_blank\" href=https://colab.research.google.com/notebooks/data_table.ipynb>data table notebook</a>'\n",
              "            + ' to learn more about interactive tables.';\n",
              "          element.innerHTML = '';\n",
              "          dataTable['output_type'] = 'display_data';\n",
              "          await google.colab.output.renderOutput(dataTable, element);\n",
              "          const docLink = document.createElement('div');\n",
              "          docLink.innerHTML = docLinkHtml;\n",
              "          element.appendChild(docLink);\n",
              "        }\n",
              "      </script>\n",
              "    </div>\n",
              "  </div>\n",
              "  "
            ]
          },
          "metadata": {}
        },
        {
          "output_type": "display_data",
          "data": {
            "text/plain": [
              "'memory usage: 8.3+ MB'"
            ],
            "application/vnd.google.colaboratory.intrinsic+json": {
              "type": "string"
            }
          },
          "metadata": {}
        },
        {
          "output_type": "display_data",
          "data": {
            "text/plain": [
              "'Missing Values'"
            ],
            "application/vnd.google.colaboratory.intrinsic+json": {
              "type": "string"
            }
          },
          "metadata": {}
        },
        {
          "output_type": "display_data",
          "data": {
            "text/plain": [
              "                   Column  Missing Values\n",
              "0   belongs_to_collection           40972\n",
              "1                homepage           37684\n",
              "2                 tagline           25054\n",
              "3                overview             954\n",
              "4             poster_path             386\n",
              "5                 runtime             263\n",
              "6                  status              87\n",
              "7            release_date              87\n",
              "8                 imdb_id              17\n",
              "9       original_language              11\n",
              "10       spoken_languages               6\n",
              "11                  title               6\n",
              "12                  video               6\n",
              "13           vote_average               6\n",
              "14                revenue               6\n",
              "15             vote_count               6\n",
              "16             popularity               5\n",
              "17   production_companies               3\n",
              "18   production_countries               3"
            ],
            "text/html": [
              "\n",
              "  <div id=\"df-73c08938-711a-4484-9a49-146ceaef44b0\">\n",
              "    <div class=\"colab-df-container\">\n",
              "      <div>\n",
              "<style scoped>\n",
              "    .dataframe tbody tr th:only-of-type {\n",
              "        vertical-align: middle;\n",
              "    }\n",
              "\n",
              "    .dataframe tbody tr th {\n",
              "        vertical-align: top;\n",
              "    }\n",
              "\n",
              "    .dataframe thead th {\n",
              "        text-align: right;\n",
              "    }\n",
              "</style>\n",
              "<table border=\"1\" class=\"dataframe\">\n",
              "  <thead>\n",
              "    <tr style=\"text-align: right;\">\n",
              "      <th></th>\n",
              "      <th>Column</th>\n",
              "      <th>Missing Values</th>\n",
              "    </tr>\n",
              "  </thead>\n",
              "  <tbody>\n",
              "    <tr>\n",
              "      <th>0</th>\n",
              "      <td>belongs_to_collection</td>\n",
              "      <td>40972</td>\n",
              "    </tr>\n",
              "    <tr>\n",
              "      <th>1</th>\n",
              "      <td>homepage</td>\n",
              "      <td>37684</td>\n",
              "    </tr>\n",
              "    <tr>\n",
              "      <th>2</th>\n",
              "      <td>tagline</td>\n",
              "      <td>25054</td>\n",
              "    </tr>\n",
              "    <tr>\n",
              "      <th>3</th>\n",
              "      <td>overview</td>\n",
              "      <td>954</td>\n",
              "    </tr>\n",
              "    <tr>\n",
              "      <th>4</th>\n",
              "      <td>poster_path</td>\n",
              "      <td>386</td>\n",
              "    </tr>\n",
              "    <tr>\n",
              "      <th>5</th>\n",
              "      <td>runtime</td>\n",
              "      <td>263</td>\n",
              "    </tr>\n",
              "    <tr>\n",
              "      <th>6</th>\n",
              "      <td>status</td>\n",
              "      <td>87</td>\n",
              "    </tr>\n",
              "    <tr>\n",
              "      <th>7</th>\n",
              "      <td>release_date</td>\n",
              "      <td>87</td>\n",
              "    </tr>\n",
              "    <tr>\n",
              "      <th>8</th>\n",
              "      <td>imdb_id</td>\n",
              "      <td>17</td>\n",
              "    </tr>\n",
              "    <tr>\n",
              "      <th>9</th>\n",
              "      <td>original_language</td>\n",
              "      <td>11</td>\n",
              "    </tr>\n",
              "    <tr>\n",
              "      <th>10</th>\n",
              "      <td>spoken_languages</td>\n",
              "      <td>6</td>\n",
              "    </tr>\n",
              "    <tr>\n",
              "      <th>11</th>\n",
              "      <td>title</td>\n",
              "      <td>6</td>\n",
              "    </tr>\n",
              "    <tr>\n",
              "      <th>12</th>\n",
              "      <td>video</td>\n",
              "      <td>6</td>\n",
              "    </tr>\n",
              "    <tr>\n",
              "      <th>13</th>\n",
              "      <td>vote_average</td>\n",
              "      <td>6</td>\n",
              "    </tr>\n",
              "    <tr>\n",
              "      <th>14</th>\n",
              "      <td>revenue</td>\n",
              "      <td>6</td>\n",
              "    </tr>\n",
              "    <tr>\n",
              "      <th>15</th>\n",
              "      <td>vote_count</td>\n",
              "      <td>6</td>\n",
              "    </tr>\n",
              "    <tr>\n",
              "      <th>16</th>\n",
              "      <td>popularity</td>\n",
              "      <td>5</td>\n",
              "    </tr>\n",
              "    <tr>\n",
              "      <th>17</th>\n",
              "      <td>production_companies</td>\n",
              "      <td>3</td>\n",
              "    </tr>\n",
              "    <tr>\n",
              "      <th>18</th>\n",
              "      <td>production_countries</td>\n",
              "      <td>3</td>\n",
              "    </tr>\n",
              "  </tbody>\n",
              "</table>\n",
              "</div>\n",
              "      <button class=\"colab-df-convert\" onclick=\"convertToInteractive('df-73c08938-711a-4484-9a49-146ceaef44b0')\"\n",
              "              title=\"Convert this dataframe to an interactive table.\"\n",
              "              style=\"display:none;\">\n",
              "        \n",
              "  <svg xmlns=\"http://www.w3.org/2000/svg\" height=\"24px\"viewBox=\"0 0 24 24\"\n",
              "       width=\"24px\">\n",
              "    <path d=\"M0 0h24v24H0V0z\" fill=\"none\"/>\n",
              "    <path d=\"M18.56 5.44l.94 2.06.94-2.06 2.06-.94-2.06-.94-.94-2.06-.94 2.06-2.06.94zm-11 1L8.5 8.5l.94-2.06 2.06-.94-2.06-.94L8.5 2.5l-.94 2.06-2.06.94zm10 10l.94 2.06.94-2.06 2.06-.94-2.06-.94-.94-2.06-.94 2.06-2.06.94z\"/><path d=\"M17.41 7.96l-1.37-1.37c-.4-.4-.92-.59-1.43-.59-.52 0-1.04.2-1.43.59L10.3 9.45l-7.72 7.72c-.78.78-.78 2.05 0 2.83L4 21.41c.39.39.9.59 1.41.59.51 0 1.02-.2 1.41-.59l7.78-7.78 2.81-2.81c.8-.78.8-2.07 0-2.86zM5.41 20L4 18.59l7.72-7.72 1.47 1.35L5.41 20z\"/>\n",
              "  </svg>\n",
              "      </button>\n",
              "      \n",
              "  <style>\n",
              "    .colab-df-container {\n",
              "      display:flex;\n",
              "      flex-wrap:wrap;\n",
              "      gap: 12px;\n",
              "    }\n",
              "\n",
              "    .colab-df-convert {\n",
              "      background-color: #E8F0FE;\n",
              "      border: none;\n",
              "      border-radius: 50%;\n",
              "      cursor: pointer;\n",
              "      display: none;\n",
              "      fill: #1967D2;\n",
              "      height: 32px;\n",
              "      padding: 0 0 0 0;\n",
              "      width: 32px;\n",
              "    }\n",
              "\n",
              "    .colab-df-convert:hover {\n",
              "      background-color: #E2EBFA;\n",
              "      box-shadow: 0px 1px 2px rgba(60, 64, 67, 0.3), 0px 1px 3px 1px rgba(60, 64, 67, 0.15);\n",
              "      fill: #174EA6;\n",
              "    }\n",
              "\n",
              "    [theme=dark] .colab-df-convert {\n",
              "      background-color: #3B4455;\n",
              "      fill: #D2E3FC;\n",
              "    }\n",
              "\n",
              "    [theme=dark] .colab-df-convert:hover {\n",
              "      background-color: #434B5C;\n",
              "      box-shadow: 0px 1px 3px 1px rgba(0, 0, 0, 0.15);\n",
              "      filter: drop-shadow(0px 1px 2px rgba(0, 0, 0, 0.3));\n",
              "      fill: #FFFFFF;\n",
              "    }\n",
              "  </style>\n",
              "\n",
              "      <script>\n",
              "        const buttonEl =\n",
              "          document.querySelector('#df-73c08938-711a-4484-9a49-146ceaef44b0 button.colab-df-convert');\n",
              "        buttonEl.style.display =\n",
              "          google.colab.kernel.accessAllowed ? 'block' : 'none';\n",
              "\n",
              "        async function convertToInteractive(key) {\n",
              "          const element = document.querySelector('#df-73c08938-711a-4484-9a49-146ceaef44b0');\n",
              "          const dataTable =\n",
              "            await google.colab.kernel.invokeFunction('convertToInteractive',\n",
              "                                                     [key], {});\n",
              "          if (!dataTable) return;\n",
              "\n",
              "          const docLinkHtml = 'Like what you see? Visit the ' +\n",
              "            '<a target=\"_blank\" href=https://colab.research.google.com/notebooks/data_table.ipynb>data table notebook</a>'\n",
              "            + ' to learn more about interactive tables.';\n",
              "          element.innerHTML = '';\n",
              "          dataTable['output_type'] = 'display_data';\n",
              "          await google.colab.output.renderOutput(dataTable, element);\n",
              "          const docLink = document.createElement('div');\n",
              "          docLink.innerHTML = docLinkHtml;\n",
              "          element.appendChild(docLink);\n",
              "        }\n",
              "      </script>\n",
              "    </div>\n",
              "  </div>\n",
              "  "
            ]
          },
          "metadata": {}
        }
      ],
      "source": [
        "get_df_info(metadata)"
      ]
    },
    {
      "cell_type": "markdown",
      "metadata": {
        "id": "RnjSGVcrBV6G"
      },
      "source": [
        "In all the data info displayed, we can see that only ratings have a large memory usage, and I will use this dataset to make the recommendation system based on user ratings, the dataset have the relevant data like userId, movieId and ratings.<br>\n",
        "It's important to say that the ratings dataset doesn't have any missing value, therefore, will not needed any treatment like data imputation or drop NA rows.<br>\n",
        "The other datasets will be used for Exploratory Data Analysis.\n"
      ]
    },
    {
      "cell_type": "markdown",
      "metadata": {
        "id": "yvPwKJOdBV6G"
      },
      "source": [
        "<br>\n",
        "<a id='bkground'></a>\n",
        "<div class=\"h2\"><center>Exploratory Data Analysis</center></div>\n",
        "<br>"
      ]
    },
    {
      "cell_type": "markdown",
      "metadata": {
        "id": "efXQkt2lBV6G"
      },
      "source": [
        "<div class=\"h3\">Let's start with the following approaches</div><br>\n",
        "* Rating Frequency.\n",
        "* Analysis of most rated movies.\n",
        "* World cloud with most common words.\n",
        "\n",
        "Let's start plotting an Histogram to see the rating distribution."
      ]
    },
    {
      "cell_type": "code",
      "execution_count": null,
      "metadata": {
        "_kg_hide-input": true,
        "id": "TojYyC1ABV6H",
        "outputId": "d0d42b0d-d08b-40ee-fb7d-9fb3742edb12",
        "colab": {
          "base_uri": "https://localhost:8080/",
          "height": 539
        }
      },
      "outputs": [
        {
          "output_type": "display_data",
          "data": {
            "text/plain": [
              "<Figure size 700x600 with 1 Axes>"
            ],
            "image/svg+xml": "<?xml version=\"1.0\" encoding=\"utf-8\" standalone=\"no\"?>\n<!DOCTYPE svg PUBLIC \"-//W3C//DTD SVG 1.1//EN\"\n  \"http://www.w3.org/Graphics/SVG/1.1/DTD/svg11.dtd\">\n<svg xmlns:xlink=\"http://www.w3.org/1999/xlink\" width=\"452.014375pt\" height=\"388.06625pt\" viewBox=\"0 0 452.014375 388.06625\" xmlns=\"http://www.w3.org/2000/svg\" version=\"1.1\">\n <metadata>\n  <rdf:RDF xmlns:dc=\"http://purl.org/dc/elements/1.1/\" xmlns:cc=\"http://creativecommons.org/ns#\" xmlns:rdf=\"http://www.w3.org/1999/02/22-rdf-syntax-ns#\">\n   <cc:Work>\n    <dc:type rdf:resource=\"http://purl.org/dc/dcmitype/StillImage\"/>\n    <dc:date>2023-07-07T16:24:21.096211</dc:date>\n    <dc:format>image/svg+xml</dc:format>\n    <dc:creator>\n     <cc:Agent>\n      <dc:title>Matplotlib v3.7.1, https://matplotlib.org/</dc:title>\n     </cc:Agent>\n    </dc:creator>\n   </cc:Work>\n  </rdf:RDF>\n </metadata>\n <defs>\n  <style type=\"text/css\">*{stroke-linejoin: round; stroke-linecap: butt}</style>\n </defs>\n <g id=\"figure_1\">\n  <g id=\"patch_1\">\n   <path d=\"M 0 388.06625 \nL 452.014375 388.06625 \nL 452.014375 0 \nL 0 0 \nz\n\" style=\"fill: #ffffff\"/>\n  </g>\n  <g id=\"axes_1\">\n   <g id=\"patch_2\">\n    <path d=\"M 54.214375 353.086875 \nL 444.814375 353.086875 \nL 444.814375 20.446875 \nL 54.214375 20.446875 \nz\n\" style=\"fill: #eaeaf2\"/>\n   </g>\n   <g id=\"matplotlib.axis_1\">\n    <g id=\"xtick_1\">\n     <g id=\"line2d_1\">\n      <path d=\"M 111.423466 353.086875 \nL 111.423466 20.446875 \n\" clip-path=\"url(#p5a069231d9)\" style=\"fill: none; stroke: #ffffff; stroke-linecap: round\"/>\n     </g>\n     <g id=\"line2d_2\"/>\n     <g id=\"text_1\">\n      <!-- 1 -->\n      <g style=\"fill: #262626\" transform=\"translate(109.199091 365.884375) scale(0.08 -0.08)\">\n       <defs>\n        <path id=\"LiberationSans-31\" d=\"M 488 0 \nL 488 478 \nL 1609 478 \nL 1609 3866 \nL 616 3156 \nL 616 3688 \nL 1656 4403 \nL 2175 4403 \nL 2175 478 \nL 3247 478 \nL 3247 0 \nL 488 0 \nz\n\" transform=\"scale(0.015625)\"/>\n       </defs>\n       <use xlink:href=\"#LiberationSans-31\"/>\n      </g>\n     </g>\n    </g>\n    <g id=\"xtick_2\">\n     <g id=\"line2d_3\">\n      <path d=\"M 190.332557 353.086875 \nL 190.332557 20.446875 \n\" clip-path=\"url(#p5a069231d9)\" style=\"fill: none; stroke: #ffffff; stroke-linecap: round\"/>\n     </g>\n     <g id=\"line2d_4\"/>\n     <g id=\"text_2\">\n      <!-- 2 -->\n      <g style=\"fill: #262626\" transform=\"translate(188.108182 365.884375) scale(0.08 -0.08)\">\n       <defs>\n        <path id=\"LiberationSans-32\" d=\"M 322 0 \nL 322 397 \nQ 481 763 711 1042 \nQ 941 1322 1194 1548 \nQ 1447 1775 1695 1969 \nQ 1944 2163 2144 2356 \nQ 2344 2550 2467 2762 \nQ 2591 2975 2591 3244 \nQ 2591 3431 2534 3573 \nQ 2478 3716 2372 3812 \nQ 2266 3909 2117 3957 \nQ 1969 4006 1788 4006 \nQ 1619 4006 1470 3959 \nQ 1322 3913 1206 3819 \nQ 1091 3725 1017 3586 \nQ 944 3447 922 3263 \nL 347 3316 \nQ 375 3553 478 3762 \nQ 581 3972 762 4130 \nQ 944 4288 1198 4378 \nQ 1453 4469 1788 4469 \nQ 2116 4469 2372 4391 \nQ 2628 4313 2804 4159 \nQ 2981 4006 3075 3781 \nQ 3169 3556 3169 3263 \nQ 3169 3041 3089 2841 \nQ 3009 2641 2876 2459 \nQ 2744 2278 2569 2109 \nQ 2394 1941 2203 1780 \nQ 2013 1619 1819 1461 \nQ 1625 1303 1454 1143 \nQ 1284 984 1150 820 \nQ 1016 656 941 478 \nL 3238 478 \nL 3238 0 \nL 322 0 \nz\n\" transform=\"scale(0.015625)\"/>\n       </defs>\n       <use xlink:href=\"#LiberationSans-32\"/>\n      </g>\n     </g>\n    </g>\n    <g id=\"xtick_3\">\n     <g id=\"line2d_5\">\n      <path d=\"M 269.241648 353.086875 \nL 269.241648 20.446875 \n\" clip-path=\"url(#p5a069231d9)\" style=\"fill: none; stroke: #ffffff; stroke-linecap: round\"/>\n     </g>\n     <g id=\"line2d_6\"/>\n     <g id=\"text_3\">\n      <!-- 3 -->\n      <g style=\"fill: #262626\" transform=\"translate(267.017273 365.884375) scale(0.08 -0.08)\">\n       <defs>\n        <path id=\"LiberationSans-33\" d=\"M 3278 1216 \nQ 3278 913 3179 675 \nQ 3081 438 2892 273 \nQ 2703 109 2423 23 \nQ 2144 -63 1784 -63 \nQ 1375 -63 1095 39 \nQ 816 141 634 308 \nQ 453 475 362 689 \nQ 272 903 244 1131 \nL 825 1184 \nQ 850 1009 917 865 \nQ 984 722 1100 619 \nQ 1216 516 1384 459 \nQ 1553 403 1784 403 \nQ 2209 403 2451 612 \nQ 2694 822 2694 1234 \nQ 2694 1478 2586 1626 \nQ 2478 1775 2317 1858 \nQ 2156 1941 1967 1969 \nQ 1778 1997 1619 1997 \nL 1300 1997 \nL 1300 2484 \nL 1606 2484 \nQ 1766 2484 1937 2517 \nQ 2109 2550 2251 2636 \nQ 2394 2722 2486 2869 \nQ 2578 3016 2578 3244 \nQ 2578 3597 2370 3801 \nQ 2163 4006 1753 4006 \nQ 1381 4006 1151 3815 \nQ 922 3625 884 3278 \nL 319 3322 \nQ 353 3613 478 3828 \nQ 603 4044 795 4186 \nQ 988 4328 1234 4398 \nQ 1481 4469 1759 4469 \nQ 2128 4469 2393 4376 \nQ 2659 4284 2828 4126 \nQ 2997 3969 3076 3756 \nQ 3156 3544 3156 3303 \nQ 3156 3109 3103 2940 \nQ 3050 2772 2937 2637 \nQ 2825 2503 2651 2406 \nQ 2478 2309 2234 2259 \nL 2234 2247 \nQ 2500 2219 2697 2126 \nQ 2894 2034 3022 1896 \nQ 3150 1759 3214 1584 \nQ 3278 1409 3278 1216 \nz\n\" transform=\"scale(0.015625)\"/>\n       </defs>\n       <use xlink:href=\"#LiberationSans-33\"/>\n      </g>\n     </g>\n    </g>\n    <g id=\"xtick_4\">\n     <g id=\"line2d_7\">\n      <path d=\"M 348.150739 353.086875 \nL 348.150739 20.446875 \n\" clip-path=\"url(#p5a069231d9)\" style=\"fill: none; stroke: #ffffff; stroke-linecap: round\"/>\n     </g>\n     <g id=\"line2d_8\"/>\n     <g id=\"text_4\">\n      <!-- 4 -->\n      <g style=\"fill: #262626\" transform=\"translate(345.926364 365.884375) scale(0.08 -0.08)\">\n       <defs>\n        <path id=\"LiberationSans-34\" d=\"M 2753 997 \nL 2753 0 \nL 2222 0 \nL 2222 997 \nL 147 997 \nL 147 1434 \nL 2163 4403 \nL 2753 4403 \nL 2753 1441 \nL 3372 1441 \nL 3372 997 \nL 2753 997 \nz\nM 2222 3769 \nQ 2216 3753 2191 3708 \nQ 2166 3663 2134 3606 \nQ 2103 3550 2070 3492 \nQ 2038 3434 2013 3397 \nL 884 1734 \nQ 869 1709 839 1668 \nQ 809 1628 778 1586 \nQ 747 1544 715 1503 \nQ 684 1463 666 1441 \nL 2222 1441 \nL 2222 3769 \nz\n\" transform=\"scale(0.015625)\"/>\n       </defs>\n       <use xlink:href=\"#LiberationSans-34\"/>\n      </g>\n     </g>\n    </g>\n    <g id=\"xtick_5\">\n     <g id=\"line2d_9\">\n      <path d=\"M 427.05983 353.086875 \nL 427.05983 20.446875 \n\" clip-path=\"url(#p5a069231d9)\" style=\"fill: none; stroke: #ffffff; stroke-linecap: round\"/>\n     </g>\n     <g id=\"line2d_10\"/>\n     <g id=\"text_5\">\n      <!-- 5 -->\n      <g style=\"fill: #262626\" transform=\"translate(424.835455 365.884375) scale(0.08 -0.08)\">\n       <defs>\n        <path id=\"LiberationSans-35\" d=\"M 3291 1434 \nQ 3291 1103 3191 828 \nQ 3091 553 2894 354 \nQ 2697 156 2405 46 \nQ 2113 -63 1728 -63 \nQ 1381 -63 1123 18 \nQ 866 100 687 242 \nQ 509 384 404 575 \nQ 300 766 256 984 \nL 825 1050 \nQ 859 925 921 808 \nQ 984 691 1092 598 \nQ 1200 506 1358 451 \nQ 1516 397 1741 397 \nQ 1959 397 2137 464 \nQ 2316 531 2442 662 \nQ 2569 794 2637 984 \nQ 2706 1175 2706 1422 \nQ 2706 1625 2640 1795 \nQ 2575 1966 2453 2089 \nQ 2331 2213 2154 2281 \nQ 1978 2350 1753 2350 \nQ 1613 2350 1494 2325 \nQ 1375 2300 1273 2256 \nQ 1172 2213 1089 2155 \nQ 1006 2097 934 2034 \nL 384 2034 \nL 531 4403 \nL 3034 4403 \nL 3034 3925 \nL 1044 3925 \nL 959 2528 \nQ 1109 2644 1334 2726 \nQ 1559 2809 1869 2809 \nQ 2197 2809 2459 2709 \nQ 2722 2609 2906 2426 \nQ 3091 2244 3191 1991 \nQ 3291 1738 3291 1434 \nz\n\" transform=\"scale(0.015625)\"/>\n       </defs>\n       <use xlink:href=\"#LiberationSans-35\"/>\n      </g>\n     </g>\n    </g>\n    <g id=\"text_6\">\n     <!-- Rating -->\n     <g style=\"fill: #262626\" transform=\"translate(235.062031 378.79125) scale(0.1 -0.1)\">\n      <defs>\n       <path id=\"LiberationSans-52\" d=\"M 3638 0 \nL 2494 1828 \nL 1122 1828 \nL 1122 0 \nL 525 0 \nL 525 4403 \nL 2597 4403 \nQ 2972 4403 3261 4317 \nQ 3550 4231 3747 4068 \nQ 3944 3906 4047 3672 \nQ 4150 3438 4150 3144 \nQ 4150 2934 4089 2731 \nQ 4028 2528 3897 2359 \nQ 3766 2191 3562 2069 \nQ 3359 1947 3075 1897 \nL 4325 0 \nL 3638 0 \nz\nM 3550 3138 \nQ 3550 3338 3481 3484 \nQ 3413 3631 3281 3729 \nQ 3150 3828 2962 3876 \nQ 2775 3925 2538 3925 \nL 1122 3925 \nL 1122 2300 \nL 2563 2300 \nQ 2819 2300 3006 2364 \nQ 3194 2428 3314 2540 \nQ 3434 2653 3492 2806 \nQ 3550 2959 3550 3138 \nz\n\" transform=\"scale(0.015625)\"/>\n       <path id=\"LiberationSans-61\" d=\"M 1294 -63 \nQ 784 -63 528 206 \nQ 272 475 272 944 \nQ 272 1278 398 1492 \nQ 525 1706 729 1828 \nQ 934 1950 1196 1997 \nQ 1459 2044 1731 2050 \nL 2491 2063 \nL 2491 2247 \nQ 2491 2456 2447 2603 \nQ 2403 2750 2312 2840 \nQ 2222 2931 2086 2973 \nQ 1950 3016 1766 3016 \nQ 1603 3016 1472 2992 \nQ 1341 2969 1244 2908 \nQ 1147 2847 1087 2742 \nQ 1028 2638 1009 2478 \nL 422 2531 \nQ 453 2731 540 2898 \nQ 628 3066 789 3187 \nQ 950 3309 1192 3376 \nQ 1434 3444 1778 3444 \nQ 2416 3444 2737 3151 \nQ 3059 2859 3059 2306 \nL 3059 850 \nQ 3059 600 3125 473 \nQ 3191 347 3375 347 \nQ 3422 347 3469 353 \nQ 3516 359 3559 369 \nL 3559 19 \nQ 3453 -6 3348 -18 \nQ 3244 -31 3125 -31 \nQ 2966 -31 2852 11 \nQ 2738 53 2666 139 \nQ 2594 225 2556 351 \nQ 2519 478 2509 647 \nL 2491 647 \nQ 2400 484 2292 353 \nQ 2184 222 2040 130 \nQ 1897 38 1714 -12 \nQ 1531 -63 1294 -63 \nz\nM 1422 359 \nQ 1691 359 1892 457 \nQ 2094 556 2226 709 \nQ 2359 863 2425 1044 \nQ 2491 1225 2491 1391 \nL 2491 1669 \nL 1875 1656 \nQ 1669 1653 1483 1626 \nQ 1297 1600 1156 1522 \nQ 1016 1444 933 1303 \nQ 850 1163 850 934 \nQ 850 659 998 509 \nQ 1147 359 1422 359 \nz\n\" transform=\"scale(0.015625)\"/>\n       <path id=\"LiberationSans-74\" d=\"M 1731 25 \nQ 1603 -9 1470 -29 \nQ 1338 -50 1163 -50 \nQ 488 -50 488 716 \nL 488 2972 \nL 97 2972 \nL 97 3381 \nL 509 3381 \nL 675 4138 \nL 1050 4138 \nL 1050 3381 \nL 1675 3381 \nL 1675 2972 \nL 1050 2972 \nL 1050 838 \nQ 1050 594 1129 495 \nQ 1209 397 1406 397 \nQ 1488 397 1564 409 \nQ 1641 422 1731 441 \nL 1731 25 \nz\n\" transform=\"scale(0.015625)\"/>\n       <path id=\"LiberationSans-69\" d=\"M 428 4100 \nL 428 4638 \nL 991 4638 \nL 991 4100 \nL 428 4100 \nz\nM 428 0 \nL 428 3381 \nL 991 3381 \nL 991 0 \nL 428 0 \nz\n\" transform=\"scale(0.015625)\"/>\n       <path id=\"LiberationSans-6e\" d=\"M 2578 0 \nL 2578 2144 \nQ 2578 2391 2542 2556 \nQ 2506 2722 2425 2823 \nQ 2344 2925 2211 2967 \nQ 2078 3009 1881 3009 \nQ 1681 3009 1520 2939 \nQ 1359 2869 1245 2736 \nQ 1131 2603 1068 2408 \nQ 1006 2213 1006 1959 \nL 1006 0 \nL 444 0 \nL 444 2659 \nQ 444 2766 442 2883 \nQ 441 3000 437 3104 \nQ 434 3209 431 3284 \nQ 428 3359 425 3381 \nL 956 3381 \nQ 959 3366 962 3297 \nQ 966 3228 970 3139 \nQ 975 3050 978 2958 \nQ 981 2866 981 2803 \nL 991 2803 \nQ 1072 2950 1169 3069 \nQ 1266 3188 1394 3270 \nQ 1522 3353 1687 3398 \nQ 1853 3444 2072 3444 \nQ 2353 3444 2556 3375 \nQ 2759 3306 2890 3162 \nQ 3022 3019 3083 2792 \nQ 3144 2566 3144 2253 \nL 3144 0 \nL 2578 0 \nz\n\" transform=\"scale(0.015625)\"/>\n       <path id=\"LiberationSans-67\" d=\"M 1713 -1328 \nQ 1422 -1328 1197 -1268 \nQ 972 -1209 812 -1098 \nQ 653 -988 553 -834 \nQ 453 -681 409 -494 \nL 975 -413 \nQ 1031 -647 1223 -773 \nQ 1416 -900 1728 -900 \nQ 1919 -900 2075 -847 \nQ 2231 -794 2340 -676 \nQ 2450 -559 2509 -371 \nQ 2569 -184 2569 84 \nL 2569 628 \nL 2563 628 \nQ 2500 500 2408 383 \nQ 2316 266 2183 175 \nQ 2050 84 1875 29 \nQ 1700 -25 1475 -25 \nQ 1153 -25 923 83 \nQ 694 191 548 406 \nQ 403 622 336 942 \nQ 269 1263 269 1684 \nQ 269 2091 336 2416 \nQ 403 2741 554 2967 \nQ 706 3194 948 3314 \nQ 1191 3434 1538 3434 \nQ 1897 3434 2161 3270 \nQ 2425 3106 2569 2803 \nL 2575 2803 \nQ 2575 2881 2579 2978 \nQ 2584 3075 2589 3161 \nQ 2594 3247 2600 3309 \nQ 2606 3372 2613 3381 \nL 3147 3381 \nQ 3144 3353 3141 3286 \nQ 3138 3219 3134 3125 \nQ 3131 3031 3129 2917 \nQ 3128 2803 3128 2681 \nL 3128 97 \nQ 3128 -613 2779 -970 \nQ 2431 -1328 1713 -1328 \nz\nM 2569 1691 \nQ 2569 2044 2492 2295 \nQ 2416 2547 2291 2706 \nQ 2166 2866 2005 2941 \nQ 1844 3016 1675 3016 \nQ 1459 3016 1304 2941 \nQ 1150 2866 1048 2705 \nQ 947 2544 898 2292 \nQ 850 2041 850 1691 \nQ 850 1325 898 1076 \nQ 947 828 1047 675 \nQ 1147 522 1300 456 \nQ 1453 391 1666 391 \nQ 1834 391 1995 462 \nQ 2156 534 2284 690 \nQ 2413 847 2491 1094 \nQ 2569 1341 2569 1691 \nz\n\" transform=\"scale(0.015625)\"/>\n      </defs>\n      <use xlink:href=\"#LiberationSans-52\"/>\n      <use xlink:href=\"#LiberationSans-61\" x=\"72.216797\"/>\n      <use xlink:href=\"#LiberationSans-74\" x=\"127.832031\"/>\n      <use xlink:href=\"#LiberationSans-69\" x=\"155.615234\"/>\n      <use xlink:href=\"#LiberationSans-6e\" x=\"177.832031\"/>\n      <use xlink:href=\"#LiberationSans-67\" x=\"233.447266\"/>\n     </g>\n    </g>\n   </g>\n   <g id=\"matplotlib.axis_2\">\n    <g id=\"ytick_1\">\n     <g id=\"line2d_11\">\n      <path d=\"M 54.214375 353.086875 \nL 444.814375 353.086875 \n\" clip-path=\"url(#p5a069231d9)\" style=\"fill: none; stroke: #ffffff; stroke-linecap: round\"/>\n     </g>\n     <g id=\"line2d_12\"/>\n     <g id=\"text_7\">\n      <!-- 0 -->\n      <g style=\"fill: #262626\" transform=\"translate(42.765625 355.985625) scale(0.08 -0.08)\">\n       <defs>\n        <path id=\"LiberationSans-30\" d=\"M 3309 2203 \nQ 3309 1569 3189 1136 \nQ 3069 703 2861 436 \nQ 2653 169 2372 53 \nQ 2091 -63 1772 -63 \nQ 1450 -63 1172 53 \nQ 894 169 689 434 \nQ 484 700 367 1133 \nQ 250 1566 250 2203 \nQ 250 2869 367 3305 \nQ 484 3741 690 4000 \nQ 897 4259 1178 4364 \nQ 1459 4469 1791 4469 \nQ 2106 4469 2382 4364 \nQ 2659 4259 2865 4000 \nQ 3072 3741 3190 3305 \nQ 3309 2869 3309 2203 \nz\nM 2738 2203 \nQ 2738 2728 2675 3076 \nQ 2613 3425 2491 3633 \nQ 2369 3841 2192 3927 \nQ 2016 4013 1791 4013 \nQ 1553 4013 1372 3925 \nQ 1191 3838 1067 3630 \nQ 944 3422 881 3073 \nQ 819 2725 819 2203 \nQ 819 1697 883 1350 \nQ 947 1003 1070 792 \nQ 1194 581 1372 489 \nQ 1550 397 1778 397 \nQ 2000 397 2178 489 \nQ 2356 581 2479 792 \nQ 2603 1003 2670 1350 \nQ 2738 1697 2738 2203 \nz\n\" transform=\"scale(0.015625)\"/>\n       </defs>\n       <use xlink:href=\"#LiberationSans-30\"/>\n      </g>\n     </g>\n    </g>\n    <g id=\"ytick_2\">\n     <g id=\"line2d_13\">\n      <path d=\"M 54.214375 314.912037 \nL 444.814375 314.912037 \n\" clip-path=\"url(#p5a069231d9)\" style=\"fill: none; stroke: #ffffff; stroke-linecap: round\"/>\n     </g>\n     <g id=\"line2d_14\"/>\n     <g id=\"text_8\">\n      <!-- 50000 -->\n      <g style=\"fill: #262626\" transform=\"translate(24.970625 317.810787) scale(0.08 -0.08)\">\n       <use xlink:href=\"#LiberationSans-35\"/>\n       <use xlink:href=\"#LiberationSans-30\" x=\"55.615234\"/>\n       <use xlink:href=\"#LiberationSans-30\" x=\"111.230469\"/>\n       <use xlink:href=\"#LiberationSans-30\" x=\"166.845703\"/>\n       <use xlink:href=\"#LiberationSans-30\" x=\"222.460938\"/>\n      </g>\n     </g>\n    </g>\n    <g id=\"ytick_3\">\n     <g id=\"line2d_15\">\n      <path d=\"M 54.214375 276.737199 \nL 444.814375 276.737199 \n\" clip-path=\"url(#p5a069231d9)\" style=\"fill: none; stroke: #ffffff; stroke-linecap: round\"/>\n     </g>\n     <g id=\"line2d_16\"/>\n     <g id=\"text_9\">\n      <!-- 100000 -->\n      <g style=\"fill: #262626\" transform=\"translate(20.521875 279.635949) scale(0.08 -0.08)\">\n       <use xlink:href=\"#LiberationSans-31\"/>\n       <use xlink:href=\"#LiberationSans-30\" x=\"55.615234\"/>\n       <use xlink:href=\"#LiberationSans-30\" x=\"111.230469\"/>\n       <use xlink:href=\"#LiberationSans-30\" x=\"166.845703\"/>\n       <use xlink:href=\"#LiberationSans-30\" x=\"222.460938\"/>\n       <use xlink:href=\"#LiberationSans-30\" x=\"278.076172\"/>\n      </g>\n     </g>\n    </g>\n    <g id=\"ytick_4\">\n     <g id=\"line2d_17\">\n      <path d=\"M 54.214375 238.562361 \nL 444.814375 238.562361 \n\" clip-path=\"url(#p5a069231d9)\" style=\"fill: none; stroke: #ffffff; stroke-linecap: round\"/>\n     </g>\n     <g id=\"line2d_18\"/>\n     <g id=\"text_10\">\n      <!-- 150000 -->\n      <g style=\"fill: #262626\" transform=\"translate(20.521875 241.461111) scale(0.08 -0.08)\">\n       <use xlink:href=\"#LiberationSans-31\"/>\n       <use xlink:href=\"#LiberationSans-35\" x=\"55.615234\"/>\n       <use xlink:href=\"#LiberationSans-30\" x=\"111.230469\"/>\n       <use xlink:href=\"#LiberationSans-30\" x=\"166.845703\"/>\n       <use xlink:href=\"#LiberationSans-30\" x=\"222.460938\"/>\n       <use xlink:href=\"#LiberationSans-30\" x=\"278.076172\"/>\n      </g>\n     </g>\n    </g>\n    <g id=\"ytick_5\">\n     <g id=\"line2d_19\">\n      <path d=\"M 54.214375 200.387524 \nL 444.814375 200.387524 \n\" clip-path=\"url(#p5a069231d9)\" style=\"fill: none; stroke: #ffffff; stroke-linecap: round\"/>\n     </g>\n     <g id=\"line2d_20\"/>\n     <g id=\"text_11\">\n      <!-- 200000 -->\n      <g style=\"fill: #262626\" transform=\"translate(20.521875 203.286274) scale(0.08 -0.08)\">\n       <use xlink:href=\"#LiberationSans-32\"/>\n       <use xlink:href=\"#LiberationSans-30\" x=\"55.615234\"/>\n       <use xlink:href=\"#LiberationSans-30\" x=\"111.230469\"/>\n       <use xlink:href=\"#LiberationSans-30\" x=\"166.845703\"/>\n       <use xlink:href=\"#LiberationSans-30\" x=\"222.460938\"/>\n       <use xlink:href=\"#LiberationSans-30\" x=\"278.076172\"/>\n      </g>\n     </g>\n    </g>\n    <g id=\"ytick_6\">\n     <g id=\"line2d_21\">\n      <path d=\"M 54.214375 162.212686 \nL 444.814375 162.212686 \n\" clip-path=\"url(#p5a069231d9)\" style=\"fill: none; stroke: #ffffff; stroke-linecap: round\"/>\n     </g>\n     <g id=\"line2d_22\"/>\n     <g id=\"text_12\">\n      <!-- 250000 -->\n      <g style=\"fill: #262626\" transform=\"translate(20.521875 165.111436) scale(0.08 -0.08)\">\n       <use xlink:href=\"#LiberationSans-32\"/>\n       <use xlink:href=\"#LiberationSans-35\" x=\"55.615234\"/>\n       <use xlink:href=\"#LiberationSans-30\" x=\"111.230469\"/>\n       <use xlink:href=\"#LiberationSans-30\" x=\"166.845703\"/>\n       <use xlink:href=\"#LiberationSans-30\" x=\"222.460938\"/>\n       <use xlink:href=\"#LiberationSans-30\" x=\"278.076172\"/>\n      </g>\n     </g>\n    </g>\n    <g id=\"ytick_7\">\n     <g id=\"line2d_23\">\n      <path d=\"M 54.214375 124.037848 \nL 444.814375 124.037848 \n\" clip-path=\"url(#p5a069231d9)\" style=\"fill: none; stroke: #ffffff; stroke-linecap: round\"/>\n     </g>\n     <g id=\"line2d_24\"/>\n     <g id=\"text_13\">\n      <!-- 300000 -->\n      <g style=\"fill: #262626\" transform=\"translate(20.521875 126.936598) scale(0.08 -0.08)\">\n       <use xlink:href=\"#LiberationSans-33\"/>\n       <use xlink:href=\"#LiberationSans-30\" x=\"55.615234\"/>\n       <use xlink:href=\"#LiberationSans-30\" x=\"111.230469\"/>\n       <use xlink:href=\"#LiberationSans-30\" x=\"166.845703\"/>\n       <use xlink:href=\"#LiberationSans-30\" x=\"222.460938\"/>\n       <use xlink:href=\"#LiberationSans-30\" x=\"278.076172\"/>\n      </g>\n     </g>\n    </g>\n    <g id=\"ytick_8\">\n     <g id=\"line2d_25\">\n      <path d=\"M 54.214375 85.86301 \nL 444.814375 85.86301 \n\" clip-path=\"url(#p5a069231d9)\" style=\"fill: none; stroke: #ffffff; stroke-linecap: round\"/>\n     </g>\n     <g id=\"line2d_26\"/>\n     <g id=\"text_14\">\n      <!-- 350000 -->\n      <g style=\"fill: #262626\" transform=\"translate(20.521875 88.76176) scale(0.08 -0.08)\">\n       <use xlink:href=\"#LiberationSans-33\"/>\n       <use xlink:href=\"#LiberationSans-35\" x=\"55.615234\"/>\n       <use xlink:href=\"#LiberationSans-30\" x=\"111.230469\"/>\n       <use xlink:href=\"#LiberationSans-30\" x=\"166.845703\"/>\n       <use xlink:href=\"#LiberationSans-30\" x=\"222.460938\"/>\n       <use xlink:href=\"#LiberationSans-30\" x=\"278.076172\"/>\n      </g>\n     </g>\n    </g>\n    <g id=\"ytick_9\">\n     <g id=\"line2d_27\">\n      <path d=\"M 54.214375 47.688172 \nL 444.814375 47.688172 \n\" clip-path=\"url(#p5a069231d9)\" style=\"fill: none; stroke: #ffffff; stroke-linecap: round\"/>\n     </g>\n     <g id=\"line2d_28\"/>\n     <g id=\"text_15\">\n      <!-- 400000 -->\n      <g style=\"fill: #262626\" transform=\"translate(20.521875 50.586922) scale(0.08 -0.08)\">\n       <use xlink:href=\"#LiberationSans-34\"/>\n       <use xlink:href=\"#LiberationSans-30\" x=\"55.615234\"/>\n       <use xlink:href=\"#LiberationSans-30\" x=\"111.230469\"/>\n       <use xlink:href=\"#LiberationSans-30\" x=\"166.845703\"/>\n       <use xlink:href=\"#LiberationSans-30\" x=\"222.460938\"/>\n       <use xlink:href=\"#LiberationSans-30\" x=\"278.076172\"/>\n      </g>\n     </g>\n    </g>\n    <g id=\"text_16\">\n     <!-- Frequency -->\n     <g style=\"fill: #262626\" transform=\"translate(14.446875 210.387969) rotate(-90) scale(0.1 -0.1)\">\n      <defs>\n       <path id=\"LiberationSans-46\" d=\"M 1122 3916 \nL 1122 2278 \nL 3578 2278 \nL 3578 1784 \nL 1122 1784 \nL 1122 0 \nL 525 0 \nL 525 4403 \nL 3653 4403 \nL 3653 3916 \nL 1122 3916 \nz\n\" transform=\"scale(0.015625)\"/>\n       <path id=\"LiberationSans-72\" d=\"M 444 0 \nL 444 2594 \nQ 444 2700 442 2811 \nQ 441 2922 437 3025 \nQ 434 3128 431 3218 \nQ 428 3309 425 3381 \nL 956 3381 \nQ 959 3309 964 3217 \nQ 969 3125 973 3028 \nQ 978 2931 979 2842 \nQ 981 2753 981 2691 \nL 994 2691 \nQ 1053 2884 1120 3026 \nQ 1188 3169 1278 3261 \nQ 1369 3353 1494 3398 \nQ 1619 3444 1797 3444 \nQ 1866 3444 1928 3433 \nQ 1991 3422 2025 3413 \nL 2025 2897 \nQ 1969 2913 1894 2920 \nQ 1819 2928 1725 2928 \nQ 1531 2928 1395 2840 \nQ 1259 2753 1173 2598 \nQ 1088 2444 1047 2230 \nQ 1006 2016 1006 1763 \nL 1006 0 \nL 444 0 \nz\n\" transform=\"scale(0.015625)\"/>\n       <path id=\"LiberationSans-65\" d=\"M 863 1572 \nQ 863 1306 917 1082 \nQ 972 859 1086 698 \nQ 1200 538 1378 448 \nQ 1556 359 1806 359 \nQ 2172 359 2392 506 \nQ 2613 653 2691 878 \nL 3184 738 \nQ 3131 597 3036 455 \nQ 2941 313 2781 198 \nQ 2622 84 2383 10 \nQ 2144 -63 1806 -63 \nQ 1056 -63 664 384 \nQ 272 831 272 1713 \nQ 272 2188 390 2517 \nQ 509 2847 715 3053 \nQ 922 3259 1197 3351 \nQ 1472 3444 1784 3444 \nQ 2209 3444 2495 3306 \nQ 2781 3169 2954 2926 \nQ 3128 2684 3201 2356 \nQ 3275 2028 3275 1647 \nL 3275 1572 \nL 863 1572 \nz\nM 2694 2003 \nQ 2647 2538 2422 2783 \nQ 2197 3028 1775 3028 \nQ 1634 3028 1479 2983 \nQ 1325 2938 1194 2822 \nQ 1063 2706 972 2507 \nQ 881 2309 869 2003 \nL 2694 2003 \nz\n\" transform=\"scale(0.015625)\"/>\n       <path id=\"LiberationSans-71\" d=\"M 1513 -63 \nQ 869 -63 569 371 \nQ 269 806 269 1675 \nQ 269 2556 576 3000 \nQ 884 3444 1513 3444 \nQ 1722 3444 1883 3406 \nQ 2044 3369 2170 3295 \nQ 2297 3222 2392 3112 \nQ 2488 3003 2566 2856 \nL 2572 2856 \nQ 2572 2934 2576 3029 \nQ 2581 3125 2586 3209 \nQ 2591 3294 2597 3355 \nQ 2603 3416 2609 3425 \nL 3150 3425 \nQ 3144 3372 3136 3147 \nQ 3128 2922 3128 2503 \nL 3128 -1328 \nL 2566 -1328 \nL 2566 44 \nQ 2566 125 2567 212 \nQ 2569 300 2572 378 \nQ 2575 466 2578 556 \nL 2572 556 \nQ 2491 397 2392 280 \nQ 2294 163 2166 86 \nQ 2038 9 1877 -27 \nQ 1716 -63 1513 -63 \nz\nM 2566 1731 \nQ 2566 2100 2502 2350 \nQ 2438 2600 2320 2750 \nQ 2203 2900 2036 2964 \nQ 1869 3028 1663 3028 \nQ 1447 3028 1294 2948 \nQ 1141 2869 1045 2705 \nQ 950 2541 904 2289 \nQ 859 2038 859 1694 \nQ 859 1356 901 1106 \nQ 944 856 1039 693 \nQ 1134 531 1286 451 \nQ 1438 372 1656 372 \nQ 1844 372 2009 430 \nQ 2175 488 2298 639 \nQ 2422 791 2494 1055 \nQ 2566 1319 2566 1731 \nz\n\" transform=\"scale(0.015625)\"/>\n       <path id=\"LiberationSans-75\" d=\"M 981 3381 \nL 981 1238 \nQ 981 991 1017 825 \nQ 1053 659 1134 557 \nQ 1216 456 1348 414 \nQ 1481 372 1678 372 \nQ 1878 372 2039 442 \nQ 2200 513 2314 645 \nQ 2428 778 2490 973 \nQ 2553 1169 2553 1422 \nL 2553 3381 \nL 3116 3381 \nL 3116 722 \nQ 3116 616 3117 498 \nQ 3119 381 3122 276 \nQ 3125 172 3128 97 \nQ 3131 22 3134 0 \nL 2603 0 \nQ 2600 16 2597 84 \nQ 2594 153 2589 242 \nQ 2584 331 2581 423 \nQ 2578 516 2578 578 \nL 2569 578 \nQ 2488 431 2391 312 \nQ 2294 194 2166 111 \nQ 2038 28 1872 -17 \nQ 1706 -63 1488 -63 \nQ 1206 -63 1003 6 \nQ 800 75 669 219 \nQ 538 363 477 588 \nQ 416 813 416 1128 \nL 416 3381 \nL 981 3381 \nz\n\" transform=\"scale(0.015625)\"/>\n       <path id=\"LiberationSans-63\" d=\"M 859 1706 \nQ 859 1416 901 1172 \nQ 944 928 1044 751 \nQ 1144 575 1308 478 \nQ 1472 381 1713 381 \nQ 2013 381 2214 543 \nQ 2416 706 2463 1044 \nL 3031 1006 \nQ 3003 797 2909 603 \nQ 2816 409 2655 262 \nQ 2494 116 2262 26 \nQ 2031 -63 1728 -63 \nQ 1331 -63 1053 71 \nQ 775 206 601 442 \nQ 428 678 350 998 \nQ 272 1319 272 1694 \nQ 272 2034 328 2295 \nQ 384 2556 486 2751 \nQ 588 2947 725 3080 \nQ 863 3213 1023 3292 \nQ 1184 3372 1362 3408 \nQ 1541 3444 1722 3444 \nQ 2006 3444 2228 3366 \nQ 2450 3288 2611 3152 \nQ 2772 3016 2872 2831 \nQ 2972 2647 3013 2434 \nL 2434 2391 \nQ 2391 2672 2212 2837 \nQ 2034 3003 1706 3003 \nQ 1466 3003 1305 2923 \nQ 1144 2844 1044 2683 \nQ 944 2522 901 2278 \nQ 859 2034 859 1706 \nz\n\" transform=\"scale(0.015625)\"/>\n       <path id=\"LiberationSans-79\" d=\"M 1888 0 \nQ 1769 -306 1645 -551 \nQ 1522 -797 1369 -970 \nQ 1216 -1144 1028 -1236 \nQ 841 -1328 597 -1328 \nQ 491 -1328 400 -1322 \nQ 309 -1316 209 -1294 \nL 209 -872 \nQ 269 -881 344 -886 \nQ 419 -891 472 -891 \nQ 719 -891 931 -706 \nQ 1144 -522 1303 -119 \nL 1356 16 \nL 16 3381 \nL 616 3381 \nL 1328 1513 \nQ 1359 1428 1407 1287 \nQ 1456 1147 1504 1006 \nQ 1553 866 1590 753 \nQ 1628 641 1634 613 \nQ 1644 647 1680 748 \nQ 1716 850 1761 975 \nQ 1806 1100 1853 1228 \nQ 1900 1356 1931 1450 \nL 2594 3381 \nL 3188 3381 \nL 1888 0 \nz\n\" transform=\"scale(0.015625)\"/>\n      </defs>\n      <use xlink:href=\"#LiberationSans-46\"/>\n      <use xlink:href=\"#LiberationSans-72\" x=\"61.083984\"/>\n      <use xlink:href=\"#LiberationSans-65\" x=\"94.384766\"/>\n      <use xlink:href=\"#LiberationSans-71\" x=\"150\"/>\n      <use xlink:href=\"#LiberationSans-75\" x=\"205.615234\"/>\n      <use xlink:href=\"#LiberationSans-65\" x=\"261.230469\"/>\n      <use xlink:href=\"#LiberationSans-6e\" x=\"316.845703\"/>\n      <use xlink:href=\"#LiberationSans-63\" x=\"372.460938\"/>\n      <use xlink:href=\"#LiberationSans-79\" x=\"422.460938\"/>\n     </g>\n    </g>\n   </g>\n   <g id=\"patch_3\">\n    <path d=\"M 71.96892 353.086875 \nL 107.478011 353.086875 \nL 107.478011 336.85188 \nL 71.96892 336.85188 \nz\n\" clip-path=\"url(#p5a069231d9)\" style=\"fill: #4c72b0\"/>\n   </g>\n   <g id=\"patch_4\">\n    <path d=\"M 107.478011 353.086875 \nL 142.987102 353.086875 \nL 142.987102 316.059573 \nL 107.478011 316.059573 \nz\n\" clip-path=\"url(#p5a069231d9)\" style=\"fill: #4c72b0\"/>\n   </g>\n   <g id=\"patch_5\">\n    <path d=\"M 142.987102 353.086875 \nL 178.496193 353.086875 \nL 178.496193 336.924412 \nL 142.987102 336.924412 \nz\n\" clip-path=\"url(#p5a069231d9)\" style=\"fill: #4c72b0\"/>\n   </g>\n   <g id=\"patch_6\">\n    <path d=\"M 178.496193 353.086875 \nL 214.005284 353.086875 \nL 214.005284 274.258125 \nL 178.496193 274.258125 \nz\n\" clip-path=\"url(#p5a069231d9)\" style=\"fill: #4c72b0\"/>\n   </g>\n   <g id=\"patch_7\">\n    <path d=\"M 214.005284 353.086875 \nL 249.514375 353.086875 \nL 249.514375 296.973681 \nL 214.005284 296.973681 \nz\n\" clip-path=\"url(#p5a069231d9)\" style=\"fill: #4c72b0\"/>\n   </g>\n   <g id=\"patch_8\">\n    <path d=\"M 249.514375 353.086875 \nL 285.023466 353.086875 \nL 285.023466 109.912394 \nL 249.514375 109.912394 \nz\n\" clip-path=\"url(#p5a069231d9)\" style=\"fill: #4c72b0\"/>\n   </g>\n   <g id=\"patch_9\">\n    <path d=\"M 285.023466 353.086875 \nL 320.532557 353.086875 \nL 320.532557 211.064262 \nL 285.023466 211.064262 \nz\n\" clip-path=\"url(#p5a069231d9)\" style=\"fill: #4c72b0\"/>\n   </g>\n   <g id=\"patch_10\">\n    <path d=\"M 320.532557 353.086875 \nL 356.041648 353.086875 \nL 356.041648 36.286875 \nL 320.532557 36.286875 \nz\n\" clip-path=\"url(#p5a069231d9)\" style=\"fill: #4c72b0\"/>\n   </g>\n   <g id=\"patch_11\">\n    <path d=\"M 356.041648 353.086875 \nL 391.550739 353.086875 \nL 391.550739 256.125841 \nL 356.041648 256.125841 \nz\n\" clip-path=\"url(#p5a069231d9)\" style=\"fill: #4c72b0\"/>\n   </g>\n   <g id=\"patch_12\">\n    <path d=\"M 391.550739 353.086875 \nL 427.05983 353.086875 \nL 427.05983 185.160344 \nL 391.550739 185.160344 \nz\n\" clip-path=\"url(#p5a069231d9)\" style=\"fill: #4c72b0\"/>\n   </g>\n   <g id=\"patch_13\">\n    <path d=\"M 54.214375 353.086875 \nL 54.214375 20.446875 \n\" style=\"fill: none\"/>\n   </g>\n   <g id=\"patch_14\">\n    <path d=\"M 444.814375 353.086875 \nL 444.814375 20.446875 \n\" style=\"fill: none\"/>\n   </g>\n   <g id=\"patch_15\">\n    <path d=\"M 54.214375 353.086875 \nL 444.814375 353.086875 \n\" style=\"fill: none\"/>\n   </g>\n   <g id=\"patch_16\">\n    <path d=\"M 54.214375 20.446875 \nL 444.814375 20.446875 \n\" style=\"fill: none\"/>\n   </g>\n   <g id=\"text_17\">\n    <!-- Ratings Count -->\n    <g style=\"fill: #262626\" transform=\"translate(217.831563 14.446875) scale(0.1 -0.1)\">\n     <defs>\n      <path id=\"LiberationSans-73\" d=\"M 2969 934 \nQ 2969 697 2876 511 \nQ 2784 325 2609 198 \nQ 2434 72 2179 4 \nQ 1925 -63 1597 -63 \nQ 1303 -63 1067 -17 \nQ 831 28 653 128 \nQ 475 228 354 392 \nQ 234 556 178 794 \nL 675 891 \nQ 747 619 972 492 \nQ 1197 366 1597 366 \nQ 1778 366 1929 391 \nQ 2081 416 2190 477 \nQ 2300 538 2361 639 \nQ 2422 741 2422 891 \nQ 2422 1044 2350 1142 \nQ 2278 1241 2150 1306 \nQ 2022 1372 1839 1420 \nQ 1656 1469 1438 1528 \nQ 1234 1581 1034 1647 \nQ 834 1713 673 1820 \nQ 513 1928 413 2087 \nQ 313 2247 313 2488 \nQ 313 2950 642 3192 \nQ 972 3434 1603 3434 \nQ 2163 3434 2492 3237 \nQ 2822 3041 2909 2606 \nL 2403 2544 \nQ 2375 2675 2300 2764 \nQ 2225 2853 2119 2908 \nQ 2013 2963 1880 2986 \nQ 1747 3009 1603 3009 \nQ 1222 3009 1040 2893 \nQ 859 2778 859 2544 \nQ 859 2406 926 2317 \nQ 994 2228 1114 2167 \nQ 1234 2106 1403 2061 \nQ 1572 2016 1775 1966 \nQ 1909 1931 2050 1892 \nQ 2191 1853 2323 1798 \nQ 2456 1744 2573 1670 \nQ 2691 1597 2778 1494 \nQ 2866 1391 2917 1253 \nQ 2969 1116 2969 934 \nz\n\" transform=\"scale(0.015625)\"/>\n      <path id=\"LiberationSans-20\" transform=\"scale(0.015625)\"/>\n      <path id=\"LiberationSans-43\" d=\"M 2475 3981 \nQ 2100 3981 1811 3856 \nQ 1522 3731 1326 3500 \nQ 1131 3269 1031 2944 \nQ 931 2619 931 2222 \nQ 931 1825 1039 1495 \nQ 1147 1166 1348 928 \nQ 1550 691 1842 559 \nQ 2134 428 2500 428 \nQ 2756 428 2967 495 \nQ 3178 563 3348 684 \nQ 3519 806 3653 973 \nQ 3788 1141 3891 1344 \nL 4378 1100 \nQ 4259 853 4084 640 \nQ 3909 428 3673 272 \nQ 3438 116 3139 26 \nQ 2841 -63 2472 -63 \nQ 1938 -63 1536 107 \nQ 1134 278 864 583 \nQ 594 888 459 1306 \nQ 325 1725 325 2222 \nQ 325 2738 467 3153 \nQ 609 3569 882 3861 \nQ 1156 4153 1556 4311 \nQ 1956 4469 2469 4469 \nQ 3172 4469 3644 4194 \nQ 4116 3919 4338 3378 \nL 3772 3191 \nQ 3709 3347 3603 3489 \nQ 3497 3631 3337 3740 \nQ 3178 3850 2964 3915 \nQ 2750 3981 2475 3981 \nz\n\" transform=\"scale(0.015625)\"/>\n      <path id=\"LiberationSans-6f\" d=\"M 3291 1694 \nQ 3291 806 2900 371 \nQ 2509 -63 1766 -63 \nQ 1413 -63 1134 43 \nQ 856 150 664 369 \nQ 472 588 370 917 \nQ 269 1247 269 1694 \nQ 269 3444 1784 3444 \nQ 2178 3444 2464 3334 \nQ 2750 3225 2933 3006 \nQ 3116 2788 3203 2459 \nQ 3291 2131 3291 1694 \nz\nM 2700 1694 \nQ 2700 2088 2639 2344 \nQ 2578 2600 2461 2753 \nQ 2344 2906 2175 2967 \nQ 2006 3028 1794 3028 \nQ 1578 3028 1404 2964 \nQ 1231 2900 1109 2745 \nQ 988 2591 923 2334 \nQ 859 2078 859 1694 \nQ 859 1300 928 1042 \nQ 997 784 1117 631 \nQ 1238 478 1402 415 \nQ 1566 353 1759 353 \nQ 1975 353 2150 414 \nQ 2325 475 2447 628 \nQ 2569 781 2634 1040 \nQ 2700 1300 2700 1694 \nz\n\" transform=\"scale(0.015625)\"/>\n     </defs>\n     <use xlink:href=\"#LiberationSans-52\"/>\n     <use xlink:href=\"#LiberationSans-61\" x=\"72.216797\"/>\n     <use xlink:href=\"#LiberationSans-74\" x=\"127.832031\"/>\n     <use xlink:href=\"#LiberationSans-69\" x=\"155.615234\"/>\n     <use xlink:href=\"#LiberationSans-6e\" x=\"177.832031\"/>\n     <use xlink:href=\"#LiberationSans-67\" x=\"233.447266\"/>\n     <use xlink:href=\"#LiberationSans-73\" x=\"289.0625\"/>\n     <use xlink:href=\"#LiberationSans-20\" x=\"339.0625\"/>\n     <use xlink:href=\"#LiberationSans-43\" x=\"366.845703\"/>\n     <use xlink:href=\"#LiberationSans-6f\" x=\"439.0625\"/>\n     <use xlink:href=\"#LiberationSans-75\" x=\"494.677734\"/>\n     <use xlink:href=\"#LiberationSans-6e\" x=\"550.292969\"/>\n     <use xlink:href=\"#LiberationSans-74\" x=\"605.908203\"/>\n    </g>\n   </g>\n  </g>\n </g>\n <defs>\n  <clipPath id=\"p5a069231d9\">\n   <rect x=\"54.214375\" y=\"20.446875\" width=\"390.6\" height=\"332.64\"/>\n  </clipPath>\n </defs>\n</svg>\n"
          },
          "metadata": {}
        }
      ],
      "source": [
        "plt.rcParams['figure.figsize'] = (7, 6)\n",
        "plt.hist(ratings['rating'], bins=10);\n",
        "plt.title('Ratings Count', size=10)\n",
        "plt.xlabel('Rating')\n",
        "plt.ylabel('Frequency')\n",
        "plt.show();"
      ]
    },
    {
      "cell_type": "markdown",
      "metadata": {
        "id": "wvIZOLiQBV6H"
      },
      "source": [
        "And for a better visualization, let's represent by a pie chart with the percent representation."
      ]
    },
    {
      "cell_type": "code",
      "execution_count": null,
      "metadata": {
        "_kg_hide-input": true,
        "id": "EpA2ieVcBV6H",
        "outputId": "90e10791-5ad2-4ed9-86d0-206c5c8c18b6",
        "colab": {
          "base_uri": "https://localhost:8080/",
          "height": 542
        }
      },
      "outputs": [
        {
          "output_type": "display_data",
          "data": {
            "application/vnd.plotly.v1+json": {
              "data": [
                {
                  "labels": [
                    4,
                    3,
                    5,
                    3.5,
                    4.5,
                    2,
                    2.5,
                    1,
                    0.5,
                    1.5
                  ],
                  "marker": {
                    "colors": [
                      "red",
                      "blue",
                      "green",
                      "yellow",
                      "black"
                    ]
                  },
                  "values": [
                    414933,
                    318501,
                    219944,
                    186016,
                    126996,
                    103247,
                    73495,
                    48497,
                    21264,
                    21169
                  ],
                  "type": "pie"
                }
              ],
              "layout": {
                "template": {
                  "data": {
                    "barpolar": [
                      {
                        "marker": {
                          "line": {
                            "color": "#E5ECF6",
                            "width": 0.5
                          },
                          "pattern": {
                            "fillmode": "overlay",
                            "size": 10,
                            "solidity": 0.2
                          }
                        },
                        "type": "barpolar"
                      }
                    ],
                    "bar": [
                      {
                        "error_x": {
                          "color": "#2a3f5f"
                        },
                        "error_y": {
                          "color": "#2a3f5f"
                        },
                        "marker": {
                          "line": {
                            "color": "#E5ECF6",
                            "width": 0.5
                          },
                          "pattern": {
                            "fillmode": "overlay",
                            "size": 10,
                            "solidity": 0.2
                          }
                        },
                        "type": "bar"
                      }
                    ],
                    "carpet": [
                      {
                        "aaxis": {
                          "endlinecolor": "#2a3f5f",
                          "gridcolor": "white",
                          "linecolor": "white",
                          "minorgridcolor": "white",
                          "startlinecolor": "#2a3f5f"
                        },
                        "baxis": {
                          "endlinecolor": "#2a3f5f",
                          "gridcolor": "white",
                          "linecolor": "white",
                          "minorgridcolor": "white",
                          "startlinecolor": "#2a3f5f"
                        },
                        "type": "carpet"
                      }
                    ],
                    "choropleth": [
                      {
                        "colorbar": {
                          "outlinewidth": 0,
                          "ticks": ""
                        },
                        "type": "choropleth"
                      }
                    ],
                    "contourcarpet": [
                      {
                        "colorbar": {
                          "outlinewidth": 0,
                          "ticks": ""
                        },
                        "type": "contourcarpet"
                      }
                    ],
                    "contour": [
                      {
                        "colorbar": {
                          "outlinewidth": 0,
                          "ticks": ""
                        },
                        "colorscale": [
                          [
                            0,
                            "#0d0887"
                          ],
                          [
                            0.1111111111111111,
                            "#46039f"
                          ],
                          [
                            0.2222222222222222,
                            "#7201a8"
                          ],
                          [
                            0.3333333333333333,
                            "#9c179e"
                          ],
                          [
                            0.4444444444444444,
                            "#bd3786"
                          ],
                          [
                            0.5555555555555556,
                            "#d8576b"
                          ],
                          [
                            0.6666666666666666,
                            "#ed7953"
                          ],
                          [
                            0.7777777777777778,
                            "#fb9f3a"
                          ],
                          [
                            0.8888888888888888,
                            "#fdca26"
                          ],
                          [
                            1,
                            "#f0f921"
                          ]
                        ],
                        "type": "contour"
                      }
                    ],
                    "heatmapgl": [
                      {
                        "colorbar": {
                          "outlinewidth": 0,
                          "ticks": ""
                        },
                        "colorscale": [
                          [
                            0,
                            "#0d0887"
                          ],
                          [
                            0.1111111111111111,
                            "#46039f"
                          ],
                          [
                            0.2222222222222222,
                            "#7201a8"
                          ],
                          [
                            0.3333333333333333,
                            "#9c179e"
                          ],
                          [
                            0.4444444444444444,
                            "#bd3786"
                          ],
                          [
                            0.5555555555555556,
                            "#d8576b"
                          ],
                          [
                            0.6666666666666666,
                            "#ed7953"
                          ],
                          [
                            0.7777777777777778,
                            "#fb9f3a"
                          ],
                          [
                            0.8888888888888888,
                            "#fdca26"
                          ],
                          [
                            1,
                            "#f0f921"
                          ]
                        ],
                        "type": "heatmapgl"
                      }
                    ],
                    "heatmap": [
                      {
                        "colorbar": {
                          "outlinewidth": 0,
                          "ticks": ""
                        },
                        "colorscale": [
                          [
                            0,
                            "#0d0887"
                          ],
                          [
                            0.1111111111111111,
                            "#46039f"
                          ],
                          [
                            0.2222222222222222,
                            "#7201a8"
                          ],
                          [
                            0.3333333333333333,
                            "#9c179e"
                          ],
                          [
                            0.4444444444444444,
                            "#bd3786"
                          ],
                          [
                            0.5555555555555556,
                            "#d8576b"
                          ],
                          [
                            0.6666666666666666,
                            "#ed7953"
                          ],
                          [
                            0.7777777777777778,
                            "#fb9f3a"
                          ],
                          [
                            0.8888888888888888,
                            "#fdca26"
                          ],
                          [
                            1,
                            "#f0f921"
                          ]
                        ],
                        "type": "heatmap"
                      }
                    ],
                    "histogram2dcontour": [
                      {
                        "colorbar": {
                          "outlinewidth": 0,
                          "ticks": ""
                        },
                        "colorscale": [
                          [
                            0,
                            "#0d0887"
                          ],
                          [
                            0.1111111111111111,
                            "#46039f"
                          ],
                          [
                            0.2222222222222222,
                            "#7201a8"
                          ],
                          [
                            0.3333333333333333,
                            "#9c179e"
                          ],
                          [
                            0.4444444444444444,
                            "#bd3786"
                          ],
                          [
                            0.5555555555555556,
                            "#d8576b"
                          ],
                          [
                            0.6666666666666666,
                            "#ed7953"
                          ],
                          [
                            0.7777777777777778,
                            "#fb9f3a"
                          ],
                          [
                            0.8888888888888888,
                            "#fdca26"
                          ],
                          [
                            1,
                            "#f0f921"
                          ]
                        ],
                        "type": "histogram2dcontour"
                      }
                    ],
                    "histogram2d": [
                      {
                        "colorbar": {
                          "outlinewidth": 0,
                          "ticks": ""
                        },
                        "colorscale": [
                          [
                            0,
                            "#0d0887"
                          ],
                          [
                            0.1111111111111111,
                            "#46039f"
                          ],
                          [
                            0.2222222222222222,
                            "#7201a8"
                          ],
                          [
                            0.3333333333333333,
                            "#9c179e"
                          ],
                          [
                            0.4444444444444444,
                            "#bd3786"
                          ],
                          [
                            0.5555555555555556,
                            "#d8576b"
                          ],
                          [
                            0.6666666666666666,
                            "#ed7953"
                          ],
                          [
                            0.7777777777777778,
                            "#fb9f3a"
                          ],
                          [
                            0.8888888888888888,
                            "#fdca26"
                          ],
                          [
                            1,
                            "#f0f921"
                          ]
                        ],
                        "type": "histogram2d"
                      }
                    ],
                    "histogram": [
                      {
                        "marker": {
                          "pattern": {
                            "fillmode": "overlay",
                            "size": 10,
                            "solidity": 0.2
                          }
                        },
                        "type": "histogram"
                      }
                    ],
                    "mesh3d": [
                      {
                        "colorbar": {
                          "outlinewidth": 0,
                          "ticks": ""
                        },
                        "type": "mesh3d"
                      }
                    ],
                    "parcoords": [
                      {
                        "line": {
                          "colorbar": {
                            "outlinewidth": 0,
                            "ticks": ""
                          }
                        },
                        "type": "parcoords"
                      }
                    ],
                    "pie": [
                      {
                        "automargin": true,
                        "type": "pie"
                      }
                    ],
                    "scatter3d": [
                      {
                        "line": {
                          "colorbar": {
                            "outlinewidth": 0,
                            "ticks": ""
                          }
                        },
                        "marker": {
                          "colorbar": {
                            "outlinewidth": 0,
                            "ticks": ""
                          }
                        },
                        "type": "scatter3d"
                      }
                    ],
                    "scattercarpet": [
                      {
                        "marker": {
                          "colorbar": {
                            "outlinewidth": 0,
                            "ticks": ""
                          }
                        },
                        "type": "scattercarpet"
                      }
                    ],
                    "scattergeo": [
                      {
                        "marker": {
                          "colorbar": {
                            "outlinewidth": 0,
                            "ticks": ""
                          }
                        },
                        "type": "scattergeo"
                      }
                    ],
                    "scattergl": [
                      {
                        "marker": {
                          "colorbar": {
                            "outlinewidth": 0,
                            "ticks": ""
                          }
                        },
                        "type": "scattergl"
                      }
                    ],
                    "scattermapbox": [
                      {
                        "marker": {
                          "colorbar": {
                            "outlinewidth": 0,
                            "ticks": ""
                          }
                        },
                        "type": "scattermapbox"
                      }
                    ],
                    "scatterpolargl": [
                      {
                        "marker": {
                          "colorbar": {
                            "outlinewidth": 0,
                            "ticks": ""
                          }
                        },
                        "type": "scatterpolargl"
                      }
                    ],
                    "scatterpolar": [
                      {
                        "marker": {
                          "colorbar": {
                            "outlinewidth": 0,
                            "ticks": ""
                          }
                        },
                        "type": "scatterpolar"
                      }
                    ],
                    "scatter": [
                      {
                        "fillpattern": {
                          "fillmode": "overlay",
                          "size": 10,
                          "solidity": 0.2
                        },
                        "type": "scatter"
                      }
                    ],
                    "scatterternary": [
                      {
                        "marker": {
                          "colorbar": {
                            "outlinewidth": 0,
                            "ticks": ""
                          }
                        },
                        "type": "scatterternary"
                      }
                    ],
                    "surface": [
                      {
                        "colorbar": {
                          "outlinewidth": 0,
                          "ticks": ""
                        },
                        "colorscale": [
                          [
                            0,
                            "#0d0887"
                          ],
                          [
                            0.1111111111111111,
                            "#46039f"
                          ],
                          [
                            0.2222222222222222,
                            "#7201a8"
                          ],
                          [
                            0.3333333333333333,
                            "#9c179e"
                          ],
                          [
                            0.4444444444444444,
                            "#bd3786"
                          ],
                          [
                            0.5555555555555556,
                            "#d8576b"
                          ],
                          [
                            0.6666666666666666,
                            "#ed7953"
                          ],
                          [
                            0.7777777777777778,
                            "#fb9f3a"
                          ],
                          [
                            0.8888888888888888,
                            "#fdca26"
                          ],
                          [
                            1,
                            "#f0f921"
                          ]
                        ],
                        "type": "surface"
                      }
                    ],
                    "table": [
                      {
                        "cells": {
                          "fill": {
                            "color": "#EBF0F8"
                          },
                          "line": {
                            "color": "white"
                          }
                        },
                        "header": {
                          "fill": {
                            "color": "#C8D4E3"
                          },
                          "line": {
                            "color": "white"
                          }
                        },
                        "type": "table"
                      }
                    ]
                  },
                  "layout": {
                    "annotationdefaults": {
                      "arrowcolor": "#2a3f5f",
                      "arrowhead": 0,
                      "arrowwidth": 1
                    },
                    "autotypenumbers": "strict",
                    "coloraxis": {
                      "colorbar": {
                        "outlinewidth": 0,
                        "ticks": ""
                      }
                    },
                    "colorscale": {
                      "diverging": [
                        [
                          0,
                          "#8e0152"
                        ],
                        [
                          0.1,
                          "#c51b7d"
                        ],
                        [
                          0.2,
                          "#de77ae"
                        ],
                        [
                          0.3,
                          "#f1b6da"
                        ],
                        [
                          0.4,
                          "#fde0ef"
                        ],
                        [
                          0.5,
                          "#f7f7f7"
                        ],
                        [
                          0.6,
                          "#e6f5d0"
                        ],
                        [
                          0.7,
                          "#b8e186"
                        ],
                        [
                          0.8,
                          "#7fbc41"
                        ],
                        [
                          0.9,
                          "#4d9221"
                        ],
                        [
                          1,
                          "#276419"
                        ]
                      ],
                      "sequential": [
                        [
                          0,
                          "#0d0887"
                        ],
                        [
                          0.1111111111111111,
                          "#46039f"
                        ],
                        [
                          0.2222222222222222,
                          "#7201a8"
                        ],
                        [
                          0.3333333333333333,
                          "#9c179e"
                        ],
                        [
                          0.4444444444444444,
                          "#bd3786"
                        ],
                        [
                          0.5555555555555556,
                          "#d8576b"
                        ],
                        [
                          0.6666666666666666,
                          "#ed7953"
                        ],
                        [
                          0.7777777777777778,
                          "#fb9f3a"
                        ],
                        [
                          0.8888888888888888,
                          "#fdca26"
                        ],
                        [
                          1,
                          "#f0f921"
                        ]
                      ],
                      "sequentialminus": [
                        [
                          0,
                          "#0d0887"
                        ],
                        [
                          0.1111111111111111,
                          "#46039f"
                        ],
                        [
                          0.2222222222222222,
                          "#7201a8"
                        ],
                        [
                          0.3333333333333333,
                          "#9c179e"
                        ],
                        [
                          0.4444444444444444,
                          "#bd3786"
                        ],
                        [
                          0.5555555555555556,
                          "#d8576b"
                        ],
                        [
                          0.6666666666666666,
                          "#ed7953"
                        ],
                        [
                          0.7777777777777778,
                          "#fb9f3a"
                        ],
                        [
                          0.8888888888888888,
                          "#fdca26"
                        ],
                        [
                          1,
                          "#f0f921"
                        ]
                      ]
                    },
                    "colorway": [
                      "#636efa",
                      "#EF553B",
                      "#00cc96",
                      "#ab63fa",
                      "#FFA15A",
                      "#19d3f3",
                      "#FF6692",
                      "#B6E880",
                      "#FF97FF",
                      "#FECB52"
                    ],
                    "font": {
                      "color": "#2a3f5f"
                    },
                    "geo": {
                      "bgcolor": "white",
                      "lakecolor": "white",
                      "landcolor": "#E5ECF6",
                      "showlakes": true,
                      "showland": true,
                      "subunitcolor": "white"
                    },
                    "hoverlabel": {
                      "align": "left"
                    },
                    "hovermode": "closest",
                    "mapbox": {
                      "style": "light"
                    },
                    "paper_bgcolor": "white",
                    "plot_bgcolor": "#E5ECF6",
                    "polar": {
                      "angularaxis": {
                        "gridcolor": "white",
                        "linecolor": "white",
                        "ticks": ""
                      },
                      "bgcolor": "#E5ECF6",
                      "radialaxis": {
                        "gridcolor": "white",
                        "linecolor": "white",
                        "ticks": ""
                      }
                    },
                    "scene": {
                      "xaxis": {
                        "backgroundcolor": "#E5ECF6",
                        "gridcolor": "white",
                        "gridwidth": 2,
                        "linecolor": "white",
                        "showbackground": true,
                        "ticks": "",
                        "zerolinecolor": "white"
                      },
                      "yaxis": {
                        "backgroundcolor": "#E5ECF6",
                        "gridcolor": "white",
                        "gridwidth": 2,
                        "linecolor": "white",
                        "showbackground": true,
                        "ticks": "",
                        "zerolinecolor": "white"
                      },
                      "zaxis": {
                        "backgroundcolor": "#E5ECF6",
                        "gridcolor": "white",
                        "gridwidth": 2,
                        "linecolor": "white",
                        "showbackground": true,
                        "ticks": "",
                        "zerolinecolor": "white"
                      }
                    },
                    "shapedefaults": {
                      "line": {
                        "color": "#2a3f5f"
                      }
                    },
                    "ternary": {
                      "aaxis": {
                        "gridcolor": "white",
                        "linecolor": "white",
                        "ticks": ""
                      },
                      "baxis": {
                        "gridcolor": "white",
                        "linecolor": "white",
                        "ticks": ""
                      },
                      "bgcolor": "#E5ECF6",
                      "caxis": {
                        "gridcolor": "white",
                        "linecolor": "white",
                        "ticks": ""
                      }
                    },
                    "title": {
                      "x": 0.05
                    },
                    "xaxis": {
                      "automargin": true,
                      "gridcolor": "white",
                      "linecolor": "white",
                      "ticks": "",
                      "title": {
                        "standoff": 15
                      },
                      "zerolinecolor": "white",
                      "zerolinewidth": 2
                    },
                    "yaxis": {
                      "automargin": true,
                      "gridcolor": "white",
                      "linecolor": "white",
                      "ticks": "",
                      "title": {
                        "standoff": 15
                      },
                      "zerolinecolor": "white",
                      "zerolinewidth": 2
                    }
                  }
                },
                "title": {
                  "text": "Ratings by Total Percent"
                }
              },
              "config": {
                "showLink": false,
                "linkText": "Export to plot.ly",
                "plotlyServerURL": "https://plot.ly"
              }
            },
            "text/html": [
              "<div>                            <div id=\"3bcc1416-dac4-4519-9a83-8202bd7bef28\" class=\"plotly-graph-div\" style=\"height:525px; width:100%;\"></div>            <script type=\"text/javascript\">                require([\"plotly\"], function(Plotly) {                    window.PLOTLYENV=window.PLOTLYENV || {};                                    if (document.getElementById(\"3bcc1416-dac4-4519-9a83-8202bd7bef28\")) {                    Plotly.newPlot(                        \"3bcc1416-dac4-4519-9a83-8202bd7bef28\",                        [{\"labels\":[4.0,3.0,5.0,3.5,4.5,2.0,2.5,1.0,0.5,1.5],\"marker\":{\"colors\":[\"red\",\"blue\",\"green\",\"yellow\",\"black\"]},\"values\":[414933,318501,219944,186016,126996,103247,73495,48497,21264,21169],\"type\":\"pie\"}],                        {\"template\":{\"data\":{\"barpolar\":[{\"marker\":{\"line\":{\"color\":\"#E5ECF6\",\"width\":0.5},\"pattern\":{\"fillmode\":\"overlay\",\"size\":10,\"solidity\":0.2}},\"type\":\"barpolar\"}],\"bar\":[{\"error_x\":{\"color\":\"#2a3f5f\"},\"error_y\":{\"color\":\"#2a3f5f\"},\"marker\":{\"line\":{\"color\":\"#E5ECF6\",\"width\":0.5},\"pattern\":{\"fillmode\":\"overlay\",\"size\":10,\"solidity\":0.2}},\"type\":\"bar\"}],\"carpet\":[{\"aaxis\":{\"endlinecolor\":\"#2a3f5f\",\"gridcolor\":\"white\",\"linecolor\":\"white\",\"minorgridcolor\":\"white\",\"startlinecolor\":\"#2a3f5f\"},\"baxis\":{\"endlinecolor\":\"#2a3f5f\",\"gridcolor\":\"white\",\"linecolor\":\"white\",\"minorgridcolor\":\"white\",\"startlinecolor\":\"#2a3f5f\"},\"type\":\"carpet\"}],\"choropleth\":[{\"colorbar\":{\"outlinewidth\":0,\"ticks\":\"\"},\"type\":\"choropleth\"}],\"contourcarpet\":[{\"colorbar\":{\"outlinewidth\":0,\"ticks\":\"\"},\"type\":\"contourcarpet\"}],\"contour\":[{\"colorbar\":{\"outlinewidth\":0,\"ticks\":\"\"},\"colorscale\":[[0.0,\"#0d0887\"],[0.1111111111111111,\"#46039f\"],[0.2222222222222222,\"#7201a8\"],[0.3333333333333333,\"#9c179e\"],[0.4444444444444444,\"#bd3786\"],[0.5555555555555556,\"#d8576b\"],[0.6666666666666666,\"#ed7953\"],[0.7777777777777778,\"#fb9f3a\"],[0.8888888888888888,\"#fdca26\"],[1.0,\"#f0f921\"]],\"type\":\"contour\"}],\"heatmapgl\":[{\"colorbar\":{\"outlinewidth\":0,\"ticks\":\"\"},\"colorscale\":[[0.0,\"#0d0887\"],[0.1111111111111111,\"#46039f\"],[0.2222222222222222,\"#7201a8\"],[0.3333333333333333,\"#9c179e\"],[0.4444444444444444,\"#bd3786\"],[0.5555555555555556,\"#d8576b\"],[0.6666666666666666,\"#ed7953\"],[0.7777777777777778,\"#fb9f3a\"],[0.8888888888888888,\"#fdca26\"],[1.0,\"#f0f921\"]],\"type\":\"heatmapgl\"}],\"heatmap\":[{\"colorbar\":{\"outlinewidth\":0,\"ticks\":\"\"},\"colorscale\":[[0.0,\"#0d0887\"],[0.1111111111111111,\"#46039f\"],[0.2222222222222222,\"#7201a8\"],[0.3333333333333333,\"#9c179e\"],[0.4444444444444444,\"#bd3786\"],[0.5555555555555556,\"#d8576b\"],[0.6666666666666666,\"#ed7953\"],[0.7777777777777778,\"#fb9f3a\"],[0.8888888888888888,\"#fdca26\"],[1.0,\"#f0f921\"]],\"type\":\"heatmap\"}],\"histogram2dcontour\":[{\"colorbar\":{\"outlinewidth\":0,\"ticks\":\"\"},\"colorscale\":[[0.0,\"#0d0887\"],[0.1111111111111111,\"#46039f\"],[0.2222222222222222,\"#7201a8\"],[0.3333333333333333,\"#9c179e\"],[0.4444444444444444,\"#bd3786\"],[0.5555555555555556,\"#d8576b\"],[0.6666666666666666,\"#ed7953\"],[0.7777777777777778,\"#fb9f3a\"],[0.8888888888888888,\"#fdca26\"],[1.0,\"#f0f921\"]],\"type\":\"histogram2dcontour\"}],\"histogram2d\":[{\"colorbar\":{\"outlinewidth\":0,\"ticks\":\"\"},\"colorscale\":[[0.0,\"#0d0887\"],[0.1111111111111111,\"#46039f\"],[0.2222222222222222,\"#7201a8\"],[0.3333333333333333,\"#9c179e\"],[0.4444444444444444,\"#bd3786\"],[0.5555555555555556,\"#d8576b\"],[0.6666666666666666,\"#ed7953\"],[0.7777777777777778,\"#fb9f3a\"],[0.8888888888888888,\"#fdca26\"],[1.0,\"#f0f921\"]],\"type\":\"histogram2d\"}],\"histogram\":[{\"marker\":{\"pattern\":{\"fillmode\":\"overlay\",\"size\":10,\"solidity\":0.2}},\"type\":\"histogram\"}],\"mesh3d\":[{\"colorbar\":{\"outlinewidth\":0,\"ticks\":\"\"},\"type\":\"mesh3d\"}],\"parcoords\":[{\"line\":{\"colorbar\":{\"outlinewidth\":0,\"ticks\":\"\"}},\"type\":\"parcoords\"}],\"pie\":[{\"automargin\":true,\"type\":\"pie\"}],\"scatter3d\":[{\"line\":{\"colorbar\":{\"outlinewidth\":0,\"ticks\":\"\"}},\"marker\":{\"colorbar\":{\"outlinewidth\":0,\"ticks\":\"\"}},\"type\":\"scatter3d\"}],\"scattercarpet\":[{\"marker\":{\"colorbar\":{\"outlinewidth\":0,\"ticks\":\"\"}},\"type\":\"scattercarpet\"}],\"scattergeo\":[{\"marker\":{\"colorbar\":{\"outlinewidth\":0,\"ticks\":\"\"}},\"type\":\"scattergeo\"}],\"scattergl\":[{\"marker\":{\"colorbar\":{\"outlinewidth\":0,\"ticks\":\"\"}},\"type\":\"scattergl\"}],\"scattermapbox\":[{\"marker\":{\"colorbar\":{\"outlinewidth\":0,\"ticks\":\"\"}},\"type\":\"scattermapbox\"}],\"scatterpolargl\":[{\"marker\":{\"colorbar\":{\"outlinewidth\":0,\"ticks\":\"\"}},\"type\":\"scatterpolargl\"}],\"scatterpolar\":[{\"marker\":{\"colorbar\":{\"outlinewidth\":0,\"ticks\":\"\"}},\"type\":\"scatterpolar\"}],\"scatter\":[{\"fillpattern\":{\"fillmode\":\"overlay\",\"size\":10,\"solidity\":0.2},\"type\":\"scatter\"}],\"scatterternary\":[{\"marker\":{\"colorbar\":{\"outlinewidth\":0,\"ticks\":\"\"}},\"type\":\"scatterternary\"}],\"surface\":[{\"colorbar\":{\"outlinewidth\":0,\"ticks\":\"\"},\"colorscale\":[[0.0,\"#0d0887\"],[0.1111111111111111,\"#46039f\"],[0.2222222222222222,\"#7201a8\"],[0.3333333333333333,\"#9c179e\"],[0.4444444444444444,\"#bd3786\"],[0.5555555555555556,\"#d8576b\"],[0.6666666666666666,\"#ed7953\"],[0.7777777777777778,\"#fb9f3a\"],[0.8888888888888888,\"#fdca26\"],[1.0,\"#f0f921\"]],\"type\":\"surface\"}],\"table\":[{\"cells\":{\"fill\":{\"color\":\"#EBF0F8\"},\"line\":{\"color\":\"white\"}},\"header\":{\"fill\":{\"color\":\"#C8D4E3\"},\"line\":{\"color\":\"white\"}},\"type\":\"table\"}]},\"layout\":{\"annotationdefaults\":{\"arrowcolor\":\"#2a3f5f\",\"arrowhead\":0,\"arrowwidth\":1},\"autotypenumbers\":\"strict\",\"coloraxis\":{\"colorbar\":{\"outlinewidth\":0,\"ticks\":\"\"}},\"colorscale\":{\"diverging\":[[0,\"#8e0152\"],[0.1,\"#c51b7d\"],[0.2,\"#de77ae\"],[0.3,\"#f1b6da\"],[0.4,\"#fde0ef\"],[0.5,\"#f7f7f7\"],[0.6,\"#e6f5d0\"],[0.7,\"#b8e186\"],[0.8,\"#7fbc41\"],[0.9,\"#4d9221\"],[1,\"#276419\"]],\"sequential\":[[0.0,\"#0d0887\"],[0.1111111111111111,\"#46039f\"],[0.2222222222222222,\"#7201a8\"],[0.3333333333333333,\"#9c179e\"],[0.4444444444444444,\"#bd3786\"],[0.5555555555555556,\"#d8576b\"],[0.6666666666666666,\"#ed7953\"],[0.7777777777777778,\"#fb9f3a\"],[0.8888888888888888,\"#fdca26\"],[1.0,\"#f0f921\"]],\"sequentialminus\":[[0.0,\"#0d0887\"],[0.1111111111111111,\"#46039f\"],[0.2222222222222222,\"#7201a8\"],[0.3333333333333333,\"#9c179e\"],[0.4444444444444444,\"#bd3786\"],[0.5555555555555556,\"#d8576b\"],[0.6666666666666666,\"#ed7953\"],[0.7777777777777778,\"#fb9f3a\"],[0.8888888888888888,\"#fdca26\"],[1.0,\"#f0f921\"]]},\"colorway\":[\"#636efa\",\"#EF553B\",\"#00cc96\",\"#ab63fa\",\"#FFA15A\",\"#19d3f3\",\"#FF6692\",\"#B6E880\",\"#FF97FF\",\"#FECB52\"],\"font\":{\"color\":\"#2a3f5f\"},\"geo\":{\"bgcolor\":\"white\",\"lakecolor\":\"white\",\"landcolor\":\"#E5ECF6\",\"showlakes\":true,\"showland\":true,\"subunitcolor\":\"white\"},\"hoverlabel\":{\"align\":\"left\"},\"hovermode\":\"closest\",\"mapbox\":{\"style\":\"light\"},\"paper_bgcolor\":\"white\",\"plot_bgcolor\":\"#E5ECF6\",\"polar\":{\"angularaxis\":{\"gridcolor\":\"white\",\"linecolor\":\"white\",\"ticks\":\"\"},\"bgcolor\":\"#E5ECF6\",\"radialaxis\":{\"gridcolor\":\"white\",\"linecolor\":\"white\",\"ticks\":\"\"}},\"scene\":{\"xaxis\":{\"backgroundcolor\":\"#E5ECF6\",\"gridcolor\":\"white\",\"gridwidth\":2,\"linecolor\":\"white\",\"showbackground\":true,\"ticks\":\"\",\"zerolinecolor\":\"white\"},\"yaxis\":{\"backgroundcolor\":\"#E5ECF6\",\"gridcolor\":\"white\",\"gridwidth\":2,\"linecolor\":\"white\",\"showbackground\":true,\"ticks\":\"\",\"zerolinecolor\":\"white\"},\"zaxis\":{\"backgroundcolor\":\"#E5ECF6\",\"gridcolor\":\"white\",\"gridwidth\":2,\"linecolor\":\"white\",\"showbackground\":true,\"ticks\":\"\",\"zerolinecolor\":\"white\"}},\"shapedefaults\":{\"line\":{\"color\":\"#2a3f5f\"}},\"ternary\":{\"aaxis\":{\"gridcolor\":\"white\",\"linecolor\":\"white\",\"ticks\":\"\"},\"baxis\":{\"gridcolor\":\"white\",\"linecolor\":\"white\",\"ticks\":\"\"},\"bgcolor\":\"#E5ECF6\",\"caxis\":{\"gridcolor\":\"white\",\"linecolor\":\"white\",\"ticks\":\"\"}},\"title\":{\"x\":0.05},\"xaxis\":{\"automargin\":true,\"gridcolor\":\"white\",\"linecolor\":\"white\",\"ticks\":\"\",\"title\":{\"standoff\":15},\"zerolinecolor\":\"white\",\"zerolinewidth\":2},\"yaxis\":{\"automargin\":true,\"gridcolor\":\"white\",\"linecolor\":\"white\",\"ticks\":\"\",\"title\":{\"standoff\":15},\"zerolinecolor\":\"white\",\"zerolinewidth\":2}}},\"title\":{\"text\":\"Ratings by Total Percent\"}},                        {\"responsive\": true}                    ).then(function(){\n",
              "                            \n",
              "var gd = document.getElementById('3bcc1416-dac4-4519-9a83-8202bd7bef28');\n",
              "var x = new MutationObserver(function (mutations, observer) {{\n",
              "        var display = window.getComputedStyle(gd).display;\n",
              "        if (!display || display === 'none') {{\n",
              "            console.log([gd, 'removed!']);\n",
              "            Plotly.purge(gd);\n",
              "            observer.disconnect();\n",
              "        }}\n",
              "}});\n",
              "\n",
              "// Listen for the removal of the full notebook cells\n",
              "var notebookContainer = gd.closest('#notebook-container');\n",
              "if (notebookContainer) {{\n",
              "    x.observe(notebookContainer, {childList: true});\n",
              "}}\n",
              "\n",
              "// Listen for the clearing of the current output cell\n",
              "var outputEl = gd.closest('.output');\n",
              "if (outputEl) {{\n",
              "    x.observe(outputEl, {childList: true});\n",
              "}}\n",
              "\n",
              "                        })                };                });            </script>        </div>"
            ]
          },
          "metadata": {}
        }
      ],
      "source": [
        "values = ratings.rating.value_counts()\n",
        "labels = values.index\n",
        "colors = ['red', 'blue', 'green', 'yellow', 'black']\n",
        "trace = go.Pie(labels=labels,\n",
        "               values=values,\n",
        "                marker=dict(colors=colors)\n",
        "              )\n",
        "layout = go.Layout(title='Ratings by Total Percent')\n",
        "fig = go.Figure(data=trace, layout=layout)\n",
        "iplot(fig)"
      ]
    },
    {
      "cell_type": "markdown",
      "metadata": {
        "id": "PYlaj4dGBV6H"
      },
      "source": [
        "We can see most movies were rated with 4, on a scale of 1 to 5. A fewer movies (compared to the total dataset) were rated with low grades. <br>\n",
        "Let's see which movies were rated most times, taking the 10 most rated."
      ]
    },
    {
      "cell_type": "code",
      "execution_count": null,
      "metadata": {
        "_kg_hide-input": true,
        "id": "6WzbTOb8BV6H"
      },
      "outputs": [],
      "source": [
        "df_aux = ratings['movieId'].value_counts().reset_index().head(10).rename(columns={'index': 'movieId', 'movieId': 'count'})\n",
        "df_aux['movieId'] = df_aux['movieId'].astype(str)"
      ]
    },
    {
      "cell_type": "code",
      "execution_count": null,
      "metadata": {
        "_kg_hide-input": true,
        "id": "DEU-7n83BV6K",
        "outputId": "7b371fa5-9882-491a-bc1f-692ec7e97700",
        "colab": {
          "base_uri": "https://localhost:8080/",
          "height": 17
        }
      },
      "outputs": [
        {
          "output_type": "execute_result",
          "data": {
            "text/plain": [
              "<IPython.core.display.HTML object>"
            ],
            "text/html": [
              "\n",
              "    <div id=\"vega-chart\"></div><script>\n",
              "    require([\"vega-embed\"], function(vg_embed) {\n",
              "        const spec = {\"$schema\": \"https://vega.github.io/schema/vega-lite/v4.17.0.json\", \"config\": {\"view\": {\"continuousHeight\": 300, \"continuousWidth\": 400}}, \"data\": {\"name\": \"data-80cf66fdbfc465aa3707f1b3e13ce165\"}, \"datasets\": {\"data-80cf66fdbfc465aa3707f1b3e13ce165\": [{\"count\": 5505, \"movieId\": \"356\"}, {\"count\": 5458, \"movieId\": \"318\"}, {\"count\": 5132, \"movieId\": \"296\"}, {\"count\": 4953, \"movieId\": \"593\"}, {\"count\": 4603, \"movieId\": \"2571\"}, {\"count\": 4525, \"movieId\": \"260\"}, {\"count\": 4457, \"movieId\": \"480\"}, {\"count\": 4052, \"movieId\": \"527\"}, {\"count\": 3943, \"movieId\": \"1\"}, {\"count\": 3887, \"movieId\": \"110\"}]}, \"encoding\": {\"tooltip\": [{\"field\": \"movieId\", \"type\": \"nominal\"}, {\"field\": \"count\", \"type\": \"quantitative\"}], \"x\": {\"axis\": {\"title\": \"Movie ID\"}, \"field\": \"movieId\", \"sort\": [\"356\", \"318\", \"296\", \"593\", \"2571\", \"260\", \"480\", \"527\", \"1\", \"110\"], \"type\": \"nominal\"}, \"y\": {\"axis\": {\"title\": \"Total Count\"}, \"field\": \"count\", \"type\": \"quantitative\"}}, \"height\": 300, \"mark\": \"bar\", \"selection\": {\"selector001\": {\"bind\": \"scales\", \"encodings\": [\"x\", \"y\"], \"type\": \"interval\"}}, \"title\": \"Movie Count\", \"width\": 800};\n",
              "        vg_embed(\"#vega-chart\", spec, {defaultStyle: true}).catch(console.warn);\n",
              "        console.log(\"anything?\");\n",
              "    });\n",
              "    console.log(\"really...anything?\");\n",
              "    </script>\n",
              "    "
            ]
          },
          "metadata": {},
          "execution_count": 16
        }
      ],
      "source": [
        "render(alt.Chart(df_aux).mark_bar().encode(\n",
        "    x=alt.X('movieId:N', axis=alt.Axis(title='Movie ID'), sort=list(df_aux['movieId'].values)),\n",
        "    y=alt.Y('count:Q', axis=alt.Axis(title='Total Count')),\n",
        "    tooltip=['movieId', 'count']\n",
        ").properties(title='Movie Count', height=300, width=800).interactive())"
      ]
    },
    {
      "cell_type": "markdown",
      "metadata": {
        "id": "4KgHdcnlBV6K"
      },
      "source": [
        "Time to discover which movies have this IDs.<br>\n",
        "Let's check the IDs on IMDB and get some info."
      ]
    },
    {
      "cell_type": "code",
      "execution_count": null,
      "metadata": {
        "_kg_hide-input": true,
        "id": "8z5V3r82BV6K"
      },
      "outputs": [],
      "source": [
        "# Get the Movie on metadata\n",
        "def get_movie_metadata(movieId):\n",
        "    metadata['imdb_id'] = metadata['imdb_id'].astype('category')\n",
        "    imdb_id = links[links['movieId'] == movieId]\n",
        "    imdb_id = imdb_id.imdbId.values[0]\n",
        "    if len(str(imdb_id)) == 7:\n",
        "        movie_rated = metadata[metadata['imdb_id'] == 'tt'+imdb_id.astype(str)]\n",
        "        df = movie_rated.loc[:,['title', 'overview', 'vote_average', 'release_date']]\n",
        "        return df.reset_index(drop=True)\n",
        "    elif len(str(imdb_id)) == 6:\n",
        "        movie_rated = metadata[metadata['imdb_id'] == 'tt0'+imdb_id.astype(str)]\n",
        "        df = movie_rated.loc[:,['title', 'overview', 'vote_average', 'release_date']]\n",
        "        return df.reset_index(drop=True)\n",
        "    elif len(str(imdb_id)) == 5:\n",
        "        movie_rated = metadata[metadata['imdb_id'] == 'tt00'+imdb_id.astype(str)]\n",
        "        df = movie_rated.loc[:,['title', 'overview', 'vote_average', 'release_date']]\n",
        "        return df.reset_index(drop=True)\n",
        "    elif len(str(imdb_id)) == 4:\n",
        "        movie_rated = metadata[metadata['imdb_id'] == 'tt000'+imdb_id.astype(str)]\n",
        "        df = movie_rated.loc[:,['title', 'overview', 'vote_average', 'release_date']]\n",
        "        return df.reset_index(drop=True)\n",
        "    elif len(str(imdb_id)) == 3:\n",
        "        movie_rated = metadata[metadata['imdb_id'] == 'tt0000'+imdb_id.astype(str)]\n",
        "        df = movie_rated.loc[:,['title', 'overview', 'vote_average', 'release_date']]\n",
        "        return df.reset_index(drop=True)\n",
        "    elif len(str(imdb_id)) == 2:\n",
        "        movie_rated = metadata[metadata['imdb_id'] == 'tt00000'+imdb_id.astype(str)]\n",
        "        df = movie_rated.loc[:,['title', 'overview', 'vote_average', 'release_date']]\n",
        "        return df.reset_index(drop=True)\n",
        "    elif len(str(imdb_id)) == 1:\n",
        "        movie_rated = metadata[metadata['imdb_id'] == 'tt000000'+imdb_id.astype(str)]\n",
        "        df = movie_rated.loc[:,['title', 'overview', 'vote_average', 'release_date']]\n",
        "        return df.reset_index(drop=True)\n",
        "    else:\n",
        "        pass\n",
        "# Get Movie List\n",
        "def get_movie(df):\n",
        "    movieIdIdx = df['movieId'].values.astype(int)\n",
        "    df_aux_b = pd.DataFrame({'title': ['aaa'],\n",
        "                           'overview': ['bbb'],\n",
        "                           'vote_average': [1.7],\n",
        "                           'release_date': ['1999-01-01']\n",
        "        })\n",
        "    for i in movieIdIdx:\n",
        "        df_aux_b = df_aux_b.append(get_movie_metadata(i), ignore_index=True)\n",
        "\n",
        "    df_aux_b.drop(0, inplace=True)\n",
        "    df_aux_b['release_date'] = df_aux_b['release_date'].apply(lambda x : x.split('-')[0])\n",
        "    df_aux_b['release_date'] = df_aux_b['release_date'].astype(int)\n",
        "    df_aux_b.rename(columns={'release_date' : 'release_year'}, inplace=True)\n",
        "    return df_aux_b.reset_index(drop=True)"
      ]
    },
    {
      "cell_type": "code",
      "execution_count": null,
      "metadata": {
        "_kg_hide-input": true,
        "id": "C-KCcRAWBV6K",
        "outputId": "698235db-1571-4855-95e8-e63c08e57759",
        "colab": {
          "base_uri": "https://localhost:8080/",
          "height": 363
        }
      },
      "outputs": [
        {
          "output_type": "execute_result",
          "data": {
            "text/plain": [
              "                      title  \\\n",
              "0              Forrest Gump   \n",
              "1  The Shawshank Redemption   \n",
              "2              Pulp Fiction   \n",
              "3  The Silence of the Lambs   \n",
              "4                The Matrix   \n",
              "5                 Star Wars   \n",
              "6             Jurassic Park   \n",
              "7          Schindler's List   \n",
              "8                 Toy Story   \n",
              "9                Braveheart   \n",
              "\n",
              "                                            overview  vote_average  \\\n",
              "0  A man with a low IQ has accomplished great thi...           8.2   \n",
              "1  Framed in the 1940s for the double murder of h...           8.5   \n",
              "2  A burger-loving hit man, his philosophical par...           8.3   \n",
              "3  FBI trainee, Clarice Starling ventures into a ...           8.1   \n",
              "4  Set in the 22nd century, The Matrix tells the ...           7.9   \n",
              "5  Princess Leia is captured and held hostage by ...           8.1   \n",
              "6  A wealthy entrepreneur secretly creates a them...           7.6   \n",
              "7  The true story of how businessman Oskar Schind...           8.3   \n",
              "8  Led by Woody, Andy's toys live happily in his ...           7.7   \n",
              "9  Enraged at the slaughter of Murron, his new br...           7.7   \n",
              "\n",
              "   release_year  \n",
              "0          1994  \n",
              "1          1994  \n",
              "2          1994  \n",
              "3          1991  \n",
              "4          1999  \n",
              "5          1977  \n",
              "6          1993  \n",
              "7          1993  \n",
              "8          1995  \n",
              "9          1995  "
            ],
            "text/html": [
              "\n",
              "  <div id=\"df-d2d3a62a-ac25-490b-bfbf-101cdc0fdefe\">\n",
              "    <div class=\"colab-df-container\">\n",
              "      <div>\n",
              "<style scoped>\n",
              "    .dataframe tbody tr th:only-of-type {\n",
              "        vertical-align: middle;\n",
              "    }\n",
              "\n",
              "    .dataframe tbody tr th {\n",
              "        vertical-align: top;\n",
              "    }\n",
              "\n",
              "    .dataframe thead th {\n",
              "        text-align: right;\n",
              "    }\n",
              "</style>\n",
              "<table border=\"1\" class=\"dataframe\">\n",
              "  <thead>\n",
              "    <tr style=\"text-align: right;\">\n",
              "      <th></th>\n",
              "      <th>title</th>\n",
              "      <th>overview</th>\n",
              "      <th>vote_average</th>\n",
              "      <th>release_year</th>\n",
              "    </tr>\n",
              "  </thead>\n",
              "  <tbody>\n",
              "    <tr>\n",
              "      <th>0</th>\n",
              "      <td>Forrest Gump</td>\n",
              "      <td>A man with a low IQ has accomplished great thi...</td>\n",
              "      <td>8.2</td>\n",
              "      <td>1994</td>\n",
              "    </tr>\n",
              "    <tr>\n",
              "      <th>1</th>\n",
              "      <td>The Shawshank Redemption</td>\n",
              "      <td>Framed in the 1940s for the double murder of h...</td>\n",
              "      <td>8.5</td>\n",
              "      <td>1994</td>\n",
              "    </tr>\n",
              "    <tr>\n",
              "      <th>2</th>\n",
              "      <td>Pulp Fiction</td>\n",
              "      <td>A burger-loving hit man, his philosophical par...</td>\n",
              "      <td>8.3</td>\n",
              "      <td>1994</td>\n",
              "    </tr>\n",
              "    <tr>\n",
              "      <th>3</th>\n",
              "      <td>The Silence of the Lambs</td>\n",
              "      <td>FBI trainee, Clarice Starling ventures into a ...</td>\n",
              "      <td>8.1</td>\n",
              "      <td>1991</td>\n",
              "    </tr>\n",
              "    <tr>\n",
              "      <th>4</th>\n",
              "      <td>The Matrix</td>\n",
              "      <td>Set in the 22nd century, The Matrix tells the ...</td>\n",
              "      <td>7.9</td>\n",
              "      <td>1999</td>\n",
              "    </tr>\n",
              "    <tr>\n",
              "      <th>5</th>\n",
              "      <td>Star Wars</td>\n",
              "      <td>Princess Leia is captured and held hostage by ...</td>\n",
              "      <td>8.1</td>\n",
              "      <td>1977</td>\n",
              "    </tr>\n",
              "    <tr>\n",
              "      <th>6</th>\n",
              "      <td>Jurassic Park</td>\n",
              "      <td>A wealthy entrepreneur secretly creates a them...</td>\n",
              "      <td>7.6</td>\n",
              "      <td>1993</td>\n",
              "    </tr>\n",
              "    <tr>\n",
              "      <th>7</th>\n",
              "      <td>Schindler's List</td>\n",
              "      <td>The true story of how businessman Oskar Schind...</td>\n",
              "      <td>8.3</td>\n",
              "      <td>1993</td>\n",
              "    </tr>\n",
              "    <tr>\n",
              "      <th>8</th>\n",
              "      <td>Toy Story</td>\n",
              "      <td>Led by Woody, Andy's toys live happily in his ...</td>\n",
              "      <td>7.7</td>\n",
              "      <td>1995</td>\n",
              "    </tr>\n",
              "    <tr>\n",
              "      <th>9</th>\n",
              "      <td>Braveheart</td>\n",
              "      <td>Enraged at the slaughter of Murron, his new br...</td>\n",
              "      <td>7.7</td>\n",
              "      <td>1995</td>\n",
              "    </tr>\n",
              "  </tbody>\n",
              "</table>\n",
              "</div>\n",
              "      <button class=\"colab-df-convert\" onclick=\"convertToInteractive('df-d2d3a62a-ac25-490b-bfbf-101cdc0fdefe')\"\n",
              "              title=\"Convert this dataframe to an interactive table.\"\n",
              "              style=\"display:none;\">\n",
              "        \n",
              "  <svg xmlns=\"http://www.w3.org/2000/svg\" height=\"24px\"viewBox=\"0 0 24 24\"\n",
              "       width=\"24px\">\n",
              "    <path d=\"M0 0h24v24H0V0z\" fill=\"none\"/>\n",
              "    <path d=\"M18.56 5.44l.94 2.06.94-2.06 2.06-.94-2.06-.94-.94-2.06-.94 2.06-2.06.94zm-11 1L8.5 8.5l.94-2.06 2.06-.94-2.06-.94L8.5 2.5l-.94 2.06-2.06.94zm10 10l.94 2.06.94-2.06 2.06-.94-2.06-.94-.94-2.06-.94 2.06-2.06.94z\"/><path d=\"M17.41 7.96l-1.37-1.37c-.4-.4-.92-.59-1.43-.59-.52 0-1.04.2-1.43.59L10.3 9.45l-7.72 7.72c-.78.78-.78 2.05 0 2.83L4 21.41c.39.39.9.59 1.41.59.51 0 1.02-.2 1.41-.59l7.78-7.78 2.81-2.81c.8-.78.8-2.07 0-2.86zM5.41 20L4 18.59l7.72-7.72 1.47 1.35L5.41 20z\"/>\n",
              "  </svg>\n",
              "      </button>\n",
              "      \n",
              "  <style>\n",
              "    .colab-df-container {\n",
              "      display:flex;\n",
              "      flex-wrap:wrap;\n",
              "      gap: 12px;\n",
              "    }\n",
              "\n",
              "    .colab-df-convert {\n",
              "      background-color: #E8F0FE;\n",
              "      border: none;\n",
              "      border-radius: 50%;\n",
              "      cursor: pointer;\n",
              "      display: none;\n",
              "      fill: #1967D2;\n",
              "      height: 32px;\n",
              "      padding: 0 0 0 0;\n",
              "      width: 32px;\n",
              "    }\n",
              "\n",
              "    .colab-df-convert:hover {\n",
              "      background-color: #E2EBFA;\n",
              "      box-shadow: 0px 1px 2px rgba(60, 64, 67, 0.3), 0px 1px 3px 1px rgba(60, 64, 67, 0.15);\n",
              "      fill: #174EA6;\n",
              "    }\n",
              "\n",
              "    [theme=dark] .colab-df-convert {\n",
              "      background-color: #3B4455;\n",
              "      fill: #D2E3FC;\n",
              "    }\n",
              "\n",
              "    [theme=dark] .colab-df-convert:hover {\n",
              "      background-color: #434B5C;\n",
              "      box-shadow: 0px 1px 3px 1px rgba(0, 0, 0, 0.15);\n",
              "      filter: drop-shadow(0px 1px 2px rgba(0, 0, 0, 0.3));\n",
              "      fill: #FFFFFF;\n",
              "    }\n",
              "  </style>\n",
              "\n",
              "      <script>\n",
              "        const buttonEl =\n",
              "          document.querySelector('#df-d2d3a62a-ac25-490b-bfbf-101cdc0fdefe button.colab-df-convert');\n",
              "        buttonEl.style.display =\n",
              "          google.colab.kernel.accessAllowed ? 'block' : 'none';\n",
              "\n",
              "        async function convertToInteractive(key) {\n",
              "          const element = document.querySelector('#df-d2d3a62a-ac25-490b-bfbf-101cdc0fdefe');\n",
              "          const dataTable =\n",
              "            await google.colab.kernel.invokeFunction('convertToInteractive',\n",
              "                                                     [key], {});\n",
              "          if (!dataTable) return;\n",
              "\n",
              "          const docLinkHtml = 'Like what you see? Visit the ' +\n",
              "            '<a target=\"_blank\" href=https://colab.research.google.com/notebooks/data_table.ipynb>data table notebook</a>'\n",
              "            + ' to learn more about interactive tables.';\n",
              "          element.innerHTML = '';\n",
              "          dataTable['output_type'] = 'display_data';\n",
              "          await google.colab.output.renderOutput(dataTable, element);\n",
              "          const docLink = document.createElement('div');\n",
              "          docLink.innerHTML = docLinkHtml;\n",
              "          element.appendChild(docLink);\n",
              "        }\n",
              "      </script>\n",
              "    </div>\n",
              "  </div>\n",
              "  "
            ]
          },
          "metadata": {},
          "execution_count": 18
        }
      ],
      "source": [
        "df_movies = get_movie(df_aux)\n",
        "df_movies"
      ]
    },
    {
      "cell_type": "markdown",
      "metadata": {
        "id": "tlO-ijDBBV6K"
      },
      "source": [
        "Nice, we have good movies in the list, I'm a great fan of Forrest Gump and The Silence of the Lambs!<br>\n",
        "Most of the movies listed were released in 90's, the only exception is Star Wars (1977).<br>\n",
        "Maybe most people are always viewing 90's movies? It's a interesting information to take note.<br>\n",
        "<br>\n",
        "Another curios information is that in the most rated movies, none have a rate above 9.0.<br>\n",
        "Let's expand it, let's get all the 1000 most rated movies and examine what words are frequent in they overviews."
      ]
    },
    {
      "cell_type": "code",
      "execution_count": null,
      "metadata": {
        "_kg_hide-input": true,
        "id": "ThYzg0g7BV6K",
        "outputId": "79e115e6-6b39-4cc5-93e4-d7aaf502d01e",
        "colab": {
          "base_uri": "https://localhost:8080/",
          "height": 393
        }
      },
      "outputs": [
        {
          "output_type": "display_data",
          "data": {
            "text/plain": [
              "                      title  \\\n",
              "0              Forrest Gump   \n",
              "1  The Shawshank Redemption   \n",
              "2              Pulp Fiction   \n",
              "\n",
              "                                            overview  vote_average  \\\n",
              "0  A man with a low IQ has accomplished great thi...           8.2   \n",
              "1  Framed in the 1940s for the double murder of h...           8.5   \n",
              "2  A burger-loving hit man, his philosophical par...           8.3   \n",
              "\n",
              "   release_year  \n",
              "0          1994  \n",
              "1          1994  \n",
              "2          1994  "
            ],
            "text/html": [
              "\n",
              "  <div id=\"df-a58db216-064e-4d46-8e16-9b013a5e555f\">\n",
              "    <div class=\"colab-df-container\">\n",
              "      <div>\n",
              "<style scoped>\n",
              "    .dataframe tbody tr th:only-of-type {\n",
              "        vertical-align: middle;\n",
              "    }\n",
              "\n",
              "    .dataframe tbody tr th {\n",
              "        vertical-align: top;\n",
              "    }\n",
              "\n",
              "    .dataframe thead th {\n",
              "        text-align: right;\n",
              "    }\n",
              "</style>\n",
              "<table border=\"1\" class=\"dataframe\">\n",
              "  <thead>\n",
              "    <tr style=\"text-align: right;\">\n",
              "      <th></th>\n",
              "      <th>title</th>\n",
              "      <th>overview</th>\n",
              "      <th>vote_average</th>\n",
              "      <th>release_year</th>\n",
              "    </tr>\n",
              "  </thead>\n",
              "  <tbody>\n",
              "    <tr>\n",
              "      <th>0</th>\n",
              "      <td>Forrest Gump</td>\n",
              "      <td>A man with a low IQ has accomplished great thi...</td>\n",
              "      <td>8.2</td>\n",
              "      <td>1994</td>\n",
              "    </tr>\n",
              "    <tr>\n",
              "      <th>1</th>\n",
              "      <td>The Shawshank Redemption</td>\n",
              "      <td>Framed in the 1940s for the double murder of h...</td>\n",
              "      <td>8.5</td>\n",
              "      <td>1994</td>\n",
              "    </tr>\n",
              "    <tr>\n",
              "      <th>2</th>\n",
              "      <td>Pulp Fiction</td>\n",
              "      <td>A burger-loving hit man, his philosophical par...</td>\n",
              "      <td>8.3</td>\n",
              "      <td>1994</td>\n",
              "    </tr>\n",
              "  </tbody>\n",
              "</table>\n",
              "</div>\n",
              "      <button class=\"colab-df-convert\" onclick=\"convertToInteractive('df-a58db216-064e-4d46-8e16-9b013a5e555f')\"\n",
              "              title=\"Convert this dataframe to an interactive table.\"\n",
              "              style=\"display:none;\">\n",
              "        \n",
              "  <svg xmlns=\"http://www.w3.org/2000/svg\" height=\"24px\"viewBox=\"0 0 24 24\"\n",
              "       width=\"24px\">\n",
              "    <path d=\"M0 0h24v24H0V0z\" fill=\"none\"/>\n",
              "    <path d=\"M18.56 5.44l.94 2.06.94-2.06 2.06-.94-2.06-.94-.94-2.06-.94 2.06-2.06.94zm-11 1L8.5 8.5l.94-2.06 2.06-.94-2.06-.94L8.5 2.5l-.94 2.06-2.06.94zm10 10l.94 2.06.94-2.06 2.06-.94-2.06-.94-.94-2.06-.94 2.06-2.06.94z\"/><path d=\"M17.41 7.96l-1.37-1.37c-.4-.4-.92-.59-1.43-.59-.52 0-1.04.2-1.43.59L10.3 9.45l-7.72 7.72c-.78.78-.78 2.05 0 2.83L4 21.41c.39.39.9.59 1.41.59.51 0 1.02-.2 1.41-.59l7.78-7.78 2.81-2.81c.8-.78.8-2.07 0-2.86zM5.41 20L4 18.59l7.72-7.72 1.47 1.35L5.41 20z\"/>\n",
              "  </svg>\n",
              "      </button>\n",
              "      \n",
              "  <style>\n",
              "    .colab-df-container {\n",
              "      display:flex;\n",
              "      flex-wrap:wrap;\n",
              "      gap: 12px;\n",
              "    }\n",
              "\n",
              "    .colab-df-convert {\n",
              "      background-color: #E8F0FE;\n",
              "      border: none;\n",
              "      border-radius: 50%;\n",
              "      cursor: pointer;\n",
              "      display: none;\n",
              "      fill: #1967D2;\n",
              "      height: 32px;\n",
              "      padding: 0 0 0 0;\n",
              "      width: 32px;\n",
              "    }\n",
              "\n",
              "    .colab-df-convert:hover {\n",
              "      background-color: #E2EBFA;\n",
              "      box-shadow: 0px 1px 2px rgba(60, 64, 67, 0.3), 0px 1px 3px 1px rgba(60, 64, 67, 0.15);\n",
              "      fill: #174EA6;\n",
              "    }\n",
              "\n",
              "    [theme=dark] .colab-df-convert {\n",
              "      background-color: #3B4455;\n",
              "      fill: #D2E3FC;\n",
              "    }\n",
              "\n",
              "    [theme=dark] .colab-df-convert:hover {\n",
              "      background-color: #434B5C;\n",
              "      box-shadow: 0px 1px 3px 1px rgba(0, 0, 0, 0.15);\n",
              "      filter: drop-shadow(0px 1px 2px rgba(0, 0, 0, 0.3));\n",
              "      fill: #FFFFFF;\n",
              "    }\n",
              "  </style>\n",
              "\n",
              "      <script>\n",
              "        const buttonEl =\n",
              "          document.querySelector('#df-a58db216-064e-4d46-8e16-9b013a5e555f button.colab-df-convert');\n",
              "        buttonEl.style.display =\n",
              "          google.colab.kernel.accessAllowed ? 'block' : 'none';\n",
              "\n",
              "        async function convertToInteractive(key) {\n",
              "          const element = document.querySelector('#df-a58db216-064e-4d46-8e16-9b013a5e555f');\n",
              "          const dataTable =\n",
              "            await google.colab.kernel.invokeFunction('convertToInteractive',\n",
              "                                                     [key], {});\n",
              "          if (!dataTable) return;\n",
              "\n",
              "          const docLinkHtml = 'Like what you see? Visit the ' +\n",
              "            '<a target=\"_blank\" href=https://colab.research.google.com/notebooks/data_table.ipynb>data table notebook</a>'\n",
              "            + ' to learn more about interactive tables.';\n",
              "          element.innerHTML = '';\n",
              "          dataTable['output_type'] = 'display_data';\n",
              "          await google.colab.output.renderOutput(dataTable, element);\n",
              "          const docLink = document.createElement('div');\n",
              "          docLink.innerHTML = docLinkHtml;\n",
              "          element.appendChild(docLink);\n",
              "        }\n",
              "      </script>\n",
              "    </div>\n",
              "  </div>\n",
              "  "
            ]
          },
          "metadata": {}
        },
        {
          "output_type": "display_data",
          "data": {
            "text/plain": [
              "'Number of Rows: 1000, Number of Columns: 4'"
            ],
            "application/vnd.google.colaboratory.intrinsic+json": {
              "type": "string"
            }
          },
          "metadata": {}
        },
        {
          "output_type": "display_data",
          "data": {
            "text/plain": [
              "'Data Types'"
            ],
            "application/vnd.google.colaboratory.intrinsic+json": {
              "type": "string"
            }
          },
          "metadata": {}
        },
        {
          "output_type": "display_data",
          "data": {
            "text/plain": [
              "         Column     Type\n",
              "0         title   object\n",
              "1      overview   object\n",
              "2  vote_average  float64\n",
              "3  release_year    int64"
            ],
            "text/html": [
              "\n",
              "  <div id=\"df-edacf15e-e0d2-4762-97f0-a56e80f829af\">\n",
              "    <div class=\"colab-df-container\">\n",
              "      <div>\n",
              "<style scoped>\n",
              "    .dataframe tbody tr th:only-of-type {\n",
              "        vertical-align: middle;\n",
              "    }\n",
              "\n",
              "    .dataframe tbody tr th {\n",
              "        vertical-align: top;\n",
              "    }\n",
              "\n",
              "    .dataframe thead th {\n",
              "        text-align: right;\n",
              "    }\n",
              "</style>\n",
              "<table border=\"1\" class=\"dataframe\">\n",
              "  <thead>\n",
              "    <tr style=\"text-align: right;\">\n",
              "      <th></th>\n",
              "      <th>Column</th>\n",
              "      <th>Type</th>\n",
              "    </tr>\n",
              "  </thead>\n",
              "  <tbody>\n",
              "    <tr>\n",
              "      <th>0</th>\n",
              "      <td>title</td>\n",
              "      <td>object</td>\n",
              "    </tr>\n",
              "    <tr>\n",
              "      <th>1</th>\n",
              "      <td>overview</td>\n",
              "      <td>object</td>\n",
              "    </tr>\n",
              "    <tr>\n",
              "      <th>2</th>\n",
              "      <td>vote_average</td>\n",
              "      <td>float64</td>\n",
              "    </tr>\n",
              "    <tr>\n",
              "      <th>3</th>\n",
              "      <td>release_year</td>\n",
              "      <td>int64</td>\n",
              "    </tr>\n",
              "  </tbody>\n",
              "</table>\n",
              "</div>\n",
              "      <button class=\"colab-df-convert\" onclick=\"convertToInteractive('df-edacf15e-e0d2-4762-97f0-a56e80f829af')\"\n",
              "              title=\"Convert this dataframe to an interactive table.\"\n",
              "              style=\"display:none;\">\n",
              "        \n",
              "  <svg xmlns=\"http://www.w3.org/2000/svg\" height=\"24px\"viewBox=\"0 0 24 24\"\n",
              "       width=\"24px\">\n",
              "    <path d=\"M0 0h24v24H0V0z\" fill=\"none\"/>\n",
              "    <path d=\"M18.56 5.44l.94 2.06.94-2.06 2.06-.94-2.06-.94-.94-2.06-.94 2.06-2.06.94zm-11 1L8.5 8.5l.94-2.06 2.06-.94-2.06-.94L8.5 2.5l-.94 2.06-2.06.94zm10 10l.94 2.06.94-2.06 2.06-.94-2.06-.94-.94-2.06-.94 2.06-2.06.94z\"/><path d=\"M17.41 7.96l-1.37-1.37c-.4-.4-.92-.59-1.43-.59-.52 0-1.04.2-1.43.59L10.3 9.45l-7.72 7.72c-.78.78-.78 2.05 0 2.83L4 21.41c.39.39.9.59 1.41.59.51 0 1.02-.2 1.41-.59l7.78-7.78 2.81-2.81c.8-.78.8-2.07 0-2.86zM5.41 20L4 18.59l7.72-7.72 1.47 1.35L5.41 20z\"/>\n",
              "  </svg>\n",
              "      </button>\n",
              "      \n",
              "  <style>\n",
              "    .colab-df-container {\n",
              "      display:flex;\n",
              "      flex-wrap:wrap;\n",
              "      gap: 12px;\n",
              "    }\n",
              "\n",
              "    .colab-df-convert {\n",
              "      background-color: #E8F0FE;\n",
              "      border: none;\n",
              "      border-radius: 50%;\n",
              "      cursor: pointer;\n",
              "      display: none;\n",
              "      fill: #1967D2;\n",
              "      height: 32px;\n",
              "      padding: 0 0 0 0;\n",
              "      width: 32px;\n",
              "    }\n",
              "\n",
              "    .colab-df-convert:hover {\n",
              "      background-color: #E2EBFA;\n",
              "      box-shadow: 0px 1px 2px rgba(60, 64, 67, 0.3), 0px 1px 3px 1px rgba(60, 64, 67, 0.15);\n",
              "      fill: #174EA6;\n",
              "    }\n",
              "\n",
              "    [theme=dark] .colab-df-convert {\n",
              "      background-color: #3B4455;\n",
              "      fill: #D2E3FC;\n",
              "    }\n",
              "\n",
              "    [theme=dark] .colab-df-convert:hover {\n",
              "      background-color: #434B5C;\n",
              "      box-shadow: 0px 1px 3px 1px rgba(0, 0, 0, 0.15);\n",
              "      filter: drop-shadow(0px 1px 2px rgba(0, 0, 0, 0.3));\n",
              "      fill: #FFFFFF;\n",
              "    }\n",
              "  </style>\n",
              "\n",
              "      <script>\n",
              "        const buttonEl =\n",
              "          document.querySelector('#df-edacf15e-e0d2-4762-97f0-a56e80f829af button.colab-df-convert');\n",
              "        buttonEl.style.display =\n",
              "          google.colab.kernel.accessAllowed ? 'block' : 'none';\n",
              "\n",
              "        async function convertToInteractive(key) {\n",
              "          const element = document.querySelector('#df-edacf15e-e0d2-4762-97f0-a56e80f829af');\n",
              "          const dataTable =\n",
              "            await google.colab.kernel.invokeFunction('convertToInteractive',\n",
              "                                                     [key], {});\n",
              "          if (!dataTable) return;\n",
              "\n",
              "          const docLinkHtml = 'Like what you see? Visit the ' +\n",
              "            '<a target=\"_blank\" href=https://colab.research.google.com/notebooks/data_table.ipynb>data table notebook</a>'\n",
              "            + ' to learn more about interactive tables.';\n",
              "          element.innerHTML = '';\n",
              "          dataTable['output_type'] = 'display_data';\n",
              "          await google.colab.output.renderOutput(dataTable, element);\n",
              "          const docLink = document.createElement('div');\n",
              "          docLink.innerHTML = docLinkHtml;\n",
              "          element.appendChild(docLink);\n",
              "        }\n",
              "      </script>\n",
              "    </div>\n",
              "  </div>\n",
              "  "
            ]
          },
          "metadata": {}
        },
        {
          "output_type": "display_data",
          "data": {
            "text/plain": [
              "'memory usage: 31.4+ KB'"
            ],
            "application/vnd.google.colaboratory.intrinsic+json": {
              "type": "string"
            }
          },
          "metadata": {}
        },
        {
          "output_type": "display_data",
          "data": {
            "text/plain": [
              "'Missing Values'"
            ],
            "application/vnd.google.colaboratory.intrinsic+json": {
              "type": "string"
            }
          },
          "metadata": {}
        },
        {
          "output_type": "display_data",
          "data": {
            "text/plain": [
              "'No Missing Values'"
            ],
            "application/vnd.google.colaboratory.intrinsic+json": {
              "type": "string"
            }
          },
          "metadata": {}
        }
      ],
      "source": [
        "df_aux = ratings['movieId'].value_counts().reset_index().head(1001).rename(columns={'index': 'movieId', 'movieId': 'count'})\n",
        "df_aux['movieId'] = df_aux['movieId'].astype(str)\n",
        "df_aux = get_movie(df_aux)\n",
        "get_df_info(df_aux)"
      ]
    },
    {
      "cell_type": "markdown",
      "metadata": {
        "id": "s-E7ghJvBV6L"
      },
      "source": [
        "Time to use Natural Language Processing (NLP) with NLTK module and transform everything in overview for lower case, word tokens and remove stopwords and make the Word Cloud."
      ]
    },
    {
      "cell_type": "code",
      "execution_count": null,
      "metadata": {
        "_kg_hide-input": true,
        "id": "zRzPqQ27BV6L",
        "outputId": "e82615f9-4282-4445-df9b-c767adb38925",
        "colab": {
          "base_uri": "https://localhost:8080/",
          "height": 847
        }
      },
      "outputs": [
        {
          "output_type": "stream",
          "name": "stderr",
          "text": [
            "[nltk_data] Downloading package stopwords to /root/nltk_data...\n",
            "[nltk_data]   Unzipping corpora/stopwords.zip.\n"
          ]
        },
        {
          "output_type": "display_data",
          "data": {
            "text/plain": [
              "<Figure size 1000x1000 with 1 Axes>"
            ],
            "image/svg+xml": "<?xml version=\"1.0\" encoding=\"utf-8\" standalone=\"no\"?>\n<!DOCTYPE svg PUBLIC \"-//W3C//DTD SVG 1.1//EN\"\n  \"http://www.w3.org/Graphics/SVG/1.1/DTD/svg11.dtd\">\n<svg xmlns:xlink=\"http://www.w3.org/1999/xlink\" width=\"568.8pt\" height=\"592.917188pt\" viewBox=\"0 0 568.8 592.917188\" xmlns=\"http://www.w3.org/2000/svg\" version=\"1.1\">\n <metadata>\n  <rdf:RDF xmlns:dc=\"http://purl.org/dc/elements/1.1/\" xmlns:cc=\"http://creativecommons.org/ns#\" xmlns:rdf=\"http://www.w3.org/1999/02/22-rdf-syntax-ns#\">\n   <cc:Work>\n    <dc:type rdf:resource=\"http://purl.org/dc/dcmitype/StillImage\"/>\n    <dc:date>2023-07-07T16:26:32.129184</dc:date>\n    <dc:format>image/svg+xml</dc:format>\n    <dc:creator>\n     <cc:Agent>\n      <dc:title>Matplotlib v3.7.1, https://matplotlib.org/</dc:title>\n     </cc:Agent>\n    </dc:creator>\n   </cc:Work>\n  </rdf:RDF>\n </metadata>\n <defs>\n  <style type=\"text/css\">*{stroke-linejoin: round; stroke-linecap: butt}</style>\n </defs>\n <g id=\"figure_1\">\n  <g id=\"patch_1\">\n   <path d=\"M 0 592.917188 \nL 568.8 592.917188 \nL 568.8 0 \nL 0 0 \nz\n\" style=\"fill: #ffffff\"/>\n  </g>\n  <g id=\"axes_1\">\n   <g clip-path=\"url(#pa9b230e204)\">\n    <image xlink:href=\"data:image/png;base64,\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\" id=\"imagea14362af9d\" transform=\"scale(1 -1) translate(0 -554.4)\" x=\"7.2\" y=\"-31.317188\" width=\"554.4\" height=\"554.4\"/>\n   </g>\n   <g id=\"text_1\">\n    <!-- Most Frequent words in TOP 1000 rated movies -->\n    <g style=\"fill: #262626\" transform=\"translate(18.985937 25.317188) scale(0.25 -0.25)\">\n     <defs>\n      <path id=\"LiberationSans-4d\" d=\"M 4269 0 \nL 4269 2938 \nQ 4269 3097 4272 3262 \nQ 4275 3428 4281 3566 \nQ 4288 3725 4297 3875 \nQ 4253 3716 4206 3559 \nQ 4166 3425 4117 3273 \nQ 4069 3122 4022 3000 \nL 2884 0 \nL 2466 0 \nL 1313 3000 \nQ 1294 3047 1273 3109 \nQ 1253 3172 1229 3242 \nQ 1206 3313 1182 3386 \nQ 1159 3459 1138 3531 \nQ 1084 3697 1034 3875 \nQ 1038 3700 1044 3528 \nQ 1050 3381 1053 3220 \nQ 1056 3059 1056 2938 \nL 1056 0 \nL 525 0 \nL 525 4403 \nL 1309 4403 \nL 2481 1350 \nQ 2503 1288 2534 1189 \nQ 2566 1091 2594 987 \nQ 2622 884 2645 792 \nQ 2669 700 2678 650 \nQ 2688 700 2713 794 \nQ 2738 888 2770 991 \nQ 2803 1094 2834 1191 \nQ 2866 1288 2891 1350 \nL 4041 4403 \nL 4806 4403 \nL 4806 0 \nL 4269 0 \nz\n\" transform=\"scale(0.015625)\"/>\n      <path id=\"LiberationSans-6f\" d=\"M 3291 1694 \nQ 3291 806 2900 371 \nQ 2509 -63 1766 -63 \nQ 1413 -63 1134 43 \nQ 856 150 664 369 \nQ 472 588 370 917 \nQ 269 1247 269 1694 \nQ 269 3444 1784 3444 \nQ 2178 3444 2464 3334 \nQ 2750 3225 2933 3006 \nQ 3116 2788 3203 2459 \nQ 3291 2131 3291 1694 \nz\nM 2700 1694 \nQ 2700 2088 2639 2344 \nQ 2578 2600 2461 2753 \nQ 2344 2906 2175 2967 \nQ 2006 3028 1794 3028 \nQ 1578 3028 1404 2964 \nQ 1231 2900 1109 2745 \nQ 988 2591 923 2334 \nQ 859 2078 859 1694 \nQ 859 1300 928 1042 \nQ 997 784 1117 631 \nQ 1238 478 1402 415 \nQ 1566 353 1759 353 \nQ 1975 353 2150 414 \nQ 2325 475 2447 628 \nQ 2569 781 2634 1040 \nQ 2700 1300 2700 1694 \nz\n\" transform=\"scale(0.015625)\"/>\n      <path id=\"LiberationSans-73\" d=\"M 2969 934 \nQ 2969 697 2876 511 \nQ 2784 325 2609 198 \nQ 2434 72 2179 4 \nQ 1925 -63 1597 -63 \nQ 1303 -63 1067 -17 \nQ 831 28 653 128 \nQ 475 228 354 392 \nQ 234 556 178 794 \nL 675 891 \nQ 747 619 972 492 \nQ 1197 366 1597 366 \nQ 1778 366 1929 391 \nQ 2081 416 2190 477 \nQ 2300 538 2361 639 \nQ 2422 741 2422 891 \nQ 2422 1044 2350 1142 \nQ 2278 1241 2150 1306 \nQ 2022 1372 1839 1420 \nQ 1656 1469 1438 1528 \nQ 1234 1581 1034 1647 \nQ 834 1713 673 1820 \nQ 513 1928 413 2087 \nQ 313 2247 313 2488 \nQ 313 2950 642 3192 \nQ 972 3434 1603 3434 \nQ 2163 3434 2492 3237 \nQ 2822 3041 2909 2606 \nL 2403 2544 \nQ 2375 2675 2300 2764 \nQ 2225 2853 2119 2908 \nQ 2013 2963 1880 2986 \nQ 1747 3009 1603 3009 \nQ 1222 3009 1040 2893 \nQ 859 2778 859 2544 \nQ 859 2406 926 2317 \nQ 994 2228 1114 2167 \nQ 1234 2106 1403 2061 \nQ 1572 2016 1775 1966 \nQ 1909 1931 2050 1892 \nQ 2191 1853 2323 1798 \nQ 2456 1744 2573 1670 \nQ 2691 1597 2778 1494 \nQ 2866 1391 2917 1253 \nQ 2969 1116 2969 934 \nz\n\" transform=\"scale(0.015625)\"/>\n      <path id=\"LiberationSans-74\" d=\"M 1731 25 \nQ 1603 -9 1470 -29 \nQ 1338 -50 1163 -50 \nQ 488 -50 488 716 \nL 488 2972 \nL 97 2972 \nL 97 3381 \nL 509 3381 \nL 675 4138 \nL 1050 4138 \nL 1050 3381 \nL 1675 3381 \nL 1675 2972 \nL 1050 2972 \nL 1050 838 \nQ 1050 594 1129 495 \nQ 1209 397 1406 397 \nQ 1488 397 1564 409 \nQ 1641 422 1731 441 \nL 1731 25 \nz\n\" transform=\"scale(0.015625)\"/>\n      <path id=\"LiberationSans-20\" transform=\"scale(0.015625)\"/>\n      <path id=\"LiberationSans-46\" d=\"M 1122 3916 \nL 1122 2278 \nL 3578 2278 \nL 3578 1784 \nL 1122 1784 \nL 1122 0 \nL 525 0 \nL 525 4403 \nL 3653 4403 \nL 3653 3916 \nL 1122 3916 \nz\n\" transform=\"scale(0.015625)\"/>\n      <path id=\"LiberationSans-72\" d=\"M 444 0 \nL 444 2594 \nQ 444 2700 442 2811 \nQ 441 2922 437 3025 \nQ 434 3128 431 3218 \nQ 428 3309 425 3381 \nL 956 3381 \nQ 959 3309 964 3217 \nQ 969 3125 973 3028 \nQ 978 2931 979 2842 \nQ 981 2753 981 2691 \nL 994 2691 \nQ 1053 2884 1120 3026 \nQ 1188 3169 1278 3261 \nQ 1369 3353 1494 3398 \nQ 1619 3444 1797 3444 \nQ 1866 3444 1928 3433 \nQ 1991 3422 2025 3413 \nL 2025 2897 \nQ 1969 2913 1894 2920 \nQ 1819 2928 1725 2928 \nQ 1531 2928 1395 2840 \nQ 1259 2753 1173 2598 \nQ 1088 2444 1047 2230 \nQ 1006 2016 1006 1763 \nL 1006 0 \nL 444 0 \nz\n\" transform=\"scale(0.015625)\"/>\n      <path id=\"LiberationSans-65\" d=\"M 863 1572 \nQ 863 1306 917 1082 \nQ 972 859 1086 698 \nQ 1200 538 1378 448 \nQ 1556 359 1806 359 \nQ 2172 359 2392 506 \nQ 2613 653 2691 878 \nL 3184 738 \nQ 3131 597 3036 455 \nQ 2941 313 2781 198 \nQ 2622 84 2383 10 \nQ 2144 -63 1806 -63 \nQ 1056 -63 664 384 \nQ 272 831 272 1713 \nQ 272 2188 390 2517 \nQ 509 2847 715 3053 \nQ 922 3259 1197 3351 \nQ 1472 3444 1784 3444 \nQ 2209 3444 2495 3306 \nQ 2781 3169 2954 2926 \nQ 3128 2684 3201 2356 \nQ 3275 2028 3275 1647 \nL 3275 1572 \nL 863 1572 \nz\nM 2694 2003 \nQ 2647 2538 2422 2783 \nQ 2197 3028 1775 3028 \nQ 1634 3028 1479 2983 \nQ 1325 2938 1194 2822 \nQ 1063 2706 972 2507 \nQ 881 2309 869 2003 \nL 2694 2003 \nz\n\" transform=\"scale(0.015625)\"/>\n      <path id=\"LiberationSans-71\" d=\"M 1513 -63 \nQ 869 -63 569 371 \nQ 269 806 269 1675 \nQ 269 2556 576 3000 \nQ 884 3444 1513 3444 \nQ 1722 3444 1883 3406 \nQ 2044 3369 2170 3295 \nQ 2297 3222 2392 3112 \nQ 2488 3003 2566 2856 \nL 2572 2856 \nQ 2572 2934 2576 3029 \nQ 2581 3125 2586 3209 \nQ 2591 3294 2597 3355 \nQ 2603 3416 2609 3425 \nL 3150 3425 \nQ 3144 3372 3136 3147 \nQ 3128 2922 3128 2503 \nL 3128 -1328 \nL 2566 -1328 \nL 2566 44 \nQ 2566 125 2567 212 \nQ 2569 300 2572 378 \nQ 2575 466 2578 556 \nL 2572 556 \nQ 2491 397 2392 280 \nQ 2294 163 2166 86 \nQ 2038 9 1877 -27 \nQ 1716 -63 1513 -63 \nz\nM 2566 1731 \nQ 2566 2100 2502 2350 \nQ 2438 2600 2320 2750 \nQ 2203 2900 2036 2964 \nQ 1869 3028 1663 3028 \nQ 1447 3028 1294 2948 \nQ 1141 2869 1045 2705 \nQ 950 2541 904 2289 \nQ 859 2038 859 1694 \nQ 859 1356 901 1106 \nQ 944 856 1039 693 \nQ 1134 531 1286 451 \nQ 1438 372 1656 372 \nQ 1844 372 2009 430 \nQ 2175 488 2298 639 \nQ 2422 791 2494 1055 \nQ 2566 1319 2566 1731 \nz\n\" transform=\"scale(0.015625)\"/>\n      <path id=\"LiberationSans-75\" d=\"M 981 3381 \nL 981 1238 \nQ 981 991 1017 825 \nQ 1053 659 1134 557 \nQ 1216 456 1348 414 \nQ 1481 372 1678 372 \nQ 1878 372 2039 442 \nQ 2200 513 2314 645 \nQ 2428 778 2490 973 \nQ 2553 1169 2553 1422 \nL 2553 3381 \nL 3116 3381 \nL 3116 722 \nQ 3116 616 3117 498 \nQ 3119 381 3122 276 \nQ 3125 172 3128 97 \nQ 3131 22 3134 0 \nL 2603 0 \nQ 2600 16 2597 84 \nQ 2594 153 2589 242 \nQ 2584 331 2581 423 \nQ 2578 516 2578 578 \nL 2569 578 \nQ 2488 431 2391 312 \nQ 2294 194 2166 111 \nQ 2038 28 1872 -17 \nQ 1706 -63 1488 -63 \nQ 1206 -63 1003 6 \nQ 800 75 669 219 \nQ 538 363 477 588 \nQ 416 813 416 1128 \nL 416 3381 \nL 981 3381 \nz\n\" transform=\"scale(0.015625)\"/>\n      <path id=\"LiberationSans-6e\" d=\"M 2578 0 \nL 2578 2144 \nQ 2578 2391 2542 2556 \nQ 2506 2722 2425 2823 \nQ 2344 2925 2211 2967 \nQ 2078 3009 1881 3009 \nQ 1681 3009 1520 2939 \nQ 1359 2869 1245 2736 \nQ 1131 2603 1068 2408 \nQ 1006 2213 1006 1959 \nL 1006 0 \nL 444 0 \nL 444 2659 \nQ 444 2766 442 2883 \nQ 441 3000 437 3104 \nQ 434 3209 431 3284 \nQ 428 3359 425 3381 \nL 956 3381 \nQ 959 3366 962 3297 \nQ 966 3228 970 3139 \nQ 975 3050 978 2958 \nQ 981 2866 981 2803 \nL 991 2803 \nQ 1072 2950 1169 3069 \nQ 1266 3188 1394 3270 \nQ 1522 3353 1687 3398 \nQ 1853 3444 2072 3444 \nQ 2353 3444 2556 3375 \nQ 2759 3306 2890 3162 \nQ 3022 3019 3083 2792 \nQ 3144 2566 3144 2253 \nL 3144 0 \nL 2578 0 \nz\n\" transform=\"scale(0.015625)\"/>\n      <path id=\"LiberationSans-77\" d=\"M 3669 0 \nL 3016 0 \nL 2475 2181 \nQ 2450 2266 2423 2391 \nQ 2397 2516 2372 2634 \nQ 2341 2772 2313 2919 \nQ 2284 2778 2253 2641 \nQ 2228 2522 2198 2394 \nQ 2169 2266 2144 2169 \nL 1588 0 \nL 938 0 \nL -9 3381 \nL 547 3381 \nL 1119 1084 \nQ 1141 1013 1162 908 \nQ 1184 803 1206 703 \nQ 1228 588 1253 466 \nQ 1278 584 1306 697 \nQ 1331 794 1356 894 \nQ 1381 994 1400 1059 \nL 2013 3381 \nL 2616 3381 \nL 3206 1059 \nQ 3228 978 3253 875 \nQ 3278 772 3300 681 \nQ 3325 575 3350 466 \nQ 3375 584 3400 697 \nQ 3422 794 3445 898 \nQ 3469 1003 3491 1084 \nL 4088 3381 \nL 4638 3381 \nL 3669 0 \nz\n\" transform=\"scale(0.015625)\"/>\n      <path id=\"LiberationSans-64\" d=\"M 2566 544 \nQ 2409 219 2151 78 \nQ 1894 -63 1513 -63 \nQ 872 -63 570 368 \nQ 269 800 269 1675 \nQ 269 3444 1513 3444 \nQ 1897 3444 2153 3303 \nQ 2409 3163 2566 2856 \nL 2572 2856 \nQ 2572 2888 2570 2955 \nQ 2569 3022 2567 3095 \nQ 2566 3169 2566 3234 \nQ 2566 3300 2566 3328 \nL 2566 4638 \nL 3128 4638 \nL 3128 697 \nQ 3128 575 3129 462 \nQ 3131 350 3134 256 \nQ 3138 163 3141 95 \nQ 3144 28 3147 0 \nL 2609 0 \nQ 2603 31 2598 89 \nQ 2594 147 2589 222 \nQ 2584 297 2581 380 \nQ 2578 463 2578 544 \nL 2566 544 \nz\nM 859 1694 \nQ 859 1344 903 1094 \nQ 947 844 1044 683 \nQ 1141 522 1291 447 \nQ 1441 372 1656 372 \nQ 1878 372 2048 444 \nQ 2219 516 2333 677 \nQ 2447 838 2506 1097 \nQ 2566 1356 2566 1731 \nQ 2566 2091 2506 2339 \nQ 2447 2588 2331 2741 \nQ 2216 2894 2048 2961 \nQ 1881 3028 1663 3028 \nQ 1456 3028 1306 2956 \nQ 1156 2884 1056 2725 \nQ 956 2566 907 2311 \nQ 859 2056 859 1694 \nz\n\" transform=\"scale(0.015625)\"/>\n      <path id=\"LiberationSans-69\" d=\"M 428 4100 \nL 428 4638 \nL 991 4638 \nL 991 4100 \nL 428 4100 \nz\nM 428 0 \nL 428 3381 \nL 991 3381 \nL 991 0 \nL 428 0 \nz\n\" transform=\"scale(0.015625)\"/>\n      <path id=\"LiberationSans-54\" d=\"M 2250 3916 \nL 2250 0 \nL 1656 0 \nL 1656 3916 \nL 144 3916 \nL 144 4403 \nL 3763 4403 \nL 3763 3916 \nL 2250 3916 \nz\n\" transform=\"scale(0.015625)\"/>\n      <path id=\"LiberationSans-4f\" d=\"M 4672 2222 \nQ 4672 1706 4523 1284 \nQ 4375 863 4094 563 \nQ 3813 263 3406 100 \nQ 3000 -63 2484 -63 \nQ 1941 -63 1531 107 \nQ 1122 278 850 583 \nQ 578 888 440 1306 \nQ 303 1725 303 2222 \nQ 303 2738 447 3153 \nQ 591 3569 869 3861 \nQ 1147 4153 1555 4311 \nQ 1963 4469 2491 4469 \nQ 3016 4469 3423 4309 \nQ 3831 4150 4107 3856 \nQ 4384 3563 4528 3147 \nQ 4672 2731 4672 2222 \nz\nM 4063 2222 \nQ 4063 2619 3961 2944 \nQ 3859 3269 3661 3500 \nQ 3463 3731 3169 3856 \nQ 2875 3981 2491 3981 \nQ 2097 3981 1800 3856 \nQ 1503 3731 1304 3500 \nQ 1106 3269 1007 2944 \nQ 909 2619 909 2222 \nQ 909 1825 1011 1495 \nQ 1113 1166 1311 927 \nQ 1509 688 1804 555 \nQ 2100 422 2484 422 \nQ 2897 422 3195 556 \nQ 3494 691 3686 930 \nQ 3878 1169 3970 1500 \nQ 4063 1831 4063 2222 \nz\n\" transform=\"scale(0.015625)\"/>\n      <path id=\"LiberationSans-50\" d=\"M 3931 3078 \nQ 3931 2791 3836 2542 \nQ 3741 2294 3552 2111 \nQ 3363 1928 3078 1822 \nQ 2794 1716 2416 1716 \nL 1122 1716 \nL 1122 0 \nL 525 0 \nL 525 4403 \nL 2378 4403 \nQ 2769 4403 3059 4308 \nQ 3350 4213 3544 4039 \nQ 3738 3866 3834 3620 \nQ 3931 3375 3931 3078 \nz\nM 3331 3072 \nQ 3331 3491 3075 3708 \nQ 2819 3925 2306 3925 \nL 1122 3925 \nL 1122 2188 \nL 2331 2188 \nQ 2847 2188 3089 2416 \nQ 3331 2644 3331 3072 \nz\n\" transform=\"scale(0.015625)\"/>\n      <path id=\"LiberationSans-31\" d=\"M 488 0 \nL 488 478 \nL 1609 478 \nL 1609 3866 \nL 616 3156 \nL 616 3688 \nL 1656 4403 \nL 2175 4403 \nL 2175 478 \nL 3247 478 \nL 3247 0 \nL 488 0 \nz\n\" transform=\"scale(0.015625)\"/>\n      <path id=\"LiberationSans-30\" d=\"M 3309 2203 \nQ 3309 1569 3189 1136 \nQ 3069 703 2861 436 \nQ 2653 169 2372 53 \nQ 2091 -63 1772 -63 \nQ 1450 -63 1172 53 \nQ 894 169 689 434 \nQ 484 700 367 1133 \nQ 250 1566 250 2203 \nQ 250 2869 367 3305 \nQ 484 3741 690 4000 \nQ 897 4259 1178 4364 \nQ 1459 4469 1791 4469 \nQ 2106 4469 2382 4364 \nQ 2659 4259 2865 4000 \nQ 3072 3741 3190 3305 \nQ 3309 2869 3309 2203 \nz\nM 2738 2203 \nQ 2738 2728 2675 3076 \nQ 2613 3425 2491 3633 \nQ 2369 3841 2192 3927 \nQ 2016 4013 1791 4013 \nQ 1553 4013 1372 3925 \nQ 1191 3838 1067 3630 \nQ 944 3422 881 3073 \nQ 819 2725 819 2203 \nQ 819 1697 883 1350 \nQ 947 1003 1070 792 \nQ 1194 581 1372 489 \nQ 1550 397 1778 397 \nQ 2000 397 2178 489 \nQ 2356 581 2479 792 \nQ 2603 1003 2670 1350 \nQ 2738 1697 2738 2203 \nz\n\" transform=\"scale(0.015625)\"/>\n      <path id=\"LiberationSans-61\" d=\"M 1294 -63 \nQ 784 -63 528 206 \nQ 272 475 272 944 \nQ 272 1278 398 1492 \nQ 525 1706 729 1828 \nQ 934 1950 1196 1997 \nQ 1459 2044 1731 2050 \nL 2491 2063 \nL 2491 2247 \nQ 2491 2456 2447 2603 \nQ 2403 2750 2312 2840 \nQ 2222 2931 2086 2973 \nQ 1950 3016 1766 3016 \nQ 1603 3016 1472 2992 \nQ 1341 2969 1244 2908 \nQ 1147 2847 1087 2742 \nQ 1028 2638 1009 2478 \nL 422 2531 \nQ 453 2731 540 2898 \nQ 628 3066 789 3187 \nQ 950 3309 1192 3376 \nQ 1434 3444 1778 3444 \nQ 2416 3444 2737 3151 \nQ 3059 2859 3059 2306 \nL 3059 850 \nQ 3059 600 3125 473 \nQ 3191 347 3375 347 \nQ 3422 347 3469 353 \nQ 3516 359 3559 369 \nL 3559 19 \nQ 3453 -6 3348 -18 \nQ 3244 -31 3125 -31 \nQ 2966 -31 2852 11 \nQ 2738 53 2666 139 \nQ 2594 225 2556 351 \nQ 2519 478 2509 647 \nL 2491 647 \nQ 2400 484 2292 353 \nQ 2184 222 2040 130 \nQ 1897 38 1714 -12 \nQ 1531 -63 1294 -63 \nz\nM 1422 359 \nQ 1691 359 1892 457 \nQ 2094 556 2226 709 \nQ 2359 863 2425 1044 \nQ 2491 1225 2491 1391 \nL 2491 1669 \nL 1875 1656 \nQ 1669 1653 1483 1626 \nQ 1297 1600 1156 1522 \nQ 1016 1444 933 1303 \nQ 850 1163 850 934 \nQ 850 659 998 509 \nQ 1147 359 1422 359 \nz\n\" transform=\"scale(0.015625)\"/>\n      <path id=\"LiberationSans-6d\" d=\"M 2400 0 \nL 2400 2144 \nQ 2400 2391 2369 2556 \nQ 2338 2722 2264 2823 \nQ 2191 2925 2072 2967 \nQ 1953 3009 1781 3009 \nQ 1603 3009 1459 2939 \nQ 1316 2869 1214 2736 \nQ 1113 2603 1058 2408 \nQ 1003 2213 1003 1959 \nL 1003 0 \nL 444 0 \nL 444 2659 \nQ 444 2766 442 2883 \nQ 441 3000 437 3104 \nQ 434 3209 431 3284 \nQ 428 3359 425 3381 \nL 956 3381 \nQ 959 3366 962 3297 \nQ 966 3228 970 3139 \nQ 975 3050 978 2958 \nQ 981 2866 981 2803 \nL 991 2803 \nQ 1066 2950 1153 3069 \nQ 1241 3188 1358 3270 \nQ 1475 3353 1626 3398 \nQ 1778 3444 1978 3444 \nQ 2363 3444 2586 3291 \nQ 2809 3138 2897 2803 \nL 2906 2803 \nQ 2981 2950 3075 3069 \nQ 3169 3188 3294 3270 \nQ 3419 3353 3575 3398 \nQ 3731 3444 3931 3444 \nQ 4188 3444 4373 3375 \nQ 4559 3306 4678 3162 \nQ 4797 3019 4853 2792 \nQ 4909 2566 4909 2253 \nL 4909 0 \nL 4353 0 \nL 4353 2144 \nQ 4353 2391 4322 2556 \nQ 4291 2722 4217 2823 \nQ 4144 2925 4025 2967 \nQ 3906 3009 3734 3009 \nQ 3556 3009 3412 2942 \nQ 3269 2875 3167 2744 \nQ 3066 2613 3011 2416 \nQ 2956 2219 2956 1959 \nL 2956 0 \nL 2400 0 \nz\n\" transform=\"scale(0.015625)\"/>\n      <path id=\"LiberationSans-76\" d=\"M 1916 0 \nL 1250 0 \nL 22 3381 \nL 622 3381 \nL 1366 1181 \nQ 1388 1113 1417 1014 \nQ 1447 916 1478 809 \nQ 1509 703 1536 604 \nQ 1563 506 1581 441 \nQ 1600 506 1629 604 \nQ 1659 703 1690 806 \nQ 1722 909 1755 1007 \nQ 1788 1106 1813 1175 \nL 2581 3381 \nL 3178 3381 \nL 1916 0 \nz\n\" transform=\"scale(0.015625)\"/>\n     </defs>\n     <use xlink:href=\"#LiberationSans-4d\"/>\n     <use xlink:href=\"#LiberationSans-6f\" x=\"83.300781\"/>\n     <use xlink:href=\"#LiberationSans-73\" x=\"138.916016\"/>\n     <use xlink:href=\"#LiberationSans-74\" x=\"188.916016\"/>\n     <use xlink:href=\"#LiberationSans-20\" x=\"216.699219\"/>\n     <use xlink:href=\"#LiberationSans-46\" x=\"244.482422\"/>\n     <use xlink:href=\"#LiberationSans-72\" x=\"305.566406\"/>\n     <use xlink:href=\"#LiberationSans-65\" x=\"338.867188\"/>\n     <use xlink:href=\"#LiberationSans-71\" x=\"394.482422\"/>\n     <use xlink:href=\"#LiberationSans-75\" x=\"450.097656\"/>\n     <use xlink:href=\"#LiberationSans-65\" x=\"505.712891\"/>\n     <use xlink:href=\"#LiberationSans-6e\" x=\"561.328125\"/>\n     <use xlink:href=\"#LiberationSans-74\" x=\"616.943359\"/>\n     <use xlink:href=\"#LiberationSans-20\" x=\"644.726562\"/>\n     <use xlink:href=\"#LiberationSans-77\" x=\"672.509766\"/>\n     <use xlink:href=\"#LiberationSans-6f\" x=\"744.726562\"/>\n     <use xlink:href=\"#LiberationSans-72\" x=\"800.341797\"/>\n     <use xlink:href=\"#LiberationSans-64\" x=\"833.642578\"/>\n     <use xlink:href=\"#LiberationSans-73\" x=\"889.257812\"/>\n     <use xlink:href=\"#LiberationSans-20\" x=\"939.257812\"/>\n     <use xlink:href=\"#LiberationSans-69\" x=\"967.041016\"/>\n     <use xlink:href=\"#LiberationSans-6e\" x=\"989.257812\"/>\n     <use xlink:href=\"#LiberationSans-20\" x=\"1044.873047\"/>\n     <use xlink:href=\"#LiberationSans-54\" x=\"1070.90625\"/>\n     <use xlink:href=\"#LiberationSans-4f\" x=\"1130.240234\"/>\n     <use xlink:href=\"#LiberationSans-50\" x=\"1208.023438\"/>\n     <use xlink:href=\"#LiberationSans-20\" x=\"1272.972656\"/>\n     <use xlink:href=\"#LiberationSans-31\" x=\"1300.755859\"/>\n     <use xlink:href=\"#LiberationSans-30\" x=\"1356.371094\"/>\n     <use xlink:href=\"#LiberationSans-30\" x=\"1411.986328\"/>\n     <use xlink:href=\"#LiberationSans-30\" x=\"1467.601562\"/>\n     <use xlink:href=\"#LiberationSans-20\" x=\"1523.216797\"/>\n     <use xlink:href=\"#LiberationSans-72\" x=\"1551\"/>\n     <use xlink:href=\"#LiberationSans-61\" x=\"1584.300781\"/>\n     <use xlink:href=\"#LiberationSans-74\" x=\"1639.916016\"/>\n     <use xlink:href=\"#LiberationSans-65\" x=\"1667.699219\"/>\n     <use xlink:href=\"#LiberationSans-64\" x=\"1723.314453\"/>\n     <use xlink:href=\"#LiberationSans-20\" x=\"1778.929688\"/>\n     <use xlink:href=\"#LiberationSans-6d\" x=\"1806.712891\"/>\n     <use xlink:href=\"#LiberationSans-6f\" x=\"1890.013672\"/>\n     <use xlink:href=\"#LiberationSans-76\" x=\"1945.628906\"/>\n     <use xlink:href=\"#LiberationSans-69\" x=\"1995.628906\"/>\n     <use xlink:href=\"#LiberationSans-65\" x=\"2017.845703\"/>\n     <use xlink:href=\"#LiberationSans-73\" x=\"2073.460938\"/>\n    </g>\n   </g>\n  </g>\n </g>\n <defs>\n  <clipPath id=\"pa9b230e204\">\n   <rect x=\"7.2\" y=\"31.317188\" width=\"554.4\" height=\"554.4\"/>\n  </clipPath>\n </defs>\n</svg>\n"
          },
          "metadata": {}
        }
      ],
      "source": [
        "import nltk\n",
        "nltk.download('stopwords')\n",
        "from nltk.corpus import stopwords\n",
        "from nltk.tokenize import RegexpTokenizer\n",
        "from wordcloud import WordCloud\n",
        "\n",
        "stop_words = set(stopwords.words('english'))\n",
        "tokenizer = RegexpTokenizer(r'\\w+')\n",
        "\n",
        "df_aux['overview'] = df_aux.overview.apply(lambda x : x.lower())\n",
        "df_aux['overview'] = df_aux.overview.apply(lambda x : tokenizer.tokenize(x))\n",
        "df_aux['overview'] = df_aux.overview.apply(lambda x : [w for w in x if w not in stop_words])\n",
        "df_aux['overview'] = df_aux.overview.apply(lambda x : ' '.join(x))\n",
        "\n",
        "word_count = df_aux.overview.apply(lambda x: pd.value_counts(x.split(\" \"))).sum(axis = 0).sort_values(ascending=False)\n",
        "word_count = pd.DataFrame({'word' : word_count.index, 'count': word_count.values})\n",
        "# Plot the WordCloud\n",
        "d = {}\n",
        "for a, x in word_count.values:\n",
        "    d[a] = x\n",
        "\n",
        "wordcloud = WordCloud(background_color = 'white',\n",
        "                      max_words = 50,\n",
        "                      width = 2000,\n",
        "                      height = 2000)\n",
        "wordcloud.generate_from_frequencies(frequencies=d)\n",
        "plt.rcParams['figure.figsize'] = (10, 10)\n",
        "plt.imshow(wordcloud, interpolation=\"bilinear\")\n",
        "plt.axis(\"off\")\n",
        "plt.title('Most Frequent words in TOP 1000 rated movies', fontsize = 25)\n",
        "plt.show();"
      ]
    },
    {
      "cell_type": "markdown",
      "metadata": {
        "id": "kMqgnUx2BV6L"
      },
      "source": [
        "The words \"Life\" and \"World\" are commons and connecting with other words like \"Love\", \"Family\", \"Father\" and \"Wife\", we caan conclude most of the movies are Family Friendly. <br>\n",
        "As we can see, the word \"Man\" have a big presence on the Word Cloud, and looking at the Top 10 Movies Rated most movies have a male protagonist. <br>\n",
        "This concludes the EDA and it's time to start to build the model."
      ]
    },
    {
      "cell_type": "code",
      "execution_count": null,
      "metadata": {
        "_kg_hide-input": true,
        "_kg_hide-output": true,
        "id": "Utb7eYwvBV6L",
        "outputId": "0aac624f-b755-4e30-c231-1600a13dd661",
        "colab": {
          "base_uri": "https://localhost:8080/"
        }
      },
      "outputs": [
        {
          "output_type": "execute_result",
          "data": {
            "text/plain": [
              "2886"
            ]
          },
          "metadata": {},
          "execution_count": 22
        }
      ],
      "source": [
        "del ratings, df_aux, df_movies\n",
        "gc.collect()"
      ]
    },
    {
      "cell_type": "markdown",
      "metadata": {
        "id": "rVIK4FkdBV6L"
      },
      "source": [
        "<br>\n",
        "<a id='bkground'></a>\n",
        "<div class=\"h2\"><center>Model using PySpark</center></div>\n",
        "<br>"
      ]
    },
    {
      "cell_type": "markdown",
      "metadata": {
        "id": "MOuX3L5OBV6L"
      },
      "source": [
        "Let's start importing all needed models and setting Spark."
      ]
    },
    {
      "cell_type": "code",
      "execution_count": null,
      "metadata": {
        "_kg_hide-output": true,
        "id": "mPbIZxEEBV6U"
      },
      "outputs": [],
      "source": [
        "import pyspark.sql.functions as sql_func\n",
        "from pyspark.sql.types import *\n",
        "from pyspark.ml.recommendation import ALS, ALSModel\n",
        "from pyspark.context import SparkContext\n",
        "from pyspark.sql.session import SparkSession\n",
        "from pyspark.mllib.evaluation import RegressionMetrics, RankingMetrics\n",
        "from pyspark.ml.evaluation import RegressionEvaluator\n",
        "\n",
        "sc = SparkContext('local')\n",
        "spark = SparkSession(sc)"
      ]
    },
    {
      "cell_type": "markdown",
      "metadata": {
        "id": "AKg-E4sWBV6V"
      },
      "source": [
        "Create the Schema."
      ]
    },
    {
      "cell_type": "code",
      "execution_count": null,
      "metadata": {
        "_kg_hide-output": true,
        "id": "DfWcllNWBV6V"
      },
      "outputs": [],
      "source": [
        "data_schema = StructType([\n",
        "    StructField('userId', IntegerType(), False),\n",
        "    StructField('movieId', IntegerType(), False),\n",
        "    StructField('rating', FloatType(), False),\n",
        "    StructField('timestamp',IntegerType(), False)\n",
        "])\n",
        "final_stat = spark.read.csv('/content/ratings.csv', header=True, schema=data_schema).cache()\n",
        "\n",
        "ratings = (final_stat.select('userId','movieId','rating')).cache()"
      ]
    },
    {
      "cell_type": "markdown",
      "metadata": {
        "id": "gOkeMwWBBV6V"
      },
      "source": [
        "Split in Train (70%) and Test (30%)."
      ]
    },
    {
      "cell_type": "code",
      "execution_count": null,
      "metadata": {
        "_kg_hide-input": true,
        "id": "UprZH6AeBV6V"
      },
      "outputs": [],
      "source": [
        "(training, test) = ratings.randomSplit([0.7, 0.3], seed=42)"
      ]
    },
    {
      "cell_type": "markdown",
      "metadata": {
        "id": "_HecYPZRBV6V"
      },
      "source": [
        "And train the model, the evaluation will be made on test set using Mean Absolute Error (MAE)."
      ]
    },
    {
      "cell_type": "code",
      "execution_count": null,
      "metadata": {
        "_kg_hide-input": true,
        "_kg_hide-output": true,
        "id": "bXxUUvItBV6W",
        "outputId": "d6abe7ce-8c72-44bc-d6d8-f19014edc2d4",
        "colab": {
          "base_uri": "https://localhost:8080/"
        }
      },
      "outputs": [
        {
          "output_type": "stream",
          "name": "stdout",
          "text": [
            "MAE (Test) = 0.6673722472097843\n"
          ]
        }
      ],
      "source": [
        "als = ALS(\n",
        "          rank=30,\n",
        "          maxIter=4,\n",
        "          regParam=0.1,\n",
        "          userCol='userId',\n",
        "          itemCol='movieId',\n",
        "          ratingCol='rating',\n",
        "          coldStartStrategy='drop',\n",
        "          implicitPrefs=False\n",
        "         )\n",
        "model = als.fit(training)\n",
        "\n",
        "predictions = model.transform(test)\n",
        "evaluator = RegressionEvaluator(metricName='mae', labelCol='rating',\n",
        "                                predictionCol='prediction')\n",
        "\n",
        "mae = evaluator.evaluate(predictions)\n",
        "print(f'MAE (Test) = {mae}')"
      ]
    },
    {
      "cell_type": "markdown",
      "metadata": {
        "id": "00zEIl-_BV6W"
      },
      "source": [
        "And finally, generate the Best recommendation for each user (User Based Recommendation System).\n",
        "The movieId, the first element in recommendations vector, is the same of ratings dataframe."
      ]
    },
    {
      "cell_type": "code",
      "execution_count": null,
      "metadata": {
        "_kg_hide-input": true,
        "id": "VUkwH_XNBV6W",
        "outputId": "86b384e1-65c4-4805-c4b0-99665ff8a4cc",
        "colab": {
          "base_uri": "https://localhost:8080/"
        }
      },
      "outputs": [
        {
          "output_type": "stream",
          "name": "stdout",
          "text": [
            "+------+-------------------+\n",
            "|userId|    recommendations|\n",
            "+------+-------------------+\n",
            "|     1|[{60983, 6.104841}]|\n",
            "|     2| [{95776, 4.65278}]|\n",
            "|     3|[{171603, 4.00956}]|\n",
            "|     4|[{51380, 5.337099}]|\n",
            "|     5|[{60983, 5.843824}]|\n",
            "+------+-------------------+\n",
            "only showing top 5 rows\n",
            "\n"
          ]
        }
      ],
      "source": [
        "model.recommendForAllUsers(1).show(5)"
      ]
    },
    {
      "cell_type": "markdown",
      "metadata": {
        "id": "qafdjuyNBV6W"
      },
      "source": [
        "Let's see which movie was recommended for a particular userId."
      ]
    },
    {
      "cell_type": "code",
      "execution_count": null,
      "metadata": {
        "_kg_hide-input": true,
        "id": "MwujAbfnBV6W",
        "outputId": "9c438b7f-e28c-470d-d0f0-f69000983b61",
        "colab": {
          "base_uri": "https://localhost:8080/",
          "height": 81
        }
      },
      "outputs": [
        {
          "output_type": "execute_result",
          "data": {
            "text/plain": [
              "          title                                           overview  \\\n",
              "0  Hate Story 2  The movie is a revenge thriller with Surveen C...   \n",
              "\n",
              "   vote_average release_date  \n",
              "0           4.5   2014-07-18  "
            ],
            "text/html": [
              "\n",
              "  <div id=\"df-d1e9eba3-ab85-4514-b63a-e31463bf274f\">\n",
              "    <div class=\"colab-df-container\">\n",
              "      <div>\n",
              "<style scoped>\n",
              "    .dataframe tbody tr th:only-of-type {\n",
              "        vertical-align: middle;\n",
              "    }\n",
              "\n",
              "    .dataframe tbody tr th {\n",
              "        vertical-align: top;\n",
              "    }\n",
              "\n",
              "    .dataframe thead th {\n",
              "        text-align: right;\n",
              "    }\n",
              "</style>\n",
              "<table border=\"1\" class=\"dataframe\">\n",
              "  <thead>\n",
              "    <tr style=\"text-align: right;\">\n",
              "      <th></th>\n",
              "      <th>title</th>\n",
              "      <th>overview</th>\n",
              "      <th>vote_average</th>\n",
              "      <th>release_date</th>\n",
              "    </tr>\n",
              "  </thead>\n",
              "  <tbody>\n",
              "    <tr>\n",
              "      <th>0</th>\n",
              "      <td>Hate Story 2</td>\n",
              "      <td>The movie is a revenge thriller with Surveen C...</td>\n",
              "      <td>4.5</td>\n",
              "      <td>2014-07-18</td>\n",
              "    </tr>\n",
              "  </tbody>\n",
              "</table>\n",
              "</div>\n",
              "      <button class=\"colab-df-convert\" onclick=\"convertToInteractive('df-d1e9eba3-ab85-4514-b63a-e31463bf274f')\"\n",
              "              title=\"Convert this dataframe to an interactive table.\"\n",
              "              style=\"display:none;\">\n",
              "        \n",
              "  <svg xmlns=\"http://www.w3.org/2000/svg\" height=\"24px\"viewBox=\"0 0 24 24\"\n",
              "       width=\"24px\">\n",
              "    <path d=\"M0 0h24v24H0V0z\" fill=\"none\"/>\n",
              "    <path d=\"M18.56 5.44l.94 2.06.94-2.06 2.06-.94-2.06-.94-.94-2.06-.94 2.06-2.06.94zm-11 1L8.5 8.5l.94-2.06 2.06-.94-2.06-.94L8.5 2.5l-.94 2.06-2.06.94zm10 10l.94 2.06.94-2.06 2.06-.94-2.06-.94-.94-2.06-.94 2.06-2.06.94z\"/><path d=\"M17.41 7.96l-1.37-1.37c-.4-.4-.92-.59-1.43-.59-.52 0-1.04.2-1.43.59L10.3 9.45l-7.72 7.72c-.78.78-.78 2.05 0 2.83L4 21.41c.39.39.9.59 1.41.59.51 0 1.02-.2 1.41-.59l7.78-7.78 2.81-2.81c.8-.78.8-2.07 0-2.86zM5.41 20L4 18.59l7.72-7.72 1.47 1.35L5.41 20z\"/>\n",
              "  </svg>\n",
              "      </button>\n",
              "      \n",
              "  <style>\n",
              "    .colab-df-container {\n",
              "      display:flex;\n",
              "      flex-wrap:wrap;\n",
              "      gap: 12px;\n",
              "    }\n",
              "\n",
              "    .colab-df-convert {\n",
              "      background-color: #E8F0FE;\n",
              "      border: none;\n",
              "      border-radius: 50%;\n",
              "      cursor: pointer;\n",
              "      display: none;\n",
              "      fill: #1967D2;\n",
              "      height: 32px;\n",
              "      padding: 0 0 0 0;\n",
              "      width: 32px;\n",
              "    }\n",
              "\n",
              "    .colab-df-convert:hover {\n",
              "      background-color: #E2EBFA;\n",
              "      box-shadow: 0px 1px 2px rgba(60, 64, 67, 0.3), 0px 1px 3px 1px rgba(60, 64, 67, 0.15);\n",
              "      fill: #174EA6;\n",
              "    }\n",
              "\n",
              "    [theme=dark] .colab-df-convert {\n",
              "      background-color: #3B4455;\n",
              "      fill: #D2E3FC;\n",
              "    }\n",
              "\n",
              "    [theme=dark] .colab-df-convert:hover {\n",
              "      background-color: #434B5C;\n",
              "      box-shadow: 0px 1px 3px 1px rgba(0, 0, 0, 0.15);\n",
              "      filter: drop-shadow(0px 1px 2px rgba(0, 0, 0, 0.3));\n",
              "      fill: #FFFFFF;\n",
              "    }\n",
              "  </style>\n",
              "\n",
              "      <script>\n",
              "        const buttonEl =\n",
              "          document.querySelector('#df-d1e9eba3-ab85-4514-b63a-e31463bf274f button.colab-df-convert');\n",
              "        buttonEl.style.display =\n",
              "          google.colab.kernel.accessAllowed ? 'block' : 'none';\n",
              "\n",
              "        async function convertToInteractive(key) {\n",
              "          const element = document.querySelector('#df-d1e9eba3-ab85-4514-b63a-e31463bf274f');\n",
              "          const dataTable =\n",
              "            await google.colab.kernel.invokeFunction('convertToInteractive',\n",
              "                                                     [key], {});\n",
              "          if (!dataTable) return;\n",
              "\n",
              "          const docLinkHtml = 'Like what you see? Visit the ' +\n",
              "            '<a target=\"_blank\" href=https://colab.research.google.com/notebooks/data_table.ipynb>data table notebook</a>'\n",
              "            + ' to learn more about interactive tables.';\n",
              "          element.innerHTML = '';\n",
              "          dataTable['output_type'] = 'display_data';\n",
              "          await google.colab.output.renderOutput(dataTable, element);\n",
              "          const docLink = document.createElement('div');\n",
              "          docLink.innerHTML = docLinkHtml;\n",
              "          element.appendChild(docLink);\n",
              "        }\n",
              "      </script>\n",
              "    </div>\n",
              "  </div>\n",
              "  "
            ]
          },
          "metadata": {},
          "execution_count": 28
        }
      ],
      "source": [
        "get_movie_metadata(156589)"
      ]
    },
    {
      "cell_type": "markdown",
      "metadata": {
        "id": "Zkx-NbRqBV6X"
      },
      "source": [
        "Show the most recommended user for each movie (Item Based Recommendation System).\n",
        "Again, the movieId is the same of ratings dataframe."
      ]
    },
    {
      "cell_type": "code",
      "execution_count": null,
      "metadata": {
        "_kg_hide-input": true,
        "id": "AoC12Ez6BV6X",
        "outputId": "16bcc90c-1484-48c2-ae4f-f13b75abe860",
        "colab": {
          "base_uri": "https://localhost:8080/"
        }
      },
      "outputs": [
        {
          "output_type": "stream",
          "name": "stdout",
          "text": [
            "+-------+--------------------+\n",
            "|movieId|     recommendations|\n",
            "+-------+--------------------+\n",
            "|      1| [{1729, 5.0524607}]|\n",
            "|      2| [{5517, 4.7457924}]|\n",
            "|      3| [{8535, 4.7531295}]|\n",
            "|      4|[{10116, 4.4815817}]|\n",
            "|      5|[{12290, 4.6578584}]|\n",
            "+-------+--------------------+\n",
            "only showing top 5 rows\n",
            "\n"
          ]
        }
      ],
      "source": [
        "model.recommendForAllItems(1).show(5)"
      ]
    }
  ],
  "metadata": {
    "kernelspec": {
      "display_name": "Python 3",
      "language": "python",
      "name": "python3"
    },
    "language_info": {
      "codemirror_mode": {
        "name": "ipython",
        "version": 3
      },
      "file_extension": ".py",
      "mimetype": "text/x-python",
      "name": "python",
      "nbconvert_exporter": "python",
      "pygments_lexer": "ipython3",
      "version": "3.6.6"
    },
    "colab": {
      "provenance": []
    }
  },
  "nbformat": 4,
  "nbformat_minor": 0
}